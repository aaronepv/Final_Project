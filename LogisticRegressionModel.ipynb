{
 "cells": [
  {
   "cell_type": "code",
   "execution_count": 1,
   "metadata": {},
   "outputs": [],
   "source": [
    "import numpy as np\n",
    "import pandas as pd\n",
    "import matplotlib.pyplot as plt\n",
    "import seaborn as sns\n",
    "from sklearn import metrics"
   ]
  },
  {
   "cell_type": "code",
   "execution_count": 2,
   "metadata": {},
   "outputs": [],
   "source": [
    "from sklearn.preprocessing import LabelEncoder\n",
    "from sklearn.preprocessing import StandardScaler\n",
    "from sklearn.model_selection import train_test_split\n",
    "from sklearn.linear_model import LogisticRegression\n",
    "from sklearn.metrics import confusion_matrix, accuracy_score\n",
    "from sklearn.impute import SimpleImputer\n",
    "from sklearn.model_selection import GridSearchCV"
   ]
  },
  {
   "cell_type": "markdown",
   "metadata": {},
   "source": [
    "## The modifications of the data set (data1 =modeling_numeric.csv)\n",
    "\n",
    "  ### We have to drop some unnecessary columns that we saw in the feature_importances_.\n",
    "    * \"R_fighter\",\"B_fighter\",\"Referee\",\"date\",\"location\",\"R_draw\",\"B_draw\",\"no_of_rounds\",\"R_wins\",\"B_wins\",\n",
    "    * \"R_losses\",\"B_losses\",\"B_total_title_bouts\",\"R_total_title_bouts\",\"R_total_rounds_fought\",\"B_total_rounds_fought\",           * \"R_total_time_fought(seconds)\",\"B_total_time_fought(seconds)\",\"R_longest_win_streak\",\"B_longest_win_streak\",\n",
    "    * \"R_current_lose_streak\",\"B_current_lose_streak\",'R_win_by_Decision_Majority','R_win_by_Decision_Split',\n",
    "    * 'R_win_by_Decision_Unanimous', 'R_win_by_KO/TKO',\"R_win_by_Submission','R_win_by_TKO_Doctor_Stoppage',\n",
    "    * \"B_current_win_streak\",'B_win_by_Decision_Majority','B_win_by_Decision_Split','B_win_by_Decision_Unanimous',\n",
    "    * 'B_win_by_KO/TKO', 'B_win_by_Submission','B_win_by_TKO_Doctor_Stoppage',\"title_bout\",\n",
    "    * \"R_current_win_streak\",'R_Stance','B_Stance',\"title_bout\",\"weight_diff_red-blue\", \"height_diff_red-blue\"\n",
    "    \n",
    " ### We applied an OrdinalEncoder to the weight_class\n",
    " ### We dropped from winner the Draw results because did not help us for the prediction and after we chaged to binary  1=Red Winner , 0= Blue Winner\n",
    " ### In this data set all the Null values were replaced and deleted."
   ]
  },
  {
   "cell_type": "code",
   "execution_count": 35,
   "metadata": {},
   "outputs": [],
   "source": [
    "data1=pd.read_csv(\"data/modeling_numeric.csv\", index_col=None) # Less Columns"
   ]
  },
  {
   "cell_type": "code",
   "execution_count": 6,
   "metadata": {},
   "outputs": [
    {
     "data": {
      "text/html": [
       "<div>\n",
       "<style scoped>\n",
       "    .dataframe tbody tr th:only-of-type {\n",
       "        vertical-align: middle;\n",
       "    }\n",
       "\n",
       "    .dataframe tbody tr th {\n",
       "        vertical-align: top;\n",
       "    }\n",
       "\n",
       "    .dataframe thead th {\n",
       "        text-align: right;\n",
       "    }\n",
       "</style>\n",
       "<table border=\"1\" class=\"dataframe\">\n",
       "  <thead>\n",
       "    <tr style=\"text-align: right;\">\n",
       "      <th></th>\n",
       "      <th>Winner</th>\n",
       "      <th>weight_class</th>\n",
       "      <th>B_avg_BODY_att</th>\n",
       "      <th>B_avg_BODY_landed</th>\n",
       "      <th>B_avg_CLINCH_att</th>\n",
       "      <th>B_avg_CLINCH_landed</th>\n",
       "      <th>B_avg_DISTANCE_att</th>\n",
       "      <th>B_avg_DISTANCE_landed</th>\n",
       "      <th>B_avg_GROUND_att</th>\n",
       "      <th>B_avg_GROUND_landed</th>\n",
       "      <th>...</th>\n",
       "      <th>R_avg_opp_TD_att</th>\n",
       "      <th>R_avg_opp_TD_landed</th>\n",
       "      <th>R_avg_opp_TD_pct</th>\n",
       "      <th>R_avg_opp_TOTAL_STR_att</th>\n",
       "      <th>R_avg_opp_TOTAL_STR_landed</th>\n",
       "      <th>R_Height_cms</th>\n",
       "      <th>R_Reach_cms</th>\n",
       "      <th>R_Weight_lbs</th>\n",
       "      <th>B_age</th>\n",
       "      <th>R_age</th>\n",
       "    </tr>\n",
       "  </thead>\n",
       "  <tbody>\n",
       "    <tr>\n",
       "      <td>0</td>\n",
       "      <td>1</td>\n",
       "      <td>4</td>\n",
       "      <td>9.200000</td>\n",
       "      <td>6.000000</td>\n",
       "      <td>0.200000</td>\n",
       "      <td>0.000000</td>\n",
       "      <td>62.600000</td>\n",
       "      <td>20.600000</td>\n",
       "      <td>2.600000</td>\n",
       "      <td>2.000000</td>\n",
       "      <td>...</td>\n",
       "      <td>0.900000</td>\n",
       "      <td>0.100000</td>\n",
       "      <td>0.050000</td>\n",
       "      <td>110.500000</td>\n",
       "      <td>43.300000</td>\n",
       "      <td>162.56</td>\n",
       "      <td>162.56</td>\n",
       "      <td>135.0</td>\n",
       "      <td>31.0</td>\n",
       "      <td>32.0</td>\n",
       "    </tr>\n",
       "    <tr>\n",
       "      <td>1</td>\n",
       "      <td>1</td>\n",
       "      <td>3</td>\n",
       "      <td>14.600000</td>\n",
       "      <td>9.100000</td>\n",
       "      <td>11.800000</td>\n",
       "      <td>7.300000</td>\n",
       "      <td>124.700000</td>\n",
       "      <td>42.100000</td>\n",
       "      <td>2.400000</td>\n",
       "      <td>1.900000</td>\n",
       "      <td>...</td>\n",
       "      <td>3.285714</td>\n",
       "      <td>0.857143</td>\n",
       "      <td>0.147143</td>\n",
       "      <td>158.142857</td>\n",
       "      <td>82.285714</td>\n",
       "      <td>165.10</td>\n",
       "      <td>167.64</td>\n",
       "      <td>125.0</td>\n",
       "      <td>32.0</td>\n",
       "      <td>31.0</td>\n",
       "    </tr>\n",
       "    <tr>\n",
       "      <td>2</td>\n",
       "      <td>1</td>\n",
       "      <td>8</td>\n",
       "      <td>15.354839</td>\n",
       "      <td>11.322581</td>\n",
       "      <td>6.741935</td>\n",
       "      <td>4.387097</td>\n",
       "      <td>84.741935</td>\n",
       "      <td>38.580645</td>\n",
       "      <td>5.516129</td>\n",
       "      <td>3.806452</td>\n",
       "      <td>...</td>\n",
       "      <td>2.866667</td>\n",
       "      <td>0.666667</td>\n",
       "      <td>0.131333</td>\n",
       "      <td>102.133333</td>\n",
       "      <td>38.600000</td>\n",
       "      <td>180.34</td>\n",
       "      <td>193.04</td>\n",
       "      <td>155.0</td>\n",
       "      <td>36.0</td>\n",
       "      <td>35.0</td>\n",
       "    </tr>\n",
       "    <tr>\n",
       "      <td>3</td>\n",
       "      <td>0</td>\n",
       "      <td>4</td>\n",
       "      <td>17.000000</td>\n",
       "      <td>14.000000</td>\n",
       "      <td>13.750000</td>\n",
       "      <td>11.000000</td>\n",
       "      <td>109.500000</td>\n",
       "      <td>48.750000</td>\n",
       "      <td>13.000000</td>\n",
       "      <td>10.500000</td>\n",
       "      <td>...</td>\n",
       "      <td>2.375000</td>\n",
       "      <td>0.000000</td>\n",
       "      <td>0.000000</td>\n",
       "      <td>115.125000</td>\n",
       "      <td>48.875000</td>\n",
       "      <td>162.56</td>\n",
       "      <td>172.72</td>\n",
       "      <td>135.0</td>\n",
       "      <td>26.0</td>\n",
       "      <td>29.0</td>\n",
       "    </tr>\n",
       "    <tr>\n",
       "      <td>4</td>\n",
       "      <td>0</td>\n",
       "      <td>12</td>\n",
       "      <td>17.000000</td>\n",
       "      <td>14.500000</td>\n",
       "      <td>2.500000</td>\n",
       "      <td>2.000000</td>\n",
       "      <td>201.000000</td>\n",
       "      <td>59.500000</td>\n",
       "      <td>0.000000</td>\n",
       "      <td>0.000000</td>\n",
       "      <td>...</td>\n",
       "      <td>1.000000</td>\n",
       "      <td>0.000000</td>\n",
       "      <td>0.000000</td>\n",
       "      <td>60.500000</td>\n",
       "      <td>27.750000</td>\n",
       "      <td>187.96</td>\n",
       "      <td>190.50</td>\n",
       "      <td>264.0</td>\n",
       "      <td>32.0</td>\n",
       "      <td>26.0</td>\n",
       "    </tr>\n",
       "  </tbody>\n",
       "</table>\n",
       "<p>5 rows × 106 columns</p>\n",
       "</div>"
      ],
      "text/plain": [
       "   Winner  weight_class  B_avg_BODY_att  B_avg_BODY_landed  B_avg_CLINCH_att  \\\n",
       "0       1             4        9.200000           6.000000          0.200000   \n",
       "1       1             3       14.600000           9.100000         11.800000   \n",
       "2       1             8       15.354839          11.322581          6.741935   \n",
       "3       0             4       17.000000          14.000000         13.750000   \n",
       "4       0            12       17.000000          14.500000          2.500000   \n",
       "\n",
       "   B_avg_CLINCH_landed  B_avg_DISTANCE_att  B_avg_DISTANCE_landed  \\\n",
       "0             0.000000           62.600000              20.600000   \n",
       "1             7.300000          124.700000              42.100000   \n",
       "2             4.387097           84.741935              38.580645   \n",
       "3            11.000000          109.500000              48.750000   \n",
       "4             2.000000          201.000000              59.500000   \n",
       "\n",
       "   B_avg_GROUND_att  B_avg_GROUND_landed  ...  R_avg_opp_TD_att  \\\n",
       "0          2.600000             2.000000  ...          0.900000   \n",
       "1          2.400000             1.900000  ...          3.285714   \n",
       "2          5.516129             3.806452  ...          2.866667   \n",
       "3         13.000000            10.500000  ...          2.375000   \n",
       "4          0.000000             0.000000  ...          1.000000   \n",
       "\n",
       "   R_avg_opp_TD_landed  R_avg_opp_TD_pct  R_avg_opp_TOTAL_STR_att  \\\n",
       "0             0.100000          0.050000               110.500000   \n",
       "1             0.857143          0.147143               158.142857   \n",
       "2             0.666667          0.131333               102.133333   \n",
       "3             0.000000          0.000000               115.125000   \n",
       "4             0.000000          0.000000                60.500000   \n",
       "\n",
       "   R_avg_opp_TOTAL_STR_landed  R_Height_cms  R_Reach_cms  R_Weight_lbs  B_age  \\\n",
       "0                   43.300000        162.56       162.56         135.0   31.0   \n",
       "1                   82.285714        165.10       167.64         125.0   32.0   \n",
       "2                   38.600000        180.34       193.04         155.0   36.0   \n",
       "3                   48.875000        162.56       172.72         135.0   26.0   \n",
       "4                   27.750000        187.96       190.50         264.0   32.0   \n",
       "\n",
       "   R_age  \n",
       "0   32.0  \n",
       "1   31.0  \n",
       "2   35.0  \n",
       "3   29.0  \n",
       "4   26.0  \n",
       "\n",
       "[5 rows x 106 columns]"
      ]
     },
     "execution_count": 6,
     "metadata": {},
     "output_type": "execute_result"
    }
   ],
   "source": [
    "data1.head()"
   ]
  },
  {
   "cell_type": "code",
   "execution_count": 36,
   "metadata": {},
   "outputs": [],
   "source": [
    "data1.drop(columns=[ \"title_bout\",\"weight_diff_red-blue\",\"height_diff_red-blue\"], inplace=True)"
   ]
  },
  {
   "cell_type": "code",
   "execution_count": 37,
   "metadata": {},
   "outputs": [],
   "source": [
    "X1=data1.drop('Winner',axis=1,inplace=False)\n",
    "y1 = data1['Winner']\n",
    "\n",
    "X_train1, X_test1, y_train1, y_test1 = train_test_split(X1, y1, test_size=0.33, random_state=69)"
   ]
  },
  {
   "cell_type": "code",
   "execution_count": 39,
   "metadata": {},
   "outputs": [
    {
     "data": {
      "text/plain": [
       "LogisticRegression(max_iter=8000)"
      ]
     },
     "execution_count": 39,
     "metadata": {},
     "output_type": "execute_result"
    }
   ],
   "source": [
    "model = LogisticRegression(max_iter=8000)\n",
    "model.fit(X_train1, y_train1)"
   ]
  },
  {
   "cell_type": "code",
   "execution_count": 40,
   "metadata": {
    "scrolled": true
   },
   "outputs": [
    {
     "data": {
      "text/plain": [
       "0.6803611738148985"
      ]
     },
     "execution_count": 40,
     "metadata": {},
     "output_type": "execute_result"
    }
   ],
   "source": [
    "model.score(X_train1,y_train1)"
   ]
  },
  {
   "cell_type": "code",
   "execution_count": 41,
   "metadata": {},
   "outputs": [
    {
     "name": "stdout",
     "output_type": "stream",
     "text": [
      "              precision    recall  f1-score   support\n",
      "\n",
      "           0       0.52      0.32      0.40       384\n",
      "           1       0.69      0.84      0.76       708\n",
      "\n",
      "    accuracy                           0.66      1092\n",
      "   macro avg       0.61      0.58      0.58      1092\n",
      "weighted avg       0.63      0.66      0.63      1092\n",
      "\n"
     ]
    }
   ],
   "source": [
    "from sklearn.metrics import classification_report\n",
    "y_pred = model.predict(X_test1)\n",
    "print(classification_report(y_test1,y_pred))"
   ]
  },
  {
   "cell_type": "code",
   "execution_count": null,
   "metadata": {},
   "outputs": [],
   "source": []
  }
 ],
 "metadata": {
  "kernelspec": {
   "display_name": "Python 3",
   "language": "python",
   "name": "python3"
  },
  "language_info": {
   "codemirror_mode": {
    "name": "ipython",
    "version": 3
   },
   "file_extension": ".py",
   "mimetype": "text/x-python",
   "name": "python",
   "nbconvert_exporter": "python",
   "pygments_lexer": "ipython3",
   "version": "3.7.6"
  }
 },
 "nbformat": 4,
 "nbformat_minor": 4
}
