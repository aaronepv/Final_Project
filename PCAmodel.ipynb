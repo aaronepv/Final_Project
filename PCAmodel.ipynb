{
 "cells": [
  {
   "cell_type": "code",
   "execution_count": 1,
   "metadata": {},
   "outputs": [],
   "source": [
    "import matplotlib.pyplot as plt\n",
    "import numpy as np\n",
    "import pandas as pd\n",
    "import seaborn as sns"
   ]
  },
  {
   "cell_type": "code",
   "execution_count": 2,
   "metadata": {},
   "outputs": [],
   "source": [
    "plt.rcParams[\"figure.figsize\"] = (10, 6)"
   ]
  },
  {
   "cell_type": "markdown",
   "metadata": {},
   "source": [
    "## The modifications of the data set (data1 =modeling_numeric.csv)\n",
    "\n",
    "  ### We have to drop some unnecessary columns that we saw in the feature_importances_.\n",
    "    * \"R_fighter\",\"B_fighter\",\"Referee\",\"date\",\"location\",\"R_draw\",\"B_draw\",\"no_of_rounds\",\"R_wins\",\"B_wins\",\n",
    "    * \"R_losses\",\"B_losses\",\"B_total_title_bouts\",\"R_total_title_bouts\",\"R_total_rounds_fought\",\"B_total_rounds_fought\",           * \"R_total_time_fought(seconds)\",\"B_total_time_fought(seconds)\",\"R_longest_win_streak\",\"B_longest_win_streak\",\n",
    "    * \"R_current_lose_streak\",\"B_current_lose_streak\",'R_win_by_Decision_Majority','R_win_by_Decision_Split',\n",
    "    * 'R_win_by_Decision_Unanimous', 'R_win_by_KO/TKO',\"R_win_by_Submission','R_win_by_TKO_Doctor_Stoppage',\n",
    "    * \"B_current_win_streak\",'B_win_by_Decision_Majority','B_win_by_Decision_Split','B_win_by_Decision_Unanimous',\n",
    "    * 'B_win_by_KO/TKO', 'B_win_by_Submission','B_win_by_TKO_Doctor_Stoppage',\"title_bout\",\n",
    "    * \"R_current_win_streak\",'R_Stance','B_Stance',\"title_bout\",\"weight_diff_red-blue\", \"height_diff_red-blue\"\n",
    "    \n",
    " ### We applied an OrdinalEncoder to the weight_class\n",
    " ### We dropped from winner the Draw results because did not help us for the prediction and after we chaged to binary  1=Red Winner , 0= Blue Winner\n",
    " ### In this data set all the Null values were replaced and deleted."
   ]
  },
  {
   "cell_type": "code",
   "execution_count": 3,
   "metadata": {},
   "outputs": [],
   "source": [
    "data1=pd.read_csv(\"data/modeling_numeric.csv\", index_col=None) # Less Columns"
   ]
  },
  {
   "cell_type": "code",
   "execution_count": 4,
   "metadata": {
    "scrolled": true
   },
   "outputs": [
    {
     "data": {
      "text/html": [
       "<div>\n",
       "<style scoped>\n",
       "    .dataframe tbody tr th:only-of-type {\n",
       "        vertical-align: middle;\n",
       "    }\n",
       "\n",
       "    .dataframe tbody tr th {\n",
       "        vertical-align: top;\n",
       "    }\n",
       "\n",
       "    .dataframe thead th {\n",
       "        text-align: right;\n",
       "    }\n",
       "</style>\n",
       "<table border=\"1\" class=\"dataframe\">\n",
       "  <thead>\n",
       "    <tr style=\"text-align: right;\">\n",
       "      <th></th>\n",
       "      <th>Winner</th>\n",
       "      <th>title_bout</th>\n",
       "      <th>weight_class</th>\n",
       "      <th>B_avg_BODY_att</th>\n",
       "      <th>B_avg_BODY_landed</th>\n",
       "      <th>B_avg_CLINCH_att</th>\n",
       "      <th>B_avg_CLINCH_landed</th>\n",
       "      <th>B_avg_DISTANCE_att</th>\n",
       "      <th>B_avg_DISTANCE_landed</th>\n",
       "      <th>B_avg_GROUND_att</th>\n",
       "      <th>...</th>\n",
       "      <th>R_avg_opp_TD_pct</th>\n",
       "      <th>R_avg_opp_TOTAL_STR_att</th>\n",
       "      <th>R_avg_opp_TOTAL_STR_landed</th>\n",
       "      <th>R_Height_cms</th>\n",
       "      <th>R_Reach_cms</th>\n",
       "      <th>R_Weight_lbs</th>\n",
       "      <th>B_age</th>\n",
       "      <th>R_age</th>\n",
       "      <th>weight_diff_red-blue</th>\n",
       "      <th>height_diff_red-blue</th>\n",
       "    </tr>\n",
       "  </thead>\n",
       "  <tbody>\n",
       "    <tr>\n",
       "      <td>0</td>\n",
       "      <td>1</td>\n",
       "      <td>1</td>\n",
       "      <td>4</td>\n",
       "      <td>9.200000</td>\n",
       "      <td>6.000000</td>\n",
       "      <td>0.200000</td>\n",
       "      <td>0.000000</td>\n",
       "      <td>62.600000</td>\n",
       "      <td>20.600000</td>\n",
       "      <td>2.600000</td>\n",
       "      <td>...</td>\n",
       "      <td>0.050000</td>\n",
       "      <td>110.500000</td>\n",
       "      <td>43.300000</td>\n",
       "      <td>162.56</td>\n",
       "      <td>162.56</td>\n",
       "      <td>135.0</td>\n",
       "      <td>31.0</td>\n",
       "      <td>32.0</td>\n",
       "      <td>0.0</td>\n",
       "      <td>-5.08</td>\n",
       "    </tr>\n",
       "    <tr>\n",
       "      <td>1</td>\n",
       "      <td>1</td>\n",
       "      <td>1</td>\n",
       "      <td>3</td>\n",
       "      <td>14.600000</td>\n",
       "      <td>9.100000</td>\n",
       "      <td>11.800000</td>\n",
       "      <td>7.300000</td>\n",
       "      <td>124.700000</td>\n",
       "      <td>42.100000</td>\n",
       "      <td>2.400000</td>\n",
       "      <td>...</td>\n",
       "      <td>0.147143</td>\n",
       "      <td>158.142857</td>\n",
       "      <td>82.285714</td>\n",
       "      <td>165.10</td>\n",
       "      <td>167.64</td>\n",
       "      <td>125.0</td>\n",
       "      <td>32.0</td>\n",
       "      <td>31.0</td>\n",
       "      <td>0.0</td>\n",
       "      <td>-2.54</td>\n",
       "    </tr>\n",
       "    <tr>\n",
       "      <td>2</td>\n",
       "      <td>1</td>\n",
       "      <td>0</td>\n",
       "      <td>8</td>\n",
       "      <td>15.354839</td>\n",
       "      <td>11.322581</td>\n",
       "      <td>6.741935</td>\n",
       "      <td>4.387097</td>\n",
       "      <td>84.741935</td>\n",
       "      <td>38.580645</td>\n",
       "      <td>5.516129</td>\n",
       "      <td>...</td>\n",
       "      <td>0.131333</td>\n",
       "      <td>102.133333</td>\n",
       "      <td>38.600000</td>\n",
       "      <td>180.34</td>\n",
       "      <td>193.04</td>\n",
       "      <td>155.0</td>\n",
       "      <td>36.0</td>\n",
       "      <td>35.0</td>\n",
       "      <td>0.0</td>\n",
       "      <td>-5.08</td>\n",
       "    </tr>\n",
       "    <tr>\n",
       "      <td>3</td>\n",
       "      <td>0</td>\n",
       "      <td>0</td>\n",
       "      <td>4</td>\n",
       "      <td>17.000000</td>\n",
       "      <td>14.000000</td>\n",
       "      <td>13.750000</td>\n",
       "      <td>11.000000</td>\n",
       "      <td>109.500000</td>\n",
       "      <td>48.750000</td>\n",
       "      <td>13.000000</td>\n",
       "      <td>...</td>\n",
       "      <td>0.000000</td>\n",
       "      <td>115.125000</td>\n",
       "      <td>48.875000</td>\n",
       "      <td>162.56</td>\n",
       "      <td>172.72</td>\n",
       "      <td>135.0</td>\n",
       "      <td>26.0</td>\n",
       "      <td>29.0</td>\n",
       "      <td>0.0</td>\n",
       "      <td>-7.62</td>\n",
       "    </tr>\n",
       "    <tr>\n",
       "      <td>4</td>\n",
       "      <td>0</td>\n",
       "      <td>0</td>\n",
       "      <td>12</td>\n",
       "      <td>17.000000</td>\n",
       "      <td>14.500000</td>\n",
       "      <td>2.500000</td>\n",
       "      <td>2.000000</td>\n",
       "      <td>201.000000</td>\n",
       "      <td>59.500000</td>\n",
       "      <td>0.000000</td>\n",
       "      <td>...</td>\n",
       "      <td>0.000000</td>\n",
       "      <td>60.500000</td>\n",
       "      <td>27.750000</td>\n",
       "      <td>187.96</td>\n",
       "      <td>190.50</td>\n",
       "      <td>264.0</td>\n",
       "      <td>32.0</td>\n",
       "      <td>26.0</td>\n",
       "      <td>14.0</td>\n",
       "      <td>7.62</td>\n",
       "    </tr>\n",
       "  </tbody>\n",
       "</table>\n",
       "<p>5 rows × 109 columns</p>\n",
       "</div>"
      ],
      "text/plain": [
       "   Winner  title_bout  weight_class  B_avg_BODY_att  B_avg_BODY_landed  \\\n",
       "0       1           1             4        9.200000           6.000000   \n",
       "1       1           1             3       14.600000           9.100000   \n",
       "2       1           0             8       15.354839          11.322581   \n",
       "3       0           0             4       17.000000          14.000000   \n",
       "4       0           0            12       17.000000          14.500000   \n",
       "\n",
       "   B_avg_CLINCH_att  B_avg_CLINCH_landed  B_avg_DISTANCE_att  \\\n",
       "0          0.200000             0.000000           62.600000   \n",
       "1         11.800000             7.300000          124.700000   \n",
       "2          6.741935             4.387097           84.741935   \n",
       "3         13.750000            11.000000          109.500000   \n",
       "4          2.500000             2.000000          201.000000   \n",
       "\n",
       "   B_avg_DISTANCE_landed  B_avg_GROUND_att  ...  R_avg_opp_TD_pct  \\\n",
       "0              20.600000          2.600000  ...          0.050000   \n",
       "1              42.100000          2.400000  ...          0.147143   \n",
       "2              38.580645          5.516129  ...          0.131333   \n",
       "3              48.750000         13.000000  ...          0.000000   \n",
       "4              59.500000          0.000000  ...          0.000000   \n",
       "\n",
       "   R_avg_opp_TOTAL_STR_att  R_avg_opp_TOTAL_STR_landed  R_Height_cms  \\\n",
       "0               110.500000                   43.300000        162.56   \n",
       "1               158.142857                   82.285714        165.10   \n",
       "2               102.133333                   38.600000        180.34   \n",
       "3               115.125000                   48.875000        162.56   \n",
       "4                60.500000                   27.750000        187.96   \n",
       "\n",
       "   R_Reach_cms  R_Weight_lbs  B_age  R_age  weight_diff_red-blue  \\\n",
       "0       162.56         135.0   31.0   32.0                   0.0   \n",
       "1       167.64         125.0   32.0   31.0                   0.0   \n",
       "2       193.04         155.0   36.0   35.0                   0.0   \n",
       "3       172.72         135.0   26.0   29.0                   0.0   \n",
       "4       190.50         264.0   32.0   26.0                  14.0   \n",
       "\n",
       "   height_diff_red-blue  \n",
       "0                 -5.08  \n",
       "1                 -2.54  \n",
       "2                 -5.08  \n",
       "3                 -7.62  \n",
       "4                  7.62  \n",
       "\n",
       "[5 rows x 109 columns]"
      ]
     },
     "execution_count": 4,
     "metadata": {},
     "output_type": "execute_result"
    }
   ],
   "source": [
    "data1.head()"
   ]
  },
  {
   "cell_type": "code",
   "execution_count": 5,
   "metadata": {},
   "outputs": [],
   "source": [
    "data1.drop(columns=[ \"title_bout\",\"weight_diff_red-blue\",\"height_diff_red-blue\"], inplace=True)"
   ]
  },
  {
   "cell_type": "code",
   "execution_count": 7,
   "metadata": {},
   "outputs": [
    {
     "data": {
      "text/plain": [
       "Winner               0\n",
       "weight_class         0\n",
       "B_avg_BODY_att       0\n",
       "B_avg_BODY_landed    0\n",
       "B_avg_CLINCH_att     0\n",
       "                    ..\n",
       "R_Height_cms         0\n",
       "R_Reach_cms          0\n",
       "R_Weight_lbs         0\n",
       "B_age                0\n",
       "R_age                0\n",
       "Length: 106, dtype: int64"
      ]
     },
     "execution_count": 7,
     "metadata": {},
     "output_type": "execute_result"
    }
   ],
   "source": [
    "data1.isnull().sum()"
   ]
  },
  {
   "cell_type": "code",
   "execution_count": 8,
   "metadata": {},
   "outputs": [],
   "source": [
    "# load decomposition to do PCA analysis with sklearn\n",
    "from sklearn import decomposition"
   ]
  },
  {
   "cell_type": "code",
   "execution_count": 9,
   "metadata": {},
   "outputs": [],
   "source": [
    "X=data1.drop('Winner',axis=1,inplace=False)"
   ]
  },
  {
   "cell_type": "code",
   "execution_count": 10,
   "metadata": {},
   "outputs": [
    {
     "data": {
      "text/plain": [
       "(3307, 4)"
      ]
     },
     "execution_count": 10,
     "metadata": {},
     "output_type": "execute_result"
    }
   ],
   "source": [
    "pca = decomposition.PCA(n_components=4)\n",
    "pc = pca.fit_transform(X)\n",
    "pc= pca.transform(X)\n",
    "pc.shape"
   ]
  },
  {
   "cell_type": "code",
   "execution_count": 11,
   "metadata": {},
   "outputs": [],
   "source": [
    "pca_df1=pd.DataFrame(pc,columns=[\"pc\"+str(i) for i in range(pc.shape[1])])"
   ]
  },
  {
   "cell_type": "code",
   "execution_count": 12,
   "metadata": {},
   "outputs": [],
   "source": [
    "pca_df1[\"Winner\"]= data1[\"Winner\"]"
   ]
  },
  {
   "cell_type": "code",
   "execution_count": 13,
   "metadata": {},
   "outputs": [
    {
     "data": {
      "text/html": [
       "<div>\n",
       "<style scoped>\n",
       "    .dataframe tbody tr th:only-of-type {\n",
       "        vertical-align: middle;\n",
       "    }\n",
       "\n",
       "    .dataframe tbody tr th {\n",
       "        vertical-align: top;\n",
       "    }\n",
       "\n",
       "    .dataframe thead th {\n",
       "        text-align: right;\n",
       "    }\n",
       "</style>\n",
       "<table border=\"1\" class=\"dataframe\">\n",
       "  <thead>\n",
       "    <tr style=\"text-align: right;\">\n",
       "      <th></th>\n",
       "      <th>pc0</th>\n",
       "      <th>pc1</th>\n",
       "      <th>pc2</th>\n",
       "      <th>pc3</th>\n",
       "      <th>Winner</th>\n",
       "    </tr>\n",
       "  </thead>\n",
       "  <tbody>\n",
       "    <tr>\n",
       "      <td>0</td>\n",
       "      <td>9.952101</td>\n",
       "      <td>95.152879</td>\n",
       "      <td>23.723167</td>\n",
       "      <td>-37.352691</td>\n",
       "      <td>1</td>\n",
       "    </tr>\n",
       "    <tr>\n",
       "      <td>1</td>\n",
       "      <td>225.032541</td>\n",
       "      <td>14.689735</td>\n",
       "      <td>15.865838</td>\n",
       "      <td>-30.506059</td>\n",
       "      <td>1</td>\n",
       "    </tr>\n",
       "    <tr>\n",
       "      <td>2</td>\n",
       "      <td>109.919697</td>\n",
       "      <td>52.287426</td>\n",
       "      <td>-14.883917</td>\n",
       "      <td>2.508876</td>\n",
       "      <td>1</td>\n",
       "    </tr>\n",
       "    <tr>\n",
       "      <td>3</td>\n",
       "      <td>170.164783</td>\n",
       "      <td>5.326285</td>\n",
       "      <td>-19.434983</td>\n",
       "      <td>-44.566591</td>\n",
       "      <td>0</td>\n",
       "    </tr>\n",
       "    <tr>\n",
       "      <td>4</td>\n",
       "      <td>247.772483</td>\n",
       "      <td>-264.547396</td>\n",
       "      <td>-86.666220</td>\n",
       "      <td>134.639173</td>\n",
       "      <td>0</td>\n",
       "    </tr>\n",
       "  </tbody>\n",
       "</table>\n",
       "</div>"
      ],
      "text/plain": [
       "          pc0         pc1        pc2         pc3  Winner\n",
       "0    9.952101   95.152879  23.723167  -37.352691       1\n",
       "1  225.032541   14.689735  15.865838  -30.506059       1\n",
       "2  109.919697   52.287426 -14.883917    2.508876       1\n",
       "3  170.164783    5.326285 -19.434983  -44.566591       0\n",
       "4  247.772483 -264.547396 -86.666220  134.639173       0"
      ]
     },
     "execution_count": 13,
     "metadata": {},
     "output_type": "execute_result"
    }
   ],
   "source": [
    "pca_df1.head()"
   ]
  },
  {
   "cell_type": "code",
   "execution_count": 14,
   "metadata": {},
   "outputs": [
    {
     "data": {
      "image/png": "[encoded data removed]",
      "text/plain": [
       "<Figure size 403.75x360 with 1 Axes>"
      ]
     },
     "metadata": {
      "needs_background": "light"
     },
     "output_type": "display_data"
    }
   ],
   "source": [
    "sns.lmplot(x=\"pc1\", y=\"pc2\",hue=\"Winner\",data=pca_df1, fit_reg=False);"
   ]
  },
  {
   "cell_type": "code",
   "execution_count": 15,
   "metadata": {
    "scrolled": true
   },
   "outputs": [
    {
     "data": {
      "text/plain": [
       "array([16050.67256565,  9911.14970405,  2076.52063689,  1860.68511595])"
      ]
     },
     "execution_count": 15,
     "metadata": {},
     "output_type": "execute_result"
    }
   ],
   "source": [
    "pca.explained_variance_"
   ]
  },
  {
   "cell_type": "code",
   "execution_count": 16,
   "metadata": {},
   "outputs": [
    {
     "data": {
      "text/plain": [
       "array([[-1.03672447e-02,  3.28495949e-02,  2.06402589e-02,\n",
       "         1.85419517e-02,  1.19135954e-02,  2.64234900e-01,\n",
       "         9.89128809e-02, -3.36110622e-03, -2.08346630e-03,\n",
       "         2.24820516e-01,  7.10176179e-02, -8.90349245e-05,\n",
       "         2.17456341e-02,  1.70851332e-02, -6.79812420e-04,\n",
       "        -3.75044600e-05,  2.79415745e-01,  1.08743010e-01,\n",
       "        -1.54652500e-04, -7.84269782e-04,  1.70963766e-03,\n",
       "         2.99786473e-05, -1.14927436e-04,  2.89017384e-01,\n",
       "         1.16103103e-01,  3.31461906e-02,  2.04521288e-02,\n",
       "         1.63874269e-02,  1.07417018e-02,  2.63720559e-01,\n",
       "         9.25657437e-02, -9.63729914e-04, -3.26062551e-04,\n",
       "         2.25583598e-01,  6.63059352e-02, -9.11452518e-05,\n",
       "         2.04144680e-02,  1.62233189e-02,  4.13447350e-06,\n",
       "        -1.12723651e-04,  2.79144256e-01,  1.02981383e-01,\n",
       "        -1.30401423e-04, -4.38489102e-04,  5.33588308e-03,\n",
       "         1.04887626e-03, -5.77427814e-05,  2.84268065e-01,\n",
       "         1.05680119e-01, -2.66746531e-02, -3.13150136e-02,\n",
       "        -1.11659847e-01,  2.48137765e-02,  1.51752874e-02,\n",
       "         1.10151836e-02,  7.16673686e-03,  1.92851726e-01,\n",
       "         7.03479386e-02, -4.96097844e-03, -2.83710982e-03,\n",
       "         1.58591740e-01,  4.75052007e-02, -2.33633965e-04,\n",
       "         1.55004149e-02,  1.19970776e-02, -8.46814253e-04,\n",
       "        -2.81496169e-05,  1.98905931e-01,  7.46775656e-02,\n",
       "        -1.91862130e-04, -5.92739366e-04,  1.90779733e-03,\n",
       "         3.09741632e-04, -9.82967409e-05,  2.05499383e-01,\n",
       "         7.89869580e-02,  2.42039422e-02,  1.44838938e-02,\n",
       "         1.04963645e-02,  6.59628641e-03,  1.90428023e-01,\n",
       "         6.58072197e-02, -2.35371847e-04,  1.19833446e-04,\n",
       "         1.60026126e-01,  4.55498970e-02, -7.39425520e-05,\n",
       "         1.64589476e-02,  1.24895488e-02,  1.62158416e-04,\n",
       "        -6.31664188e-05,  2.00689016e-01,  7.25233396e-02,\n",
       "        -8.30560862e-05, -3.50653629e-04,  4.19141682e-03,\n",
       "         7.65502249e-04,  9.05238163e-06,  2.08706307e-01,\n",
       "         7.77278502e-02, -2.76567072e-02, -3.33887460e-02,\n",
       "        -1.14246180e-01, -1.66937291e-03,  2.47931700e-04],\n",
       "       [-3.73503498e-03, -1.99022673e-02, -1.39421342e-02,\n",
       "        -1.82306458e-02, -1.15646385e-02, -1.83524780e-01,\n",
       "        -6.67130056e-02, -3.13595289e-03, -1.44679510e-03,\n",
       "        -1.70963051e-01, -5.43068526e-02,  1.19405960e-04,\n",
       "        -1.40260599e-02, -1.14754524e-02,  4.48466613e-04,\n",
       "         4.02709112e-05, -2.04891379e-01, -7.97244392e-02,\n",
       "         9.88100802e-05,  4.72472806e-04, -1.50090408e-03,\n",
       "        -2.38778624e-04,  5.57906551e-05, -2.29638873e-01,\n",
       "        -1.02006419e-01, -2.22708285e-02, -1.47484797e-02,\n",
       "        -1.53877718e-02, -9.83330846e-03, -1.81692161e-01,\n",
       "        -6.63449066e-02, -2.05107440e-03, -6.84912268e-04,\n",
       "        -1.62580862e-01, -5.00850722e-02, -7.24231313e-05,\n",
       "        -1.42793165e-02, -1.20295754e-02,  5.45915719e-05,\n",
       "         1.21628750e-05, -1.99131007e-01, -7.68631273e-02,\n",
       "         3.61754281e-05,  2.58265762e-04, -3.84472451e-03,\n",
       "        -1.06703844e-03,  2.81285494e-05, -2.10812379e-01,\n",
       "        -8.75454063e-02, -7.20314486e-03, -7.07632486e-03,\n",
       "        -3.88337721e-02,  3.24453075e-02,  2.06453765e-02,\n",
       "         1.81753513e-02,  1.12063238e-02,  2.68323627e-01,\n",
       "         9.71966951e-02, -9.09677182e-04, -1.16976162e-03,\n",
       "         2.29808674e-01,  6.83931533e-02, -7.49282650e-05,\n",
       "         2.33353201e-02,  1.81947275e-02, -4.02774310e-04,\n",
       "        -1.18650618e-04,  2.85589301e-01,  1.07233257e-01,\n",
       "        -2.35372787e-04, -8.11019427e-04,  3.08534419e-03,\n",
       "         6.36877792e-04, -9.00390815e-05,  3.00500784e-01,\n",
       "         1.20757724e-01,  3.09025036e-02,  1.91998495e-02,\n",
       "         1.58081107e-02,  9.65345685e-03,  2.59785940e-01,\n",
       "         8.89923100e-02, -8.45538455e-04, -9.79056699e-04,\n",
       "         2.24856587e-01,  6.38759514e-02,  4.52188051e-05,\n",
       "         1.89894217e-02,  1.45909092e-02, -1.78084654e-04,\n",
       "        -1.17902469e-04,  2.74748512e-01,  9.76667102e-02,\n",
       "        -1.42020940e-04, -4.28290775e-04,  5.62816408e-03,\n",
       "         1.08391832e-03, -5.89266888e-05,  2.82478673e-01,\n",
       "         1.03677729e-01, -1.13518226e-02, -1.46389626e-02,\n",
       "        -4.25934198e-02,  3.85356487e-04, -1.14715471e-03],\n",
       "       [-3.19899082e-02, -1.91326282e-02, -1.80327392e-02,\n",
       "        -2.92318952e-02, -2.23096465e-02, -1.10728810e-01,\n",
       "        -5.25145530e-02, -5.44991061e-02, -3.78389864e-02,\n",
       "        -1.64489159e-01, -8.52567254e-02, -1.18044095e-03,\n",
       "        -1.08380245e-02, -9.37372136e-03, -2.51340249e-03,\n",
       "         8.14374183e-04, -1.94459812e-01, -1.12663186e-01,\n",
       "        -4.77558070e-04,  1.65417087e-03,  1.70923861e-03,\n",
       "        -1.46427215e-03, -2.47712300e-04, -2.82944123e-01,\n",
       "        -1.91864870e-01,  2.13068193e-02,  1.61043524e-02,\n",
       "         1.74278484e-02,  1.40372862e-02,  6.29404905e-02,\n",
       "         2.35731941e-02,  5.96343420e-02,  4.07539855e-02,\n",
       "         1.12169405e-01,  5.70277149e-02,  1.35892745e-04,\n",
       "         6.52645639e-03,  5.23239860e-03,  7.91363099e-03,\n",
       "         8.41410603e-04,  1.40002681e-01,  7.83644658e-02,\n",
       "         3.04623814e-04,  1.52753340e-03,  1.46701506e-03,\n",
       "         4.11307250e-03,  1.15403192e-03,  2.71376791e-01,\n",
       "         1.95861898e-01, -9.34605964e-02, -1.07295617e-01,\n",
       "        -4.36417300e-01, -1.65992441e-02, -1.52154011e-02,\n",
       "        -2.52485805e-02, -1.90505603e-02, -8.88382242e-02,\n",
       "        -4.38333399e-02, -3.86632470e-02, -2.79988604e-02,\n",
       "        -1.24164519e-01, -6.48718468e-02, -1.01200580e-03,\n",
       "        -1.19862883e-02, -1.07955126e-02, -1.74748365e-03,\n",
       "         7.53320918e-04, -1.52750052e-01, -9.08827605e-02,\n",
       "        -3.77296538e-04,  1.67452037e-03,  1.37719042e-03,\n",
       "        -1.00524499e-03, -1.23530253e-04, -2.10117977e-01,\n",
       "        -1.42186458e-01,  9.69231924e-03,  7.12588629e-03,\n",
       "         5.14351088e-03,  5.12337448e-03,  3.06556185e-02,\n",
       "         1.19894911e-02,  3.81000257e-02,  2.43349535e-02,\n",
       "         6.08411084e-02,  3.19115505e-02, -5.97850166e-05,\n",
       "         3.36572738e-03,  2.41038239e-03,  5.57132107e-03,\n",
       "         8.01029969e-04,  7.38991551e-02,  4.14478192e-02,\n",
       "         1.21931856e-04,  1.33572043e-03,  1.96761738e-03,\n",
       "         3.27690627e-03,  9.09867961e-04,  1.64761220e-01,\n",
       "         1.20085453e-01, -9.45238581e-02, -1.12771983e-01,\n",
       "        -4.38035295e-01, -1.11173012e-02, -1.52105042e-02],\n",
       "       [ 3.56851626e-02, -2.37145878e-02, -1.79339779e-02,\n",
       "        -2.30477614e-02, -1.67580200e-02, -2.11787225e-02,\n",
       "         1.75039898e-03, -6.42116696e-02, -4.16982409e-02,\n",
       "        -7.73350300e-02, -3.43171216e-02,  3.40723593e-04,\n",
       "        -7.38853571e-03, -4.45476241e-03, -8.85589430e-03,\n",
       "        -9.61875634e-04, -1.08438154e-01, -5.67058619e-02,\n",
       "        -1.68668393e-04, -2.79775284e-03, -9.47657359e-03,\n",
       "        -7.04757180e-03, -1.27263554e-03, -2.89303161e-01,\n",
       "        -2.16299958e-01,  1.91476494e-02,  1.66716745e-02,\n",
       "         1.81655584e-02,  1.55866685e-02,  1.42295796e-01,\n",
       "         6.48948719e-02,  3.67584060e-02,  2.67418525e-02,\n",
       "         1.70966619e-01,  8.28674132e-02,  7.61394177e-04,\n",
       "         7.10549281e-03,  7.68430515e-03,  1.08775024e-03,\n",
       "        -8.63007266e-04,  1.97219761e-01,  1.07223393e-01,\n",
       "         3.84647269e-04, -2.27903176e-03, -4.97582631e-03,\n",
       "        -6.54434335e-04,  6.19146548e-05,  2.24808699e-01,\n",
       "         1.31342559e-01,  9.56843003e-02,  1.07383189e-01,\n",
       "         4.87495532e-01, -1.74036372e-02, -1.03556749e-02,\n",
       "        -8.23301547e-03, -5.30062897e-03,  3.94796630e-04,\n",
       "         8.04824042e-03, -4.56310630e-02, -3.00166791e-02,\n",
       "        -2.99926501e-02, -1.40404438e-02,  6.85814542e-04,\n",
       "        -6.07299461e-03, -2.87294894e-03, -7.30905734e-03,\n",
       "        -7.43136671e-04, -5.34692819e-02, -2.72690677e-02,\n",
       "        -1.50307996e-05, -2.27986090e-03, -9.57629085e-03,\n",
       "        -5.77352445e-03, -9.94919437e-04, -1.56124429e-01,\n",
       "        -1.18126068e-01,  1.13013879e-02,  9.53787169e-03,\n",
       "         1.33375997e-02,  8.82816737e-03,  1.11065033e-01,\n",
       "         5.28148820e-02,  2.14771899e-02,  1.45357901e-02,\n",
       "         1.25899124e-01,  5.86085962e-02,  7.65261743e-04,\n",
       "         8.67931132e-03,  8.03237163e-03, -4.65387453e-04,\n",
       "        -5.94589644e-04,  1.45879823e-01,  7.61788395e-02,\n",
       "         2.40249291e-04, -1.55099390e-03, -3.70266369e-03,\n",
       "        -1.42717969e-03, -2.72370855e-04,  1.51667589e-01,\n",
       "         8.09682874e-02,  1.00374081e-01,  1.08354989e-01,\n",
       "         4.85147427e-01,  2.15287799e-02,  2.18235414e-02]])"
      ]
     },
     "execution_count": 16,
     "metadata": {},
     "output_type": "execute_result"
    }
   ],
   "source": [
    "pca.components_"
   ]
  },
  {
   "cell_type": "code",
   "execution_count": 17,
   "metadata": {},
   "outputs": [
    {
     "data": {
      "image/png": "[encoded data removed]",
      "text/plain": [
       "<Figure size 720x432 with 1 Axes>"
      ]
     },
     "metadata": {
      "needs_background": "light"
     },
     "output_type": "display_data"
    }
   ],
   "source": [
    "plt.bar(x=[\"pc\"+str(i) for i in range(pc.shape[1])], height=pca.explained_variance_ratio_);"
   ]
  }
 ],
 "metadata": {
  "kernelspec": {
   "display_name": "Python 3",
   "language": "python",
   "name": "python3"
  },
  "language_info": {
   "codemirror_mode": {
    "name": "ipython",
    "version": 3
   },
   "file_extension": ".py",
   "mimetype": "text/x-python",
   "name": "python",
   "nbconvert_exporter": "python",
   "pygments_lexer": "ipython3",
   "version": "3.7.6"
  }
 },
 "nbformat": 4,
 "nbformat_minor": 4
}
