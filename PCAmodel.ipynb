{
 "cells": [
  {
   "cell_type": "code",
   "execution_count": 2,
   "metadata": {},
   "outputs": [],
   "source": [
    "import matplotlib.pyplot as plt\n",
    "import numpy as np\n",
    "import pandas as pd\n",
    "import seaborn as sns"
   ]
  },
  {
   "cell_type": "code",
   "execution_count": 3,
   "metadata": {},
   "outputs": [],
   "source": [
    "plt.rcParams[\"figure.figsize\"] = (10, 6)"
   ]
  },
  {
   "cell_type": "code",
   "execution_count": 15,
   "metadata": {},
   "outputs": [],
   "source": [
    "data=pd.read_csv(\"data/model_numeric.csv\", index_col=None)"
   ]
  },
  {
   "cell_type": "code",
   "execution_count": 5,
   "metadata": {},
   "outputs": [],
   "source": [
    "data1=pd.read_csv(\"data/modeling_numeric.csv\", index_col=None)"
   ]
  },
  {
   "cell_type": "code",
   "execution_count": 6,
   "metadata": {},
   "outputs": [],
   "source": [
    "data2=pd.read_csv(\"data/modeling_numeric2.csv\", index_col=None)"
   ]
  },
  {
   "cell_type": "code",
   "execution_count": 20,
   "metadata": {
    "scrolled": false
   },
   "outputs": [
    {
     "data": {
      "text/html": [
       "<div>\n",
       "<style scoped>\n",
       "    .dataframe tbody tr th:only-of-type {\n",
       "        vertical-align: middle;\n",
       "    }\n",
       "\n",
       "    .dataframe tbody tr th {\n",
       "        vertical-align: top;\n",
       "    }\n",
       "\n",
       "    .dataframe thead th {\n",
       "        text-align: right;\n",
       "    }\n",
       "</style>\n",
       "<table border=\"1\" class=\"dataframe\">\n",
       "  <thead>\n",
       "    <tr style=\"text-align: right;\">\n",
       "      <th></th>\n",
       "      <th>Winner</th>\n",
       "      <th>weight_class</th>\n",
       "      <th>no_of_rounds</th>\n",
       "      <th>B_current_win_streak</th>\n",
       "      <th>B_avg_BODY_att</th>\n",
       "      <th>B_avg_BODY_landed</th>\n",
       "      <th>B_avg_CLINCH_att</th>\n",
       "      <th>B_avg_CLINCH_landed</th>\n",
       "      <th>B_avg_DISTANCE_att</th>\n",
       "      <th>B_avg_DISTANCE_landed</th>\n",
       "      <th>...</th>\n",
       "      <th>('R_Open_Stance',)</th>\n",
       "      <th>('R_Orthodox',)</th>\n",
       "      <th>('R_Sideways',)</th>\n",
       "      <th>('R_Southpaw',)</th>\n",
       "      <th>('R_Switch',)</th>\n",
       "      <th>('B_Open_Stance',)</th>\n",
       "      <th>('B_Orthodox',)</th>\n",
       "      <th>('B_Sideways',)</th>\n",
       "      <th>('B_Southpaw',)</th>\n",
       "      <th>('B_Switch',)</th>\n",
       "    </tr>\n",
       "  </thead>\n",
       "  <tbody>\n",
       "    <tr>\n",
       "      <td>0</td>\n",
       "      <td>1</td>\n",
       "      <td>4.0</td>\n",
       "      <td>5.0</td>\n",
       "      <td>4.0</td>\n",
       "      <td>9.200000</td>\n",
       "      <td>6.000000</td>\n",
       "      <td>0.200000</td>\n",
       "      <td>0.000000</td>\n",
       "      <td>62.600000</td>\n",
       "      <td>20.600000</td>\n",
       "      <td>...</td>\n",
       "      <td>0.0</td>\n",
       "      <td>1.0</td>\n",
       "      <td>0.0</td>\n",
       "      <td>0.0</td>\n",
       "      <td>0.0</td>\n",
       "      <td>0.0</td>\n",
       "      <td>1.0</td>\n",
       "      <td>0.0</td>\n",
       "      <td>0.0</td>\n",
       "      <td>0.0</td>\n",
       "    </tr>\n",
       "    <tr>\n",
       "      <td>1</td>\n",
       "      <td>1</td>\n",
       "      <td>3.0</td>\n",
       "      <td>5.0</td>\n",
       "      <td>3.0</td>\n",
       "      <td>14.600000</td>\n",
       "      <td>9.100000</td>\n",
       "      <td>11.800000</td>\n",
       "      <td>7.300000</td>\n",
       "      <td>124.700000</td>\n",
       "      <td>42.100000</td>\n",
       "      <td>...</td>\n",
       "      <td>0.0</td>\n",
       "      <td>0.0</td>\n",
       "      <td>0.0</td>\n",
       "      <td>1.0</td>\n",
       "      <td>0.0</td>\n",
       "      <td>0.0</td>\n",
       "      <td>1.0</td>\n",
       "      <td>0.0</td>\n",
       "      <td>0.0</td>\n",
       "      <td>0.0</td>\n",
       "    </tr>\n",
       "    <tr>\n",
       "      <td>2</td>\n",
       "      <td>1</td>\n",
       "      <td>8.0</td>\n",
       "      <td>3.0</td>\n",
       "      <td>3.0</td>\n",
       "      <td>15.354839</td>\n",
       "      <td>11.322581</td>\n",
       "      <td>6.741935</td>\n",
       "      <td>4.387097</td>\n",
       "      <td>84.741935</td>\n",
       "      <td>38.580645</td>\n",
       "      <td>...</td>\n",
       "      <td>0.0</td>\n",
       "      <td>1.0</td>\n",
       "      <td>0.0</td>\n",
       "      <td>0.0</td>\n",
       "      <td>0.0</td>\n",
       "      <td>0.0</td>\n",
       "      <td>1.0</td>\n",
       "      <td>0.0</td>\n",
       "      <td>0.0</td>\n",
       "      <td>0.0</td>\n",
       "    </tr>\n",
       "    <tr>\n",
       "      <td>3</td>\n",
       "      <td>0</td>\n",
       "      <td>4.0</td>\n",
       "      <td>3.0</td>\n",
       "      <td>4.0</td>\n",
       "      <td>17.000000</td>\n",
       "      <td>14.000000</td>\n",
       "      <td>13.750000</td>\n",
       "      <td>11.000000</td>\n",
       "      <td>109.500000</td>\n",
       "      <td>48.750000</td>\n",
       "      <td>...</td>\n",
       "      <td>0.0</td>\n",
       "      <td>1.0</td>\n",
       "      <td>0.0</td>\n",
       "      <td>0.0</td>\n",
       "      <td>0.0</td>\n",
       "      <td>0.0</td>\n",
       "      <td>0.0</td>\n",
       "      <td>0.0</td>\n",
       "      <td>0.0</td>\n",
       "      <td>1.0</td>\n",
       "    </tr>\n",
       "    <tr>\n",
       "      <td>4</td>\n",
       "      <td>0</td>\n",
       "      <td>12.0</td>\n",
       "      <td>3.0</td>\n",
       "      <td>1.0</td>\n",
       "      <td>17.000000</td>\n",
       "      <td>14.500000</td>\n",
       "      <td>2.500000</td>\n",
       "      <td>2.000000</td>\n",
       "      <td>201.000000</td>\n",
       "      <td>59.500000</td>\n",
       "      <td>...</td>\n",
       "      <td>0.0</td>\n",
       "      <td>0.0</td>\n",
       "      <td>0.0</td>\n",
       "      <td>1.0</td>\n",
       "      <td>0.0</td>\n",
       "      <td>0.0</td>\n",
       "      <td>0.0</td>\n",
       "      <td>0.0</td>\n",
       "      <td>1.0</td>\n",
       "      <td>0.0</td>\n",
       "    </tr>\n",
       "  </tbody>\n",
       "</table>\n",
       "<p>5 rows × 146 columns</p>\n",
       "</div>"
      ],
      "text/plain": [
       "   Winner  weight_class  no_of_rounds  B_current_win_streak  B_avg_BODY_att  \\\n",
       "0       1           4.0           5.0                   4.0        9.200000   \n",
       "1       1           3.0           5.0                   3.0       14.600000   \n",
       "2       1           8.0           3.0                   3.0       15.354839   \n",
       "3       0           4.0           3.0                   4.0       17.000000   \n",
       "4       0          12.0           3.0                   1.0       17.000000   \n",
       "\n",
       "   B_avg_BODY_landed  B_avg_CLINCH_att  B_avg_CLINCH_landed  \\\n",
       "0           6.000000          0.200000             0.000000   \n",
       "1           9.100000         11.800000             7.300000   \n",
       "2          11.322581          6.741935             4.387097   \n",
       "3          14.000000         13.750000            11.000000   \n",
       "4          14.500000          2.500000             2.000000   \n",
       "\n",
       "   B_avg_DISTANCE_att  B_avg_DISTANCE_landed  ...  ('R_Open_Stance',)  \\\n",
       "0           62.600000              20.600000  ...                 0.0   \n",
       "1          124.700000              42.100000  ...                 0.0   \n",
       "2           84.741935              38.580645  ...                 0.0   \n",
       "3          109.500000              48.750000  ...                 0.0   \n",
       "4          201.000000              59.500000  ...                 0.0   \n",
       "\n",
       "   ('R_Orthodox',)  ('R_Sideways',)  ('R_Southpaw',)  ('R_Switch',)  \\\n",
       "0              1.0              0.0              0.0            0.0   \n",
       "1              0.0              0.0              1.0            0.0   \n",
       "2              1.0              0.0              0.0            0.0   \n",
       "3              1.0              0.0              0.0            0.0   \n",
       "4              0.0              0.0              1.0            0.0   \n",
       "\n",
       "   ('B_Open_Stance',)  ('B_Orthodox',)  ('B_Sideways',)  ('B_Southpaw',)  \\\n",
       "0                 0.0              1.0              0.0              0.0   \n",
       "1                 0.0              1.0              0.0              0.0   \n",
       "2                 0.0              1.0              0.0              0.0   \n",
       "3                 0.0              0.0              0.0              0.0   \n",
       "4                 0.0              0.0              0.0              1.0   \n",
       "\n",
       "   ('B_Switch',)  \n",
       "0            0.0  \n",
       "1            0.0  \n",
       "2            0.0  \n",
       "3            1.0  \n",
       "4            0.0  \n",
       "\n",
       "[5 rows x 146 columns]"
      ]
     },
     "execution_count": 20,
     "metadata": {},
     "output_type": "execute_result"
    }
   ],
   "source": [
    "data.head()"
   ]
  },
  {
   "cell_type": "code",
   "execution_count": 16,
   "metadata": {},
   "outputs": [
    {
     "data": {
      "text/plain": [
       "Winner                   0\n",
       "title_bout               0\n",
       "weight_class             0\n",
       "no_of_rounds             0\n",
       "B_current_lose_streak    0\n",
       "                        ..\n",
       "('B_Open_Stance',)       0\n",
       "('B_Orthodox',)          0\n",
       "('B_Sideways',)          0\n",
       "('B_Southpaw',)          0\n",
       "('B_Switch',)            0\n",
       "Length: 149, dtype: int64"
      ]
     },
     "execution_count": 16,
     "metadata": {},
     "output_type": "execute_result"
    }
   ],
   "source": [
    "data.isnull().sum()"
   ]
  },
  {
   "cell_type": "code",
   "execution_count": 17,
   "metadata": {},
   "outputs": [],
   "source": [
    "data.drop(columns=[\"title_bout\",\"B_current_lose_streak\",\"R_current_lose_streak\"], inplace=True)"
   ]
  },
  {
   "cell_type": "code",
   "execution_count": 9,
   "metadata": {},
   "outputs": [],
   "source": [
    "# load decomposition to do PCA analysis with sklearn\n",
    "from sklearn import decomposition"
   ]
  },
  {
   "cell_type": "code",
   "execution_count": 18,
   "metadata": {},
   "outputs": [],
   "source": [
    "X=data.drop('Winner',axis=1,inplace=False)"
   ]
  },
  {
   "cell_type": "code",
   "execution_count": 29,
   "metadata": {},
   "outputs": [
    {
     "data": {
      "text/plain": [
       "(3307, 4)"
      ]
     },
     "execution_count": 29,
     "metadata": {},
     "output_type": "execute_result"
    }
   ],
   "source": [
    "pca = decomposition.PCA(n_components=4)\n",
    "pc = pca.fit_transform(X)\n",
    "pc= pca.transform(X)\n",
    "pc.shape"
   ]
  },
  {
   "cell_type": "code",
   "execution_count": 30,
   "metadata": {},
   "outputs": [],
   "source": [
    "pca_df1=pd.DataFrame(pc,columns=[\"pc\"+str(i) for i in range(pc.shape[1])])"
   ]
  },
  {
   "cell_type": "code",
   "execution_count": 31,
   "metadata": {},
   "outputs": [],
   "source": [
    "pca_df1[\"Winner\"]= data[\"Winner\"]"
   ]
  },
  {
   "cell_type": "code",
   "execution_count": 32,
   "metadata": {},
   "outputs": [
    {
     "data": {
      "text/html": [
       "<div>\n",
       "<style scoped>\n",
       "    .dataframe tbody tr th:only-of-type {\n",
       "        vertical-align: middle;\n",
       "    }\n",
       "\n",
       "    .dataframe tbody tr th {\n",
       "        vertical-align: top;\n",
       "    }\n",
       "\n",
       "    .dataframe thead th {\n",
       "        text-align: right;\n",
       "    }\n",
       "</style>\n",
       "<table border=\"1\" class=\"dataframe\">\n",
       "  <thead>\n",
       "    <tr style=\"text-align: right;\">\n",
       "      <th></th>\n",
       "      <th>pc0</th>\n",
       "      <th>pc1</th>\n",
       "      <th>pc2</th>\n",
       "      <th>pc3</th>\n",
       "      <th>Winner</th>\n",
       "    </tr>\n",
       "  </thead>\n",
       "  <tbody>\n",
       "    <tr>\n",
       "      <td>0</td>\n",
       "      <td>-58.348043</td>\n",
       "      <td>237.477669</td>\n",
       "      <td>40.282556</td>\n",
       "      <td>17.086297</td>\n",
       "      <td>1</td>\n",
       "    </tr>\n",
       "    <tr>\n",
       "      <td>1</td>\n",
       "      <td>517.801204</td>\n",
       "      <td>187.224455</td>\n",
       "      <td>19.103420</td>\n",
       "      <td>-68.621962</td>\n",
       "      <td>1</td>\n",
       "    </tr>\n",
       "    <tr>\n",
       "      <td>2</td>\n",
       "      <td>19.506822</td>\n",
       "      <td>23.935222</td>\n",
       "      <td>105.729247</td>\n",
       "      <td>67.713432</td>\n",
       "      <td>1</td>\n",
       "    </tr>\n",
       "    <tr>\n",
       "      <td>3</td>\n",
       "      <td>141.966881</td>\n",
       "      <td>27.867150</td>\n",
       "      <td>123.258016</td>\n",
       "      <td>16.461259</td>\n",
       "      <td>0</td>\n",
       "    </tr>\n",
       "    <tr>\n",
       "      <td>4</td>\n",
       "      <td>411.952702</td>\n",
       "      <td>-569.238538</td>\n",
       "      <td>110.774169</td>\n",
       "      <td>-64.768329</td>\n",
       "      <td>0</td>\n",
       "    </tr>\n",
       "  </tbody>\n",
       "</table>\n",
       "</div>"
      ],
      "text/plain": [
       "          pc0         pc1         pc2        pc3  Winner\n",
       "0  -58.348043  237.477669   40.282556  17.086297       1\n",
       "1  517.801204  187.224455   19.103420 -68.621962       1\n",
       "2   19.506822   23.935222  105.729247  67.713432       1\n",
       "3  141.966881   27.867150  123.258016  16.461259       0\n",
       "4  411.952702 -569.238538  110.774169 -64.768329       0"
      ]
     },
     "execution_count": 32,
     "metadata": {},
     "output_type": "execute_result"
    }
   ],
   "source": [
    "pca_df1.head()"
   ]
  },
  {
   "cell_type": "code",
   "execution_count": 33,
   "metadata": {},
   "outputs": [
    {
     "data": {
      "image/png": "[encoded data removed]",
      "text/plain": [
       "<Figure size 403.75x360 with 1 Axes>"
      ]
     },
     "metadata": {
      "needs_background": "light"
     },
     "output_type": "display_data"
    }
   ],
   "source": [
    "sns.lmplot(x=\"pc1\", y=\"pc2\",hue=\"Winner\",data=pca_df1, fit_reg=False);"
   ]
  },
  {
   "cell_type": "code",
   "execution_count": 34,
   "metadata": {
    "scrolled": true
   },
   "outputs": [
    {
     "data": {
      "text/plain": [
       "array([61189.91809767, 47024.77929057,  6610.75571082,  4566.31782011])"
      ]
     },
     "execution_count": 34,
     "metadata": {},
     "output_type": "execute_result"
    }
   ],
   "source": [
    "pca.explained_variance_"
   ]
  },
  {
   "cell_type": "code",
   "execution_count": 35,
   "metadata": {},
   "outputs": [
    {
     "data": {
      "text/plain": [
       "array([[-4.52731619e-03,  1.77614450e-04,  7.42374838e-05,\n",
       "         1.42131602e-02,  9.21662349e-03,  8.85264554e-03,\n",
       "         5.90640622e-03,  9.77403626e-02,  3.58271818e-02,\n",
       "         3.52474978e-03,  2.38949586e-03,  8.60509029e-02,\n",
       "         2.71974427e-02, -1.61810069e-04,  9.85369480e-03,\n",
       "         7.70901764e-03,  8.85650532e-04,  1.39706973e-04,\n",
       "         1.10117758e-01,  4.41230839e-02, -4.11044413e-05,\n",
       "        -5.33388988e-05,  3.06007739e-03,  1.16315134e-03,\n",
       "         8.26920583e-05,  1.31430102e-01,  6.27416304e-02,\n",
       "         1.76548339e-04,  2.29045085e-04,  1.37829394e-02,\n",
       "         8.61864146e-03,  7.65749662e-03,  5.08819538e-03,\n",
       "         9.84544591e-02,  3.33859243e-02,  2.78264207e-03,\n",
       "         1.90925827e-03,  8.60527563e-02,  2.46732269e-02,\n",
       "        -1.10576991e-04,  9.05890204e-03,  7.09150962e-03,\n",
       "         8.13275756e-04,  1.18245410e-04,  1.08894598e-01,\n",
       "         4.03833780e-02, -5.40981639e-05,  7.62377030e-05,\n",
       "         3.45583301e-03,  1.05615579e-03,  2.87773461e-05,\n",
       "         1.25027724e-01,  5.42644659e-02,  8.38966756e-03,\n",
       "         7.06766176e-01,  2.50873888e-04, -1.55016791e-05,\n",
       "         4.86348200e-04,  1.52214605e-03, -1.02374128e-03,\n",
       "        -5.46683597e-04, -1.21654041e-05,  3.86248093e-04,\n",
       "        -1.27484163e-02, -1.45706796e-02, -5.28170649e-02,\n",
       "         2.26156833e-04,  1.16793312e-02,  7.35359864e-03,\n",
       "         6.07253993e-03,  4.09300227e-03,  7.99897992e-02,\n",
       "         2.81932767e-02,  2.01275176e-03,  1.44250970e-03,\n",
       "         6.87147819e-02,  2.05294636e-02, -1.98451654e-04,\n",
       "         7.68097781e-03,  5.84572643e-03,  5.64961820e-04,\n",
       "         9.45444739e-05,  8.80750909e-02,  3.37287887e-02,\n",
       "        -8.26004458e-05, -8.67536560e-05,  2.68763143e-03,\n",
       "         1.00795412e-03,  5.87428674e-05,  1.03391786e-01,\n",
       "         4.68417322e-02,  4.58172719e-04,  3.67572414e-04,\n",
       "         1.13107380e-02,  6.91154148e-03,  6.37077740e-03,\n",
       "         4.11705920e-03,  7.83591603e-02,  2.59099276e-02,\n",
       "         8.92801046e-04,  7.55037674e-04,  6.64381269e-02,\n",
       "         1.79431879e-02, -8.90229523e-05,  7.87387387e-03,\n",
       "         5.92729511e-03,  4.24451977e-04,  8.14154205e-05,\n",
       "         8.56227387e-02,  3.07820245e-02, -4.14413874e-05,\n",
       "        -1.02140679e-05,  2.83314059e-03,  7.54950677e-04,\n",
       "         3.39625960e-05,  9.83573430e-02,  4.14382458e-02,\n",
       "         1.03980055e-02,  5.67076725e-01,  6.70392744e-04,\n",
       "        -3.67995660e-05,  5.42809659e-04,  1.77688446e-03,\n",
       "        -9.59959635e-04, -3.97842533e-04, -6.40458081e-05,\n",
       "         8.29141192e-04, -1.32577402e-02, -1.50041454e-02,\n",
       "        -5.34878726e-02, -3.02321107e-04,  2.43214119e-04,\n",
       "        -1.70218784e-05,  1.58574896e-04, -3.63086275e-04,\n",
       "        -1.06331880e-05, -3.66647300e-05,  0.00000000e+00,\n",
       "         3.70672524e-05,  1.02306656e-05, -6.99387346e-08,\n",
       "        -5.01011891e-05,  0.00000000e+00,  4.16422313e-05,\n",
       "         8.52889653e-06],\n",
       "       [-1.02111331e-03,  1.60787941e-04,  4.92630430e-04,\n",
       "        -8.94820142e-03, -6.47792385e-03, -8.59206728e-03,\n",
       "        -5.79583629e-03, -5.84151604e-02, -2.04956964e-02,\n",
       "        -3.77899882e-03, -2.35430291e-03, -5.59197006e-02,\n",
       "        -1.73928238e-02,  1.74000500e-04, -5.91832450e-03,\n",
       "        -4.77508800e-03, -6.65462479e-04, -1.35592833e-04,\n",
       "        -7.07862265e-02, -2.86458356e-02,  2.39749162e-05,\n",
       "         2.87966518e-05, -2.29177119e-03, -8.68365388e-04,\n",
       "        -5.31305615e-05, -9.62260455e-02, -5.14570247e-02,\n",
       "         4.02907874e-04,  1.41064949e-05, -9.30180661e-03,\n",
       "        -6.64377663e-03, -7.70406695e-03, -5.28463111e-03,\n",
       "        -5.71198976e-02, -2.10066716e-02, -5.12140623e-03,\n",
       "        -3.31767868e-03, -5.41970987e-02, -1.76778639e-02,\n",
       "         2.57342382e-05, -6.44646546e-03, -5.28734089e-03,\n",
       "        -9.80906851e-04, -1.32959933e-04, -6.99453708e-02,\n",
       "        -2.96089814e-02, -2.01285885e-05, -1.48861303e-04,\n",
       "        -3.03405061e-03, -1.16047022e-03, -6.29946979e-05,\n",
       "        -9.23169944e-02, -4.97250098e-02, -3.01083906e-03,\n",
       "        -5.85554306e-01, -4.51598770e-05, -1.79211818e-05,\n",
       "        -3.10711799e-04, -7.09373628e-04,  8.76518097e-04,\n",
       "         9.00511105e-04,  1.97494150e-05,  7.67834424e-04,\n",
       "        -7.44741579e-04, -1.07733234e-03, -8.99337768e-03,\n",
       "         2.08054203e-04,  1.22698801e-02,  8.23841093e-03,\n",
       "         8.86068321e-03,  5.96615942e-03,  8.30593399e-02,\n",
       "         2.94326139e-02,  4.35496110e-03,  2.79287984e-03,\n",
       "         7.47579401e-02,  2.26807940e-02, -1.66033489e-04,\n",
       "         9.24716393e-03,  7.27244824e-03,  1.03629393e-03,\n",
       "         6.61452148e-05,  9.62749842e-02,  3.81916531e-02,\n",
       "        -6.27034058e-05, -8.49326575e-05,  3.66611071e-03,\n",
       "         1.40755422e-03,  8.44114116e-05,  1.20643855e-01,\n",
       "         6.00752830e-02,  7.74134096e-04,  3.10209074e-04,\n",
       "         1.17127955e-02,  7.69090685e-03,  7.26194609e-03,\n",
       "         4.85842541e-03,  8.10362799e-02,  2.63755236e-02,\n",
       "         3.03106113e-03,  1.76747072e-03,  7.18752173e-02,\n",
       "         1.94648301e-02, -5.33480550e-05,  7.74127438e-03,\n",
       "         5.84568285e-03,  5.71911015e-04,  1.11362347e-04,\n",
       "         9.13292871e-02,  3.30014198e-02, -3.83249429e-05,\n",
       "         9.67625995e-05,  3.14853784e-03,  8.72716597e-04,\n",
       "         2.70803037e-05,  1.11221697e-01,  5.06721687e-02,\n",
       "         1.19814558e-02,  7.25584447e-01,  1.07903728e-03,\n",
       "         2.66242257e-05,  5.44911611e-04,  2.08123128e-03,\n",
       "        -9.17828652e-04, -7.54955920e-04, -1.90612324e-05,\n",
       "         9.43104893e-04, -4.25451034e-03, -4.77578311e-03,\n",
       "        -1.24400061e-02, -2.43583357e-04,  1.67471135e-04,\n",
       "         8.51497633e-07,  9.90978518e-04, -7.08525228e-04,\n",
       "        -4.25909271e-06, -1.98551784e-05,  0.00000000e+00,\n",
       "         1.89350515e-05,  5.17921952e-06,  1.20786617e-06,\n",
       "        -3.60052270e-05,  0.00000000e+00,  2.86135628e-05,\n",
       "         6.18379799e-06],\n",
       "       [-7.21884693e-03, -2.37273343e-04, -4.74876602e-04,\n",
       "         2.75464709e-02,  1.57451265e-02,  1.06315292e-02,\n",
       "         5.53082315e-03,  3.14506245e-01,  1.20925254e-01,\n",
       "        -2.73825379e-02, -1.80820880e-02,  2.53118220e-01,\n",
       "         7.90325089e-02,  5.33809537e-04,  1.70905457e-02,\n",
       "         1.35963535e-02, -6.28045927e-03, -8.06882086e-04,\n",
       "         2.97755237e-01,  1.08373989e-01, -2.71227051e-04,\n",
       "        -2.07683670e-03, -9.45863085e-03, -5.43309755e-03,\n",
       "        -7.32168644e-04,  2.16326310e-01,  3.42175441e-02,\n",
       "        -1.40026097e-03, -8.49222424e-05,  3.12926023e-02,\n",
       "         1.84151657e-02,  1.01592086e-02,  6.13353985e-03,\n",
       "         3.11712234e-01,  1.14243491e-01, -1.77417674e-02,\n",
       "        -1.13182691e-02,  2.55880994e-01,  7.66734702e-02,\n",
       "         2.78887523e-04,  1.69560792e-02,  1.39701256e-02,\n",
       "        -4.10287532e-03, -9.08842951e-04,  3.04129675e-01,\n",
       "         1.09058761e-01, -1.52142840e-04, -1.72274110e-03,\n",
       "        -1.12056206e-03, -2.12854048e-03, -3.43380192e-04,\n",
       "         2.34830234e-01,  4.44445280e-02, -7.63082188e-03,\n",
       "        -3.50617804e-01, -1.68823260e-03, -1.24728751e-04,\n",
       "         1.65211728e-04, -1.42604460e-03,  4.62312147e-04,\n",
       "        -1.14100955e-03, -1.78669128e-04, -2.23567605e-03,\n",
       "        -1.33879374e-02, -1.76599836e-02, -5.82567521e-02,\n",
       "        -9.22841257e-04,  1.38911829e-02,  7.69146817e-03,\n",
       "         2.56506218e-03,  1.32860024e-03,  1.47166657e-01,\n",
       "         5.76393756e-02, -2.07574659e-02, -1.28896189e-02,\n",
       "         1.07741276e-01,  3.22438359e-02,  1.71717823e-04,\n",
       "         7.34179439e-03,  6.14305278e-03, -4.15050399e-03,\n",
       "        -4.26216389e-04,  1.28974253e-01,  4.60783569e-02,\n",
       "        -1.37174146e-04, -1.09452359e-03, -5.31226350e-03,\n",
       "        -2.97888565e-03, -4.69014278e-04,  8.57262326e-02,\n",
       "         5.65969979e-03, -1.61373824e-03,  1.09050500e-03,\n",
       "         1.47400342e-02,  8.32714554e-03,  2.74232082e-04,\n",
       "        -9.72013571e-05,  1.51457919e-01,  5.66882324e-02,\n",
       "        -2.55936870e-03, -1.64644203e-03,  1.24637840e-01,\n",
       "         3.90499495e-02,  1.58330354e-04,  9.79490765e-03,\n",
       "         7.56749399e-03, -1.05207442e-03, -4.40381414e-04,\n",
       "         1.49172782e-01,  5.49445890e-02, -2.97075454e-05,\n",
       "        -7.77488393e-04, -7.29517059e-04, -1.04536382e-03,\n",
       "        -1.06452847e-04,  1.23656463e-01,  3.01852712e-02,\n",
       "        -2.62699486e-03, -1.94541350e-01, -2.19564682e-03,\n",
       "        -9.58592405e-05,  6.10242805e-06, -7.69674431e-04,\n",
       "         1.36334960e-05, -5.76832499e-04, -1.61183839e-04,\n",
       "        -1.58797577e-03, -1.45907030e-02, -2.14927709e-02,\n",
       "        -6.33625029e-02, -2.94074227e-03,  6.64733380e-04,\n",
       "        -4.65827710e-05,  1.61669701e-04, -7.33409468e-04,\n",
       "        -2.15245496e-05,  1.37506038e-04,  0.00000000e+00,\n",
       "        -9.33806026e-05, -2.26008857e-05,  1.09190807e-06,\n",
       "        -7.05761153e-06,  0.00000000e+00, -3.22617096e-05,\n",
       "         3.82274130e-05],\n",
       "       [-5.78753785e-03, -1.85877045e-04, -7.67449827e-04,\n",
       "        -8.17941993e-03, -5.39924768e-03, -7.32823041e-03,\n",
       "        -3.46264927e-03, -1.54182681e-01, -5.70555458e-02,\n",
       "         3.20259126e-04,  1.12996803e-03, -1.44710267e-01,\n",
       "        -4.69635463e-02, -2.69799884e-04, -8.30096517e-03,\n",
       "        -7.02543308e-03,  1.87835258e-03,  4.23086472e-04,\n",
       "        -1.61190652e-01, -5.93882270e-02,  9.27808657e-05,\n",
       "         5.14753976e-04,  2.48021491e-03,  1.25916984e-03,\n",
       "         1.36223551e-04, -1.39320997e-01, -4.02202769e-02,\n",
       "        -5.71987890e-04,  1.26315483e-03, -1.07218047e-02,\n",
       "        -5.27217092e-03, -3.57307367e-03, -7.31300696e-04,\n",
       "        -1.53342104e-01, -5.34143386e-02,  1.31151972e-02,\n",
       "         1.01617451e-02, -1.26729975e-01, -3.29794164e-02,\n",
       "        -1.73749992e-04, -6.34819997e-03, -5.73230687e-03,\n",
       "         3.10713748e-03,  3.14285483e-04, -1.43799980e-01,\n",
       "        -4.39838941e-02,  1.70275723e-04,  8.06003248e-04,\n",
       "         2.02059161e-03,  1.50124290e-03,  2.61526279e-04,\n",
       "        -9.52454134e-02, -1.27571951e-03,  5.32367472e-03,\n",
       "         1.37907513e-01,  1.23186637e-04,  1.45066405e-06,\n",
       "        -7.14159838e-05,  7.12136136e-04, -1.00135557e-03,\n",
       "         5.86791680e-04,  1.40378207e-06,  2.40606460e-04,\n",
       "        -1.50648569e-02, -1.44197432e-02, -6.16607589e-02,\n",
       "        -7.81748986e-04,  2.75442202e-02,  1.50932572e-02,\n",
       "         4.15913606e-03,  4.11121020e-05,  3.26543326e-01,\n",
       "         1.21547221e-01, -2.95791176e-02, -2.05128515e-02,\n",
       "         2.55351816e-01,  7.19926604e-02,  5.92711258e-04,\n",
       "         1.82273084e-02,  1.39895637e-02, -6.69750086e-03,\n",
       "        -7.04910847e-04,  3.01123345e-01,  1.01075481e-01,\n",
       "        -3.52042705e-04, -1.88788841e-03, -9.97047521e-03,\n",
       "        -5.49288804e-03, -7.23640614e-04,  2.11480429e-01,\n",
       "         2.07125726e-02, -1.90505351e-03, -3.92087327e-04,\n",
       "         2.76120907e-02,  1.50751816e-02,  5.66101499e-03,\n",
       "         1.49584094e-03,  3.19102135e-01,  1.15937013e-01,\n",
       "        -1.57352855e-02, -1.04728635e-02,  2.66112113e-01,\n",
       "         7.97503020e-02,  4.01665339e-04,  1.53036604e-02,\n",
       "         1.21345070e-02, -3.15762814e-03, -8.88902084e-04,\n",
       "         3.09027864e-01,  1.06959991e-01, -1.96007200e-04,\n",
       "        -1.67371139e-03, -3.33340522e-04, -1.47200577e-03,\n",
       "        -2.88051690e-04,  2.33010517e-01,  3.69568839e-02,\n",
       "        -1.09919659e-02, -3.13471441e-01, -2.21622908e-03,\n",
       "        -2.31722591e-04,  1.76698902e-05, -1.55114021e-03,\n",
       "         5.39500698e-04, -1.68611431e-03, -1.70310960e-04,\n",
       "        -3.11102095e-03, -1.12605896e-02, -1.85877326e-02,\n",
       "        -5.80779525e-02,  1.14756607e-03, -3.28627380e-03,\n",
       "        -3.05734927e-05, -3.18764460e-03, -3.09161014e-03,\n",
       "        -6.43159738e-06,  4.36531220e-05, -0.00000000e+00,\n",
       "        -2.00855287e-05, -1.71359959e-05,  1.83947291e-06,\n",
       "        -2.74356796e-05, -0.00000000e+00,  5.59860213e-05,\n",
       "        -3.03898147e-05]])"
      ]
     },
     "execution_count": 35,
     "metadata": {},
     "output_type": "execute_result"
    }
   ],
   "source": [
    "pca.components_"
   ]
  },
  {
   "cell_type": "code",
   "execution_count": 36,
   "metadata": {},
   "outputs": [
    {
     "data": {
      "image/png": "[encoded data removed]",
      "text/plain": [
       "<Figure size 720x432 with 1 Axes>"
      ]
     },
     "metadata": {
      "needs_background": "light"
     },
     "output_type": "display_data"
    }
   ],
   "source": [
    "plt.bar(x=[\"pc\"+str(i) for i in range(pc.shape[1])], height=pca.explained_variance_ratio_);"
   ]
  }
 ],
 "metadata": {
  "kernelspec": {
   "display_name": "Python 3",
   "language": "python",
   "name": "python3"
  },
  "language_info": {
   "codemirror_mode": {
    "name": "ipython",
    "version": 3
   },
   "file_extension": ".py",
   "mimetype": "text/x-python",
   "name": "python",
   "nbconvert_exporter": "python",
   "pygments_lexer": "ipython3",
   "version": "3.7.6"
  }
 },
 "nbformat": 4,
 "nbformat_minor": 4
}
