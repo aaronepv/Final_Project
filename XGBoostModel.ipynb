{
 "cells": [
  {
   "cell_type": "code",
   "execution_count": 1,
   "metadata": {},
   "outputs": [],
   "source": [
    "from sklearn.preprocessing import StandardScaler\n",
    "from sklearn.preprocessing import LabelEncoder\n",
    "from sklearn.model_selection import train_test_split\n",
    "from sklearn.metrics import accuracy_score\n",
    "from sklearn.model_selection import KFold, RandomizedSearchCV\n",
    "from xgboost import XGBClassifier"
   ]
  },
  {
   "cell_type": "code",
   "execution_count": 2,
   "metadata": {},
   "outputs": [],
   "source": [
    "import pandas as pd\n",
    "import numpy as np"
   ]
  },
  {
   "cell_type": "code",
   "execution_count": 3,
   "metadata": {},
   "outputs": [],
   "source": [
    "import matplotlib.pyplot as plt"
   ]
  },
  {
   "cell_type": "code",
   "execution_count": 4,
   "metadata": {},
   "outputs": [],
   "source": [
    "from sklearn.metrics import plot_confusion_matrix"
   ]
  },
  {
   "cell_type": "code",
   "execution_count": 5,
   "metadata": {},
   "outputs": [],
   "source": [
    "plt.rcParams['figure.figsize'] = (10,10)"
   ]
  },
  {
   "cell_type": "markdown",
   "metadata": {},
   "source": [
    "## The modifications of the data set (data =modeling_numeric.csv)\n",
    "​\n",
    "  ### We have to drop some unnecessary columns that we saw in the feature_importances_.\n",
    "    * \"R_fighter\",\"B_fighter\",\"Referee\",\"date\",\"location\",\"R_draw\",\"B_draw\",\"no_of_rounds\",\"R_wins\",\"B_wins\",\n",
    "    * \"R_losses\",\"B_losses\",\"B_total_title_bouts\",\"R_total_title_bouts\",\"R_total_rounds_fought\",\"B_total_rounds_fought\",           * \"R_total_time_fought(seconds)\",\"B_total_time_fought(seconds)\",\"R_longest_win_streak\",\"B_longest_win_streak\",\n",
    "    * \"R_current_lose_streak\",\"B_current_lose_streak\",'R_win_by_Decision_Majority','R_win_by_Decision_Split',\n",
    "    * 'R_win_by_Decision_Unanimous', 'R_win_by_KO/TKO',\"R_win_by_Submission','R_win_by_TKO_Doctor_Stoppage',\n",
    "    * \"B_current_win_streak\",'B_win_by_Decision_Majority','B_win_by_Decision_Split','B_win_by_Decision_Unanimous',\n",
    "    * 'B_win_by_KO/TKO', 'B_win_by_Submission','B_win_by_TKO_Doctor_Stoppage',\"title_bout\",\n",
    "    * \"R_current_win_streak\",'R_Stance','B_Stance'\n",
    "    \n",
    " ### We applied an OrdinalEncoder to the weight_class\n",
    " ### We dropped from winner the Draw results because did not help us for the prediction and after we chaged to binary  1=Red Winner , 0= Blue Winner\n",
    " ### In this data set all the Null values were replaced and deleted.\n",
    " ### We created two new columns (weight_diff_red-blue and height_diff_red-blue)"
   ]
  },
  {
   "cell_type": "code",
   "execution_count": 6,
   "metadata": {},
   "outputs": [],
   "source": [
    "data=pd.read_csv(\"data/modeling_numeric.csv\",index_col=None)"
   ]
  },
  {
   "cell_type": "code",
   "execution_count": 7,
   "metadata": {},
   "outputs": [
    {
     "data": {
      "text/html": [
       "<div>\n",
       "<style scoped>\n",
       "    .dataframe tbody tr th:only-of-type {\n",
       "        vertical-align: middle;\n",
       "    }\n",
       "\n",
       "    .dataframe tbody tr th {\n",
       "        vertical-align: top;\n",
       "    }\n",
       "\n",
       "    .dataframe thead th {\n",
       "        text-align: right;\n",
       "    }\n",
       "</style>\n",
       "<table border=\"1\" class=\"dataframe\">\n",
       "  <thead>\n",
       "    <tr style=\"text-align: right;\">\n",
       "      <th></th>\n",
       "      <th>Winner</th>\n",
       "      <th>title_bout</th>\n",
       "      <th>weight_class</th>\n",
       "      <th>B_avg_BODY_att</th>\n",
       "      <th>B_avg_BODY_landed</th>\n",
       "      <th>B_avg_CLINCH_att</th>\n",
       "      <th>B_avg_CLINCH_landed</th>\n",
       "      <th>B_avg_DISTANCE_att</th>\n",
       "      <th>B_avg_DISTANCE_landed</th>\n",
       "      <th>B_avg_GROUND_att</th>\n",
       "      <th>...</th>\n",
       "      <th>R_avg_opp_TD_pct</th>\n",
       "      <th>R_avg_opp_TOTAL_STR_att</th>\n",
       "      <th>R_avg_opp_TOTAL_STR_landed</th>\n",
       "      <th>R_Height_cms</th>\n",
       "      <th>R_Reach_cms</th>\n",
       "      <th>R_Weight_lbs</th>\n",
       "      <th>B_age</th>\n",
       "      <th>R_age</th>\n",
       "      <th>weight_diff_red-blue</th>\n",
       "      <th>height_diff_red-blue</th>\n",
       "    </tr>\n",
       "  </thead>\n",
       "  <tbody>\n",
       "    <tr>\n",
       "      <td>0</td>\n",
       "      <td>1</td>\n",
       "      <td>1</td>\n",
       "      <td>4</td>\n",
       "      <td>9.200000</td>\n",
       "      <td>6.000000</td>\n",
       "      <td>0.200000</td>\n",
       "      <td>0.000000</td>\n",
       "      <td>62.600000</td>\n",
       "      <td>20.600000</td>\n",
       "      <td>2.600000</td>\n",
       "      <td>...</td>\n",
       "      <td>0.050000</td>\n",
       "      <td>110.500000</td>\n",
       "      <td>43.300000</td>\n",
       "      <td>162.56</td>\n",
       "      <td>162.56</td>\n",
       "      <td>135.0</td>\n",
       "      <td>31.0</td>\n",
       "      <td>32.0</td>\n",
       "      <td>0.0</td>\n",
       "      <td>-5.08</td>\n",
       "    </tr>\n",
       "    <tr>\n",
       "      <td>1</td>\n",
       "      <td>1</td>\n",
       "      <td>1</td>\n",
       "      <td>3</td>\n",
       "      <td>14.600000</td>\n",
       "      <td>9.100000</td>\n",
       "      <td>11.800000</td>\n",
       "      <td>7.300000</td>\n",
       "      <td>124.700000</td>\n",
       "      <td>42.100000</td>\n",
       "      <td>2.400000</td>\n",
       "      <td>...</td>\n",
       "      <td>0.147143</td>\n",
       "      <td>158.142857</td>\n",
       "      <td>82.285714</td>\n",
       "      <td>165.10</td>\n",
       "      <td>167.64</td>\n",
       "      <td>125.0</td>\n",
       "      <td>32.0</td>\n",
       "      <td>31.0</td>\n",
       "      <td>0.0</td>\n",
       "      <td>-2.54</td>\n",
       "    </tr>\n",
       "    <tr>\n",
       "      <td>2</td>\n",
       "      <td>1</td>\n",
       "      <td>0</td>\n",
       "      <td>8</td>\n",
       "      <td>15.354839</td>\n",
       "      <td>11.322581</td>\n",
       "      <td>6.741935</td>\n",
       "      <td>4.387097</td>\n",
       "      <td>84.741935</td>\n",
       "      <td>38.580645</td>\n",
       "      <td>5.516129</td>\n",
       "      <td>...</td>\n",
       "      <td>0.131333</td>\n",
       "      <td>102.133333</td>\n",
       "      <td>38.600000</td>\n",
       "      <td>180.34</td>\n",
       "      <td>193.04</td>\n",
       "      <td>155.0</td>\n",
       "      <td>36.0</td>\n",
       "      <td>35.0</td>\n",
       "      <td>0.0</td>\n",
       "      <td>-5.08</td>\n",
       "    </tr>\n",
       "    <tr>\n",
       "      <td>3</td>\n",
       "      <td>0</td>\n",
       "      <td>0</td>\n",
       "      <td>4</td>\n",
       "      <td>17.000000</td>\n",
       "      <td>14.000000</td>\n",
       "      <td>13.750000</td>\n",
       "      <td>11.000000</td>\n",
       "      <td>109.500000</td>\n",
       "      <td>48.750000</td>\n",
       "      <td>13.000000</td>\n",
       "      <td>...</td>\n",
       "      <td>0.000000</td>\n",
       "      <td>115.125000</td>\n",
       "      <td>48.875000</td>\n",
       "      <td>162.56</td>\n",
       "      <td>172.72</td>\n",
       "      <td>135.0</td>\n",
       "      <td>26.0</td>\n",
       "      <td>29.0</td>\n",
       "      <td>0.0</td>\n",
       "      <td>-7.62</td>\n",
       "    </tr>\n",
       "    <tr>\n",
       "      <td>4</td>\n",
       "      <td>0</td>\n",
       "      <td>0</td>\n",
       "      <td>12</td>\n",
       "      <td>17.000000</td>\n",
       "      <td>14.500000</td>\n",
       "      <td>2.500000</td>\n",
       "      <td>2.000000</td>\n",
       "      <td>201.000000</td>\n",
       "      <td>59.500000</td>\n",
       "      <td>0.000000</td>\n",
       "      <td>...</td>\n",
       "      <td>0.000000</td>\n",
       "      <td>60.500000</td>\n",
       "      <td>27.750000</td>\n",
       "      <td>187.96</td>\n",
       "      <td>190.50</td>\n",
       "      <td>264.0</td>\n",
       "      <td>32.0</td>\n",
       "      <td>26.0</td>\n",
       "      <td>14.0</td>\n",
       "      <td>7.62</td>\n",
       "    </tr>\n",
       "  </tbody>\n",
       "</table>\n",
       "<p>5 rows × 109 columns</p>\n",
       "</div>"
      ],
      "text/plain": [
       "   Winner  title_bout  weight_class  B_avg_BODY_att  B_avg_BODY_landed  \\\n",
       "0       1           1             4        9.200000           6.000000   \n",
       "1       1           1             3       14.600000           9.100000   \n",
       "2       1           0             8       15.354839          11.322581   \n",
       "3       0           0             4       17.000000          14.000000   \n",
       "4       0           0            12       17.000000          14.500000   \n",
       "\n",
       "   B_avg_CLINCH_att  B_avg_CLINCH_landed  B_avg_DISTANCE_att  \\\n",
       "0          0.200000             0.000000           62.600000   \n",
       "1         11.800000             7.300000          124.700000   \n",
       "2          6.741935             4.387097           84.741935   \n",
       "3         13.750000            11.000000          109.500000   \n",
       "4          2.500000             2.000000          201.000000   \n",
       "\n",
       "   B_avg_DISTANCE_landed  B_avg_GROUND_att  ...  R_avg_opp_TD_pct  \\\n",
       "0              20.600000          2.600000  ...          0.050000   \n",
       "1              42.100000          2.400000  ...          0.147143   \n",
       "2              38.580645          5.516129  ...          0.131333   \n",
       "3              48.750000         13.000000  ...          0.000000   \n",
       "4              59.500000          0.000000  ...          0.000000   \n",
       "\n",
       "   R_avg_opp_TOTAL_STR_att  R_avg_opp_TOTAL_STR_landed  R_Height_cms  \\\n",
       "0               110.500000                   43.300000        162.56   \n",
       "1               158.142857                   82.285714        165.10   \n",
       "2               102.133333                   38.600000        180.34   \n",
       "3               115.125000                   48.875000        162.56   \n",
       "4                60.500000                   27.750000        187.96   \n",
       "\n",
       "   R_Reach_cms  R_Weight_lbs  B_age  R_age  weight_diff_red-blue  \\\n",
       "0       162.56         135.0   31.0   32.0                   0.0   \n",
       "1       167.64         125.0   32.0   31.0                   0.0   \n",
       "2       193.04         155.0   36.0   35.0                   0.0   \n",
       "3       172.72         135.0   26.0   29.0                   0.0   \n",
       "4       190.50         264.0   32.0   26.0                  14.0   \n",
       "\n",
       "   height_diff_red-blue  \n",
       "0                 -5.08  \n",
       "1                 -2.54  \n",
       "2                 -5.08  \n",
       "3                 -7.62  \n",
       "4                  7.62  \n",
       "\n",
       "[5 rows x 109 columns]"
      ]
     },
     "execution_count": 7,
     "metadata": {},
     "output_type": "execute_result"
    }
   ],
   "source": [
    "data.head()"
   ]
  },
  {
   "cell_type": "code",
   "execution_count": 8,
   "metadata": {},
   "outputs": [],
   "source": [
    "data.drop('title_bout',axis=1,inplace=True)"
   ]
  },
  {
   "cell_type": "code",
   "execution_count": 23,
   "metadata": {},
   "outputs": [
    {
     "data": {
      "text/plain": [
       "(3307, 109)"
      ]
     },
     "execution_count": 23,
     "metadata": {},
     "output_type": "execute_result"
    }
   ],
   "source": [
    "data.shape"
   ]
  },
  {
   "cell_type": "code",
   "execution_count": 9,
   "metadata": {},
   "outputs": [],
   "source": [
    "model = XGBClassifier()"
   ]
  },
  {
   "cell_type": "code",
   "execution_count": 10,
   "metadata": {},
   "outputs": [],
   "source": [
    "X = data.drop(['Winner'], axis=1)\n",
    "y = data['Winner']\n",
    "\n",
    "X_train,X_test,y_train,y_test = train_test_split(X,y,test_size = 0.20, random_state = 0)"
   ]
  },
  {
   "cell_type": "code",
   "execution_count": 11,
   "metadata": {},
   "outputs": [
    {
     "data": {
      "text/plain": [
       "XGBClassifier(base_score=0.5, booster='gbtree', colsample_bylevel=1,\n",
       "              colsample_bynode=1, colsample_bytree=1, gamma=0, gpu_id=-1,\n",
       "              importance_type='gain', interaction_constraints='',\n",
       "              learning_rate=0.300000012, max_delta_step=0, max_depth=6,\n",
       "              min_child_weight=1, missing=nan, monotone_constraints='()',\n",
       "              n_estimators=100, n_jobs=0, num_parallel_tree=1, random_state=0,\n",
       "              reg_alpha=0, reg_lambda=1, scale_pos_weight=1, subsample=1,\n",
       "              tree_method='exact', validate_parameters=1, verbosity=None)"
      ]
     },
     "execution_count": 11,
     "metadata": {},
     "output_type": "execute_result"
    }
   ],
   "source": [
    "model.fit(X_train,y_train)"
   ]
  },
  {
   "cell_type": "code",
   "execution_count": 12,
   "metadata": {},
   "outputs": [
    {
     "data": {
      "text/plain": [
       "1.0"
      ]
     },
     "execution_count": 12,
     "metadata": {},
     "output_type": "execute_result"
    }
   ],
   "source": [
    "model.score(X_train, y_train)"
   ]
  },
  {
   "cell_type": "code",
   "execution_count": 13,
   "metadata": {},
   "outputs": [
    {
     "data": {
      "text/plain": [
       "0.6555891238670695"
      ]
     },
     "execution_count": 13,
     "metadata": {},
     "output_type": "execute_result"
    }
   ],
   "source": [
    "model.score(X_test, y_test)"
   ]
  },
  {
   "cell_type": "code",
   "execution_count": 14,
   "metadata": {},
   "outputs": [
    {
     "data": {
      "text/plain": [
       "array([0.00672946, 0.01103173, 0.00845295, 0.01016635, 0.00630724,\n",
       "       0.01069614, 0.0117727 , 0.00717675, 0.00763253, 0.01131273,\n",
       "       0.00889744, 0.00634798, 0.00747247, 0.00492427, 0.01049399,\n",
       "       0.00835611, 0.00981937, 0.01509426, 0.00681552, 0.00613443,\n",
       "       0.01232072, 0.00823317, 0.00685921, 0.01065589, 0.01016969,\n",
       "       0.00924889, 0.01097713, 0.00864087, 0.00783721, 0.01147285,\n",
       "       0.01176905, 0.00713432, 0.01037623, 0.00891343, 0.01016674,\n",
       "       0.00881184, 0.00798717, 0.00689453, 0.00901847, 0.00841305,\n",
       "       0.00980452, 0.00488428, 0.00820375, 0.00660201, 0.00892831,\n",
       "       0.00966611, 0.01248576, 0.01176027, 0.01158344, 0.01038323,\n",
       "       0.00915227, 0.01087775, 0.01099092, 0.00893019, 0.00719674,\n",
       "       0.0139864 , 0.00617568, 0.01046197, 0.00967539, 0.01231206,\n",
       "       0.00594125, 0.00860112, 0.00579585, 0.01010761, 0.00647257,\n",
       "       0.00755573, 0.01232685, 0.01200435, 0.01018175, 0.00679771,\n",
       "       0.00891655, 0.00683494, 0.00978555, 0.0106841 , 0.00760973,\n",
       "       0.00752952, 0.0092284 , 0.00614327, 0.00523694, 0.00801343,\n",
       "       0.00779979, 0.00717242, 0.00762348, 0.01142282, 0.00751556,\n",
       "       0.02624237, 0.01052824, 0.00995131, 0.0121285 , 0.00741393,\n",
       "       0.01092725, 0.0127114 , 0.01289797, 0.00951286, 0.00721808,\n",
       "       0.00726516, 0.00797728, 0.00664261, 0.01330619, 0.00959597,\n",
       "       0.01077381, 0.01033225, 0.00818731, 0.01583625, 0.01365864,\n",
       "       0.00741927, 0.0065762 ], dtype=float32)"
      ]
     },
     "execution_count": 14,
     "metadata": {},
     "output_type": "execute_result"
    }
   ],
   "source": [
    "model.feature_importances_"
   ]
  },
  {
   "cell_type": "code",
   "execution_count": 93,
   "metadata": {
    "scrolled": false
   },
   "outputs": [
    {
     "data": {
      "image/png": "[encoded data removed]",
      "text/plain": [
       "<Figure size 720x720 with 1 Axes>"
      ]
     },
     "metadata": {
      "needs_background": "light"
     },
     "output_type": "display_data"
    }
   ],
   "source": [
    "features = data.columns\n",
    "importances = model.feature_importances_\n",
    "indices = np.argsort(importances)[-69:]  # top 30 features\n",
    "plt.title('Feature Importances')\n",
    "plt.barh(range(len(indices)), importances[indices], color='b', align='center')\n",
    "plt.yticks(range(len(indices)), [features[i] for i in indices])\n",
    "plt.xlabel('Relative Importance')\n",
    "plt.show()"
   ]
  },
  {
   "cell_type": "code",
   "execution_count": 15,
   "metadata": {
    "scrolled": true
   },
   "outputs": [
    {
     "data": {
      "image/png": "[encoded data removed]",
      "text/plain": [
       "<Figure size 720x720 with 2 Axes>"
      ]
     },
     "metadata": {
      "needs_background": "light"
     },
     "output_type": "display_data"
    }
   ],
   "source": [
    "predictions = model.predict(X_test) #1=Red, 0=Blue\n",
    "\n",
    "# Generate confusion matrix\n",
    "matrix = plot_confusion_matrix(model, X_test, y_test,\n",
    "                                 cmap=plt.cm.Blues,\n",
    "                                 normalize=None)"
   ]
  },
  {
   "cell_type": "code",
   "execution_count": null,
   "metadata": {},
   "outputs": [],
   "source": []
  },
  {
   "cell_type": "markdown",
   "metadata": {},
   "source": [
    "## We will try to improve the model by changing some information into the dataset, we will take the mean of every single avg column for Red and Blue fighter, create other ones with this information, and replaced the old one to see if that could improve our results."
   ]
  },
  {
   "cell_type": "markdown",
   "metadata": {},
   "source": [
    "## The modifications of the data set (data =data_modeling.csv). This is the original data set\n",
    "\n",
    "  ### We have to drop the categorical columns.\n",
    "    * \"R_fighter\",\"B_fighter\", \"Referee\", \"date\",\"location\"\n",
    "        \n",
    "### We applied an OrdinalEncoder to the weight_class\n",
    "### We applied and label_encoder to the B_Stance and R_Stance\n",
    "### We dropped from winner the Draw results because did not help us for the prediction and after we chaged to binary  1=Red Winner , 0= Blue Winner\n",
    "### In this data set all the Null values were replaced and deleted."
   ]
  },
  {
   "cell_type": "code",
   "execution_count": 159,
   "metadata": {},
   "outputs": [],
   "source": [
    "data1=pd.read_csv(\"data/data_modeling.csv\",index_col=None)"
   ]
  },
  {
   "cell_type": "code",
   "execution_count": 160,
   "metadata": {},
   "outputs": [
    {
     "data": {
      "text/plain": [
       "(3360, 145)"
      ]
     },
     "execution_count": 160,
     "metadata": {},
     "output_type": "execute_result"
    }
   ],
   "source": [
    "data1.shape"
   ]
  },
  {
   "cell_type": "code",
   "execution_count": 161,
   "metadata": {},
   "outputs": [
    {
     "data": {
      "text/plain": [
       "48"
      ]
     },
     "execution_count": 161,
     "metadata": {},
     "output_type": "execute_result"
    }
   ],
   "source": [
    "R_col = [s for s in data1.columns if \"R_avg_\" in s]\n",
    "len(R_col)"
   ]
  },
  {
   "cell_type": "code",
   "execution_count": 162,
   "metadata": {},
   "outputs": [],
   "source": [
    "R_avg=[]\n",
    "for i in range(len(R_col)):\n",
    "    x=data1.groupby(\"R_fighter\")[R_col[i]].mean()\n",
    "    R_avg.append(x)\n",
    "    "
   ]
  },
  {
   "cell_type": "code",
   "execution_count": 163,
   "metadata": {},
   "outputs": [
    {
     "data": {
      "text/plain": [
       "48"
      ]
     },
     "execution_count": 163,
     "metadata": {},
     "output_type": "execute_result"
    }
   ],
   "source": [
    "B_col = [s for s in data1.columns if \"B_avg_\" in s]\n",
    "len(B_col)"
   ]
  },
  {
   "cell_type": "code",
   "execution_count": 171,
   "metadata": {},
   "outputs": [],
   "source": [
    "B_avg=[]\n",
    "for i in range(len(B_col)):\n",
    "    x=data1.groupby(\"B_fighter\")[B_col[i]].mean()\n",
    "    B_avg.append(x)"
   ]
  },
  {
   "cell_type": "code",
   "execution_count": 172,
   "metadata": {},
   "outputs": [
    {
     "data": {
      "text/html": [
       "<div>\n",
       "<style scoped>\n",
       "    .dataframe tbody tr th:only-of-type {\n",
       "        vertical-align: middle;\n",
       "    }\n",
       "\n",
       "    .dataframe tbody tr th {\n",
       "        vertical-align: top;\n",
       "    }\n",
       "\n",
       "    .dataframe thead th {\n",
       "        text-align: right;\n",
       "    }\n",
       "</style>\n",
       "<table border=\"1\" class=\"dataframe\">\n",
       "  <thead>\n",
       "    <tr style=\"text-align: right;\">\n",
       "      <th></th>\n",
       "      <th>B_fighter</th>\n",
       "      <th>B_avg_BODY_att</th>\n",
       "      <th>B_avg_BODY_landed</th>\n",
       "      <th>B_avg_CLINCH_att</th>\n",
       "      <th>B_avg_CLINCH_landed</th>\n",
       "      <th>B_avg_DISTANCE_att</th>\n",
       "      <th>B_avg_DISTANCE_landed</th>\n",
       "      <th>B_avg_GROUND_att</th>\n",
       "      <th>B_avg_GROUND_landed</th>\n",
       "      <th>B_avg_HEAD_att</th>\n",
       "      <th>...</th>\n",
       "      <th>B_avg_opp_REV</th>\n",
       "      <th>B_avg_opp_SIG_STR_att</th>\n",
       "      <th>B_avg_opp_SIG_STR_landed</th>\n",
       "      <th>B_avg_opp_SIG_STR_pct</th>\n",
       "      <th>B_avg_opp_SUB_ATT</th>\n",
       "      <th>B_avg_opp_TD_att</th>\n",
       "      <th>B_avg_opp_TD_landed</th>\n",
       "      <th>B_avg_opp_TD_pct</th>\n",
       "      <th>B_avg_opp_TOTAL_STR_att</th>\n",
       "      <th>B_avg_opp_TOTAL_STR_landed</th>\n",
       "    </tr>\n",
       "  </thead>\n",
       "  <tbody>\n",
       "    <tr>\n",
       "      <td>0</td>\n",
       "      <td>Aaron Riley</td>\n",
       "      <td>16.690476</td>\n",
       "      <td>14.040476</td>\n",
       "      <td>30.440476</td>\n",
       "      <td>17.669048</td>\n",
       "      <td>79.547619</td>\n",
       "      <td>27.788095</td>\n",
       "      <td>3.454762</td>\n",
       "      <td>2.485714</td>\n",
       "      <td>79.478571</td>\n",
       "      <td>...</td>\n",
       "      <td>0.000000</td>\n",
       "      <td>124.292857</td>\n",
       "      <td>49.135714</td>\n",
       "      <td>0.391357</td>\n",
       "      <td>0.000000</td>\n",
       "      <td>4.528571</td>\n",
       "      <td>2.719048</td>\n",
       "      <td>0.374405</td>\n",
       "      <td>143.954762</td>\n",
       "      <td>68.519048</td>\n",
       "    </tr>\n",
       "    <tr>\n",
       "      <td>1</td>\n",
       "      <td>Aaron Rosa</td>\n",
       "      <td>23.500000</td>\n",
       "      <td>21.000000</td>\n",
       "      <td>31.500000</td>\n",
       "      <td>26.000000</td>\n",
       "      <td>107.500000</td>\n",
       "      <td>40.000000</td>\n",
       "      <td>0.000000</td>\n",
       "      <td>0.000000</td>\n",
       "      <td>110.500000</td>\n",
       "      <td>...</td>\n",
       "      <td>0.000000</td>\n",
       "      <td>113.500000</td>\n",
       "      <td>53.500000</td>\n",
       "      <td>0.470000</td>\n",
       "      <td>0.000000</td>\n",
       "      <td>7.000000</td>\n",
       "      <td>1.000000</td>\n",
       "      <td>0.175000</td>\n",
       "      <td>189.500000</td>\n",
       "      <td>116.500000</td>\n",
       "    </tr>\n",
       "    <tr>\n",
       "      <td>2</td>\n",
       "      <td>Aaron Simpson</td>\n",
       "      <td>10.811111</td>\n",
       "      <td>7.488889</td>\n",
       "      <td>18.155556</td>\n",
       "      <td>11.755556</td>\n",
       "      <td>38.400000</td>\n",
       "      <td>11.622222</td>\n",
       "      <td>14.733333</td>\n",
       "      <td>8.377778</td>\n",
       "      <td>55.233333</td>\n",
       "      <td>...</td>\n",
       "      <td>0.122222</td>\n",
       "      <td>69.411111</td>\n",
       "      <td>29.200000</td>\n",
       "      <td>0.366000</td>\n",
       "      <td>0.466667</td>\n",
       "      <td>2.000000</td>\n",
       "      <td>0.355556</td>\n",
       "      <td>0.067889</td>\n",
       "      <td>81.188889</td>\n",
       "      <td>40.377778</td>\n",
       "    </tr>\n",
       "    <tr>\n",
       "      <td>3</td>\n",
       "      <td>Abdul Razak Alhassan</td>\n",
       "      <td>2.416667</td>\n",
       "      <td>1.583333</td>\n",
       "      <td>6.333333</td>\n",
       "      <td>4.833333</td>\n",
       "      <td>52.583333</td>\n",
       "      <td>21.333333</td>\n",
       "      <td>1.666667</td>\n",
       "      <td>1.250000</td>\n",
       "      <td>55.000000</td>\n",
       "      <td>...</td>\n",
       "      <td>0.000000</td>\n",
       "      <td>79.583333</td>\n",
       "      <td>29.000000</td>\n",
       "      <td>0.304167</td>\n",
       "      <td>0.000000</td>\n",
       "      <td>4.083333</td>\n",
       "      <td>2.500000</td>\n",
       "      <td>0.275000</td>\n",
       "      <td>105.333333</td>\n",
       "      <td>48.916667</td>\n",
       "    </tr>\n",
       "    <tr>\n",
       "      <td>4</td>\n",
       "      <td>Abel Trujillo</td>\n",
       "      <td>14.913889</td>\n",
       "      <td>12.897222</td>\n",
       "      <td>17.502778</td>\n",
       "      <td>13.900000</td>\n",
       "      <td>33.555556</td>\n",
       "      <td>9.225000</td>\n",
       "      <td>16.658333</td>\n",
       "      <td>14.172222</td>\n",
       "      <td>49.244444</td>\n",
       "      <td>...</td>\n",
       "      <td>0.000000</td>\n",
       "      <td>42.663889</td>\n",
       "      <td>18.738889</td>\n",
       "      <td>0.476639</td>\n",
       "      <td>0.969444</td>\n",
       "      <td>10.147222</td>\n",
       "      <td>5.619444</td>\n",
       "      <td>0.410694</td>\n",
       "      <td>54.388889</td>\n",
       "      <td>27.955556</td>\n",
       "    </tr>\n",
       "  </tbody>\n",
       "</table>\n",
       "<p>5 rows × 49 columns</p>\n",
       "</div>"
      ],
      "text/plain": [
       "              B_fighter  B_avg_BODY_att  B_avg_BODY_landed  B_avg_CLINCH_att  \\\n",
       "0           Aaron Riley       16.690476          14.040476         30.440476   \n",
       "1            Aaron Rosa       23.500000          21.000000         31.500000   \n",
       "2         Aaron Simpson       10.811111           7.488889         18.155556   \n",
       "3  Abdul Razak Alhassan        2.416667           1.583333          6.333333   \n",
       "4         Abel Trujillo       14.913889          12.897222         17.502778   \n",
       "\n",
       "   B_avg_CLINCH_landed  B_avg_DISTANCE_att  B_avg_DISTANCE_landed  \\\n",
       "0            17.669048           79.547619              27.788095   \n",
       "1            26.000000          107.500000              40.000000   \n",
       "2            11.755556           38.400000              11.622222   \n",
       "3             4.833333           52.583333              21.333333   \n",
       "4            13.900000           33.555556               9.225000   \n",
       "\n",
       "   B_avg_GROUND_att  B_avg_GROUND_landed  B_avg_HEAD_att  ...  B_avg_opp_REV  \\\n",
       "0          3.454762             2.485714       79.478571  ...       0.000000   \n",
       "1          0.000000             0.000000      110.500000  ...       0.000000   \n",
       "2         14.733333             8.377778       55.233333  ...       0.122222   \n",
       "3          1.666667             1.250000       55.000000  ...       0.000000   \n",
       "4         16.658333            14.172222       49.244444  ...       0.000000   \n",
       "\n",
       "   B_avg_opp_SIG_STR_att  B_avg_opp_SIG_STR_landed  B_avg_opp_SIG_STR_pct  \\\n",
       "0             124.292857                 49.135714               0.391357   \n",
       "1             113.500000                 53.500000               0.470000   \n",
       "2              69.411111                 29.200000               0.366000   \n",
       "3              79.583333                 29.000000               0.304167   \n",
       "4              42.663889                 18.738889               0.476639   \n",
       "\n",
       "   B_avg_opp_SUB_ATT  B_avg_opp_TD_att  B_avg_opp_TD_landed  B_avg_opp_TD_pct  \\\n",
       "0           0.000000          4.528571             2.719048          0.374405   \n",
       "1           0.000000          7.000000             1.000000          0.175000   \n",
       "2           0.466667          2.000000             0.355556          0.067889   \n",
       "3           0.000000          4.083333             2.500000          0.275000   \n",
       "4           0.969444         10.147222             5.619444          0.410694   \n",
       "\n",
       "   B_avg_opp_TOTAL_STR_att  B_avg_opp_TOTAL_STR_landed  \n",
       "0               143.954762                   68.519048  \n",
       "1               189.500000                  116.500000  \n",
       "2                81.188889                   40.377778  \n",
       "3               105.333333                   48.916667  \n",
       "4                54.388889                   27.955556  \n",
       "\n",
       "[5 rows x 49 columns]"
      ]
     },
     "execution_count": 172,
     "metadata": {},
     "output_type": "execute_result"
    }
   ],
   "source": [
    "B_fighter_avg = pd.DataFrame(B_avg).T\n",
    "B_fighter_avg.reset_index(inplace=True)\n",
    "B_fighter_avg.head()"
   ]
  },
  {
   "cell_type": "code",
   "execution_count": 173,
   "metadata": {
    "scrolled": false
   },
   "outputs": [
    {
     "data": {
      "text/html": [
       "<div>\n",
       "<style scoped>\n",
       "    .dataframe tbody tr th:only-of-type {\n",
       "        vertical-align: middle;\n",
       "    }\n",
       "\n",
       "    .dataframe tbody tr th {\n",
       "        vertical-align: top;\n",
       "    }\n",
       "\n",
       "    .dataframe thead th {\n",
       "        text-align: right;\n",
       "    }\n",
       "</style>\n",
       "<table border=\"1\" class=\"dataframe\">\n",
       "  <thead>\n",
       "    <tr style=\"text-align: right;\">\n",
       "      <th></th>\n",
       "      <th>R_fighter</th>\n",
       "      <th>R_avg_BODY_att</th>\n",
       "      <th>R_avg_BODY_landed</th>\n",
       "      <th>R_avg_CLINCH_att</th>\n",
       "      <th>R_avg_CLINCH_landed</th>\n",
       "      <th>R_avg_DISTANCE_att</th>\n",
       "      <th>R_avg_DISTANCE_landed</th>\n",
       "      <th>R_avg_GROUND_att</th>\n",
       "      <th>R_avg_GROUND_landed</th>\n",
       "      <th>R_avg_HEAD_att</th>\n",
       "      <th>...</th>\n",
       "      <th>R_avg_opp_REV</th>\n",
       "      <th>R_avg_opp_SIG_STR_att</th>\n",
       "      <th>R_avg_opp_SIG_STR_landed</th>\n",
       "      <th>R_avg_opp_SIG_STR_pct</th>\n",
       "      <th>R_avg_opp_SUB_ATT</th>\n",
       "      <th>R_avg_opp_TD_att</th>\n",
       "      <th>R_avg_opp_TD_landed</th>\n",
       "      <th>R_avg_opp_TD_pct</th>\n",
       "      <th>R_avg_opp_TOTAL_STR_att</th>\n",
       "      <th>R_avg_opp_TOTAL_STR_landed</th>\n",
       "    </tr>\n",
       "  </thead>\n",
       "  <tbody>\n",
       "    <tr>\n",
       "      <td>0</td>\n",
       "      <td>Aaron Phillips</td>\n",
       "      <td>14.000000</td>\n",
       "      <td>12.000000</td>\n",
       "      <td>6.000000</td>\n",
       "      <td>3.000000</td>\n",
       "      <td>26.000000</td>\n",
       "      <td>9.000000</td>\n",
       "      <td>8.000000</td>\n",
       "      <td>6.000000</td>\n",
       "      <td>23.000000</td>\n",
       "      <td>...</td>\n",
       "      <td>1.000000</td>\n",
       "      <td>68.000000</td>\n",
       "      <td>37.000000</td>\n",
       "      <td>0.540000</td>\n",
       "      <td>1.000000</td>\n",
       "      <td>8.000000</td>\n",
       "      <td>5.000000</td>\n",
       "      <td>0.620000</td>\n",
       "      <td>129.000000</td>\n",
       "      <td>95.000000</td>\n",
       "    </tr>\n",
       "    <tr>\n",
       "      <td>1</td>\n",
       "      <td>Aaron Riley</td>\n",
       "      <td>13.083333</td>\n",
       "      <td>10.833333</td>\n",
       "      <td>22.958333</td>\n",
       "      <td>13.625000</td>\n",
       "      <td>62.541667</td>\n",
       "      <td>21.041667</td>\n",
       "      <td>2.500000</td>\n",
       "      <td>1.833333</td>\n",
       "      <td>61.333333</td>\n",
       "      <td>...</td>\n",
       "      <td>0.000000</td>\n",
       "      <td>106.000000</td>\n",
       "      <td>41.791667</td>\n",
       "      <td>0.390417</td>\n",
       "      <td>0.000000</td>\n",
       "      <td>3.125000</td>\n",
       "      <td>1.916667</td>\n",
       "      <td>0.270833</td>\n",
       "      <td>120.208333</td>\n",
       "      <td>55.791667</td>\n",
       "    </tr>\n",
       "    <tr>\n",
       "      <td>2</td>\n",
       "      <td>Aaron Simpson</td>\n",
       "      <td>9.433787</td>\n",
       "      <td>6.768481</td>\n",
       "      <td>16.586395</td>\n",
       "      <td>12.109127</td>\n",
       "      <td>32.247619</td>\n",
       "      <td>11.256406</td>\n",
       "      <td>15.888889</td>\n",
       "      <td>9.396202</td>\n",
       "      <td>47.773356</td>\n",
       "      <td>...</td>\n",
       "      <td>0.068424</td>\n",
       "      <td>52.298073</td>\n",
       "      <td>21.340420</td>\n",
       "      <td>0.361684</td>\n",
       "      <td>0.208277</td>\n",
       "      <td>1.575737</td>\n",
       "      <td>0.301304</td>\n",
       "      <td>0.060827</td>\n",
       "      <td>64.855102</td>\n",
       "      <td>33.190703</td>\n",
       "    </tr>\n",
       "    <tr>\n",
       "      <td>3</td>\n",
       "      <td>Abdul Razak Alhassan</td>\n",
       "      <td>1.000000</td>\n",
       "      <td>0.625000</td>\n",
       "      <td>4.500000</td>\n",
       "      <td>3.375000</td>\n",
       "      <td>30.875000</td>\n",
       "      <td>12.625000</td>\n",
       "      <td>2.500000</td>\n",
       "      <td>1.875000</td>\n",
       "      <td>35.250000</td>\n",
       "      <td>...</td>\n",
       "      <td>0.000000</td>\n",
       "      <td>38.500000</td>\n",
       "      <td>13.625000</td>\n",
       "      <td>0.250000</td>\n",
       "      <td>0.000000</td>\n",
       "      <td>1.625000</td>\n",
       "      <td>0.875000</td>\n",
       "      <td>0.145000</td>\n",
       "      <td>47.000000</td>\n",
       "      <td>19.875000</td>\n",
       "    </tr>\n",
       "    <tr>\n",
       "      <td>4</td>\n",
       "      <td>Abel Trujillo</td>\n",
       "      <td>9.370370</td>\n",
       "      <td>8.052910</td>\n",
       "      <td>12.714286</td>\n",
       "      <td>9.343915</td>\n",
       "      <td>42.253968</td>\n",
       "      <td>12.084656</td>\n",
       "      <td>11.576720</td>\n",
       "      <td>9.550265</td>\n",
       "      <td>54.571429</td>\n",
       "      <td>...</td>\n",
       "      <td>0.000000</td>\n",
       "      <td>49.915344</td>\n",
       "      <td>21.291005</td>\n",
       "      <td>0.463598</td>\n",
       "      <td>1.269841</td>\n",
       "      <td>8.941799</td>\n",
       "      <td>5.650794</td>\n",
       "      <td>0.534444</td>\n",
       "      <td>62.640212</td>\n",
       "      <td>31.534392</td>\n",
       "    </tr>\n",
       "  </tbody>\n",
       "</table>\n",
       "<p>5 rows × 49 columns</p>\n",
       "</div>"
      ],
      "text/plain": [
       "              R_fighter  R_avg_BODY_att  R_avg_BODY_landed  R_avg_CLINCH_att  \\\n",
       "0        Aaron Phillips       14.000000          12.000000          6.000000   \n",
       "1           Aaron Riley       13.083333          10.833333         22.958333   \n",
       "2         Aaron Simpson        9.433787           6.768481         16.586395   \n",
       "3  Abdul Razak Alhassan        1.000000           0.625000          4.500000   \n",
       "4         Abel Trujillo        9.370370           8.052910         12.714286   \n",
       "\n",
       "   R_avg_CLINCH_landed  R_avg_DISTANCE_att  R_avg_DISTANCE_landed  \\\n",
       "0             3.000000           26.000000               9.000000   \n",
       "1            13.625000           62.541667              21.041667   \n",
       "2            12.109127           32.247619              11.256406   \n",
       "3             3.375000           30.875000              12.625000   \n",
       "4             9.343915           42.253968              12.084656   \n",
       "\n",
       "   R_avg_GROUND_att  R_avg_GROUND_landed  R_avg_HEAD_att  ...  R_avg_opp_REV  \\\n",
       "0          8.000000             6.000000       23.000000  ...       1.000000   \n",
       "1          2.500000             1.833333       61.333333  ...       0.000000   \n",
       "2         15.888889             9.396202       47.773356  ...       0.068424   \n",
       "3          2.500000             1.875000       35.250000  ...       0.000000   \n",
       "4         11.576720             9.550265       54.571429  ...       0.000000   \n",
       "\n",
       "   R_avg_opp_SIG_STR_att  R_avg_opp_SIG_STR_landed  R_avg_opp_SIG_STR_pct  \\\n",
       "0              68.000000                 37.000000               0.540000   \n",
       "1             106.000000                 41.791667               0.390417   \n",
       "2              52.298073                 21.340420               0.361684   \n",
       "3              38.500000                 13.625000               0.250000   \n",
       "4              49.915344                 21.291005               0.463598   \n",
       "\n",
       "   R_avg_opp_SUB_ATT  R_avg_opp_TD_att  R_avg_opp_TD_landed  R_avg_opp_TD_pct  \\\n",
       "0           1.000000          8.000000             5.000000          0.620000   \n",
       "1           0.000000          3.125000             1.916667          0.270833   \n",
       "2           0.208277          1.575737             0.301304          0.060827   \n",
       "3           0.000000          1.625000             0.875000          0.145000   \n",
       "4           1.269841          8.941799             5.650794          0.534444   \n",
       "\n",
       "   R_avg_opp_TOTAL_STR_att  R_avg_opp_TOTAL_STR_landed  \n",
       "0               129.000000                   95.000000  \n",
       "1               120.208333                   55.791667  \n",
       "2                64.855102                   33.190703  \n",
       "3                47.000000                   19.875000  \n",
       "4                62.640212                   31.534392  \n",
       "\n",
       "[5 rows x 49 columns]"
      ]
     },
     "execution_count": 173,
     "metadata": {},
     "output_type": "execute_result"
    }
   ],
   "source": [
    "R_fighter_avg = pd.DataFrame(R_avg).T\n",
    "R_fighter_avg.reset_index(inplace=True)\n",
    "R_fighter_avg.head()"
   ]
  },
  {
   "cell_type": "code",
   "execution_count": 174,
   "metadata": {},
   "outputs": [],
   "source": [
    "drop_col = [s for s in data1.columns if \"_avg_\" in s]\n",
    "data1.drop(columns=drop_col, inplace=True)"
   ]
  },
  {
   "cell_type": "code",
   "execution_count": 176,
   "metadata": {},
   "outputs": [],
   "source": [
    "data1.drop(columns=['no_of_rounds',\n",
    " 'B_current_lose_streak',\n",
    " 'B_current_win_streak',\n",
    " 'B_draw',\n",
    " 'B_longest_win_streak',\n",
    " 'B_losses',\n",
    " 'B_total_rounds_fought',\n",
    " 'B_total_time_fought(seconds)',\n",
    " 'B_total_title_bouts','B_wins','B_win_by_Decision_Majority',\n",
    " 'B_win_by_Decision_Split',\n",
    " 'B_win_by_Decision_Unanimous',\n",
    " 'B_win_by_KO/TKO',\n",
    " 'B_win_by_Submission',\n",
    " 'B_win_by_TKO_Doctor_Stoppage','R_current_lose_streak',\n",
    " 'R_current_win_streak',\n",
    " 'R_draw',\n",
    " 'R_longest_win_streak',\n",
    " 'R_losses',\n",
    " 'R_total_rounds_fought',\n",
    " 'R_total_time_fought(seconds)',\n",
    " 'R_total_title_bouts',\n",
    " 'R_win_by_Decision_Majority',\n",
    " 'R_win_by_Decision_Split',\n",
    " 'R_win_by_Decision_Unanimous',\n",
    " 'R_win_by_KO/TKO',\n",
    " 'R_win_by_Submission',\n",
    " 'R_win_by_TKO_Doctor_Stoppage',\n",
    " 'R_wins','title_bout'], inplace=True)"
   ]
  },
  {
   "cell_type": "code",
   "execution_count": 177,
   "metadata": {},
   "outputs": [
    {
     "data": {
      "text/plain": [
       "['R_fighter',\n",
       " 'B_fighter',\n",
       " 'Referee',\n",
       " 'date',\n",
       " 'location',\n",
       " 'Winner',\n",
       " 'weight_class',\n",
       " 'B_Stance',\n",
       " 'B_Height_cms',\n",
       " 'B_Reach_cms',\n",
       " 'B_Weight_lbs',\n",
       " 'R_Stance',\n",
       " 'R_Height_cms',\n",
       " 'R_Reach_cms',\n",
       " 'R_Weight_lbs',\n",
       " 'B_age',\n",
       " 'R_age']"
      ]
     },
     "execution_count": 177,
     "metadata": {},
     "output_type": "execute_result"
    }
   ],
   "source": [
    "list(data1.columns)"
   ]
  },
  {
   "cell_type": "code",
   "execution_count": 178,
   "metadata": {},
   "outputs": [
    {
     "data": {
      "text/plain": [
       "(3360, 17)"
      ]
     },
     "execution_count": 178,
     "metadata": {},
     "output_type": "execute_result"
    }
   ],
   "source": [
    "data1.shape"
   ]
  },
  {
   "cell_type": "code",
   "execution_count": 179,
   "metadata": {},
   "outputs": [],
   "source": [
    "df_new=pd.merge(left=data1, right= R_fighter_avg, how= \"left\", left_on= \"R_fighter\", right_on= \"R_fighter\" )"
   ]
  },
  {
   "cell_type": "code",
   "execution_count": 180,
   "metadata": {},
   "outputs": [],
   "source": [
    "new_data1=pd.merge(left=df_new, right= B_fighter_avg, how= \"left\", left_on= \"B_fighter\", right_on= \"B_fighter\")"
   ]
  },
  {
   "cell_type": "code",
   "execution_count": 181,
   "metadata": {
    "scrolled": true
   },
   "outputs": [
    {
     "data": {
      "text/plain": [
       "(3360, 113)"
      ]
     },
     "execution_count": 181,
     "metadata": {},
     "output_type": "execute_result"
    }
   ],
   "source": [
    "new_data1.shape"
   ]
  },
  {
   "cell_type": "code",
   "execution_count": 187,
   "metadata": {},
   "outputs": [
    {
     "data": {
      "text/html": [
       "<div>\n",
       "<style scoped>\n",
       "    .dataframe tbody tr th:only-of-type {\n",
       "        vertical-align: middle;\n",
       "    }\n",
       "\n",
       "    .dataframe tbody tr th {\n",
       "        vertical-align: top;\n",
       "    }\n",
       "\n",
       "    .dataframe thead th {\n",
       "        text-align: right;\n",
       "    }\n",
       "</style>\n",
       "<table border=\"1\" class=\"dataframe\">\n",
       "  <thead>\n",
       "    <tr style=\"text-align: right;\">\n",
       "      <th></th>\n",
       "      <th>Winner</th>\n",
       "      <th>weight_class</th>\n",
       "      <th>B_Stance</th>\n",
       "      <th>B_Height_cms</th>\n",
       "      <th>B_Reach_cms</th>\n",
       "      <th>B_Weight_lbs</th>\n",
       "      <th>R_Stance</th>\n",
       "      <th>R_Height_cms</th>\n",
       "      <th>R_Reach_cms</th>\n",
       "      <th>R_Weight_lbs</th>\n",
       "      <th>...</th>\n",
       "      <th>B_avg_opp_REV</th>\n",
       "      <th>B_avg_opp_SIG_STR_att</th>\n",
       "      <th>B_avg_opp_SIG_STR_landed</th>\n",
       "      <th>B_avg_opp_SIG_STR_pct</th>\n",
       "      <th>B_avg_opp_SUB_ATT</th>\n",
       "      <th>B_avg_opp_TD_att</th>\n",
       "      <th>B_avg_opp_TD_landed</th>\n",
       "      <th>B_avg_opp_TD_pct</th>\n",
       "      <th>B_avg_opp_TOTAL_STR_att</th>\n",
       "      <th>B_avg_opp_TOTAL_STR_landed</th>\n",
       "    </tr>\n",
       "  </thead>\n",
       "  <tbody>\n",
       "    <tr>\n",
       "      <td>0</td>\n",
       "      <td>Red</td>\n",
       "      <td>Bantamweight</td>\n",
       "      <td>Orthodox</td>\n",
       "      <td>167.64</td>\n",
       "      <td>170.18</td>\n",
       "      <td>135.0</td>\n",
       "      <td>Orthodox</td>\n",
       "      <td>162.56</td>\n",
       "      <td>162.56</td>\n",
       "      <td>135.0</td>\n",
       "      <td>...</td>\n",
       "      <td>0.000000</td>\n",
       "      <td>83.200000</td>\n",
       "      <td>28.279167</td>\n",
       "      <td>0.287750</td>\n",
       "      <td>0.000000</td>\n",
       "      <td>1.229167</td>\n",
       "      <td>0.391667</td>\n",
       "      <td>0.097917</td>\n",
       "      <td>84.033333</td>\n",
       "      <td>29.112500</td>\n",
       "    </tr>\n",
       "    <tr>\n",
       "      <td>1</td>\n",
       "      <td>Red</td>\n",
       "      <td>Women's Flyweight</td>\n",
       "      <td>Orthodox</td>\n",
       "      <td>167.64</td>\n",
       "      <td>167.64</td>\n",
       "      <td>125.0</td>\n",
       "      <td>Southpaw</td>\n",
       "      <td>165.10</td>\n",
       "      <td>167.64</td>\n",
       "      <td>125.0</td>\n",
       "      <td>...</td>\n",
       "      <td>0.000000</td>\n",
       "      <td>137.650926</td>\n",
       "      <td>56.048611</td>\n",
       "      <td>0.408796</td>\n",
       "      <td>0.558796</td>\n",
       "      <td>1.888426</td>\n",
       "      <td>0.815278</td>\n",
       "      <td>0.213069</td>\n",
       "      <td>173.770833</td>\n",
       "      <td>90.565278</td>\n",
       "    </tr>\n",
       "    <tr>\n",
       "      <td>2</td>\n",
       "      <td>Red</td>\n",
       "      <td>Lightweight</td>\n",
       "      <td>Orthodox</td>\n",
       "      <td>185.42</td>\n",
       "      <td>185.42</td>\n",
       "      <td>155.0</td>\n",
       "      <td>Orthodox</td>\n",
       "      <td>180.34</td>\n",
       "      <td>193.04</td>\n",
       "      <td>155.0</td>\n",
       "      <td>...</td>\n",
       "      <td>0.027213</td>\n",
       "      <td>86.536887</td>\n",
       "      <td>40.457281</td>\n",
       "      <td>0.433022</td>\n",
       "      <td>0.231550</td>\n",
       "      <td>2.153169</td>\n",
       "      <td>0.243620</td>\n",
       "      <td>0.046519</td>\n",
       "      <td>91.914991</td>\n",
       "      <td>45.104552</td>\n",
       "    </tr>\n",
       "    <tr>\n",
       "      <td>3</td>\n",
       "      <td>Blue</td>\n",
       "      <td>Bantamweight</td>\n",
       "      <td>Switch</td>\n",
       "      <td>170.18</td>\n",
       "      <td>170.18</td>\n",
       "      <td>135.0</td>\n",
       "      <td>Orthodox</td>\n",
       "      <td>162.56</td>\n",
       "      <td>172.72</td>\n",
       "      <td>135.0</td>\n",
       "      <td>...</td>\n",
       "      <td>0.000000</td>\n",
       "      <td>112.000000</td>\n",
       "      <td>32.861111</td>\n",
       "      <td>0.324722</td>\n",
       "      <td>0.000000</td>\n",
       "      <td>4.111111</td>\n",
       "      <td>0.527778</td>\n",
       "      <td>0.071389</td>\n",
       "      <td>114.583333</td>\n",
       "      <td>35.083333</td>\n",
       "    </tr>\n",
       "    <tr>\n",
       "      <td>4</td>\n",
       "      <td>Blue</td>\n",
       "      <td>Heavyweight</td>\n",
       "      <td>Southpaw</td>\n",
       "      <td>180.34</td>\n",
       "      <td>185.42</td>\n",
       "      <td>250.0</td>\n",
       "      <td>Southpaw</td>\n",
       "      <td>187.96</td>\n",
       "      <td>190.50</td>\n",
       "      <td>264.0</td>\n",
       "      <td>...</td>\n",
       "      <td>0.000000</td>\n",
       "      <td>205.500000</td>\n",
       "      <td>90.000000</td>\n",
       "      <td>0.430000</td>\n",
       "      <td>0.000000</td>\n",
       "      <td>0.500000</td>\n",
       "      <td>0.000000</td>\n",
       "      <td>0.000000</td>\n",
       "      <td>205.500000</td>\n",
       "      <td>90.000000</td>\n",
       "    </tr>\n",
       "  </tbody>\n",
       "</table>\n",
       "<p>5 rows × 108 columns</p>\n",
       "</div>"
      ],
      "text/plain": [
       "  Winner       weight_class  B_Stance  B_Height_cms  B_Reach_cms  \\\n",
       "0    Red       Bantamweight  Orthodox        167.64       170.18   \n",
       "1    Red  Women's Flyweight  Orthodox        167.64       167.64   \n",
       "2    Red        Lightweight  Orthodox        185.42       185.42   \n",
       "3   Blue       Bantamweight    Switch        170.18       170.18   \n",
       "4   Blue        Heavyweight  Southpaw        180.34       185.42   \n",
       "\n",
       "   B_Weight_lbs  R_Stance  R_Height_cms  R_Reach_cms  R_Weight_lbs  ...  \\\n",
       "0         135.0  Orthodox        162.56       162.56         135.0  ...   \n",
       "1         125.0  Southpaw        165.10       167.64         125.0  ...   \n",
       "2         155.0  Orthodox        180.34       193.04         155.0  ...   \n",
       "3         135.0  Orthodox        162.56       172.72         135.0  ...   \n",
       "4         250.0  Southpaw        187.96       190.50         264.0  ...   \n",
       "\n",
       "   B_avg_opp_REV  B_avg_opp_SIG_STR_att  B_avg_opp_SIG_STR_landed  \\\n",
       "0       0.000000              83.200000                 28.279167   \n",
       "1       0.000000             137.650926                 56.048611   \n",
       "2       0.027213              86.536887                 40.457281   \n",
       "3       0.000000             112.000000                 32.861111   \n",
       "4       0.000000             205.500000                 90.000000   \n",
       "\n",
       "   B_avg_opp_SIG_STR_pct  B_avg_opp_SUB_ATT  B_avg_opp_TD_att  \\\n",
       "0               0.287750           0.000000          1.229167   \n",
       "1               0.408796           0.558796          1.888426   \n",
       "2               0.433022           0.231550          2.153169   \n",
       "3               0.324722           0.000000          4.111111   \n",
       "4               0.430000           0.000000          0.500000   \n",
       "\n",
       "   B_avg_opp_TD_landed  B_avg_opp_TD_pct  B_avg_opp_TOTAL_STR_att  \\\n",
       "0             0.391667          0.097917                84.033333   \n",
       "1             0.815278          0.213069               173.770833   \n",
       "2             0.243620          0.046519                91.914991   \n",
       "3             0.527778          0.071389               114.583333   \n",
       "4             0.000000          0.000000               205.500000   \n",
       "\n",
       "   B_avg_opp_TOTAL_STR_landed  \n",
       "0                   29.112500  \n",
       "1                   90.565278  \n",
       "2                   45.104552  \n",
       "3                   35.083333  \n",
       "4                   90.000000  \n",
       "\n",
       "[5 rows x 108 columns]"
      ]
     },
     "execution_count": 187,
     "metadata": {},
     "output_type": "execute_result"
    }
   ],
   "source": [
    "new_data1.head()"
   ]
  },
  {
   "cell_type": "code",
   "execution_count": 186,
   "metadata": {},
   "outputs": [],
   "source": [
    "new_data1.drop(columns=[ \"R_fighter\",\"B_fighter\", \"Referee\", \"date\",\"location\"], inplace=True)"
   ]
  },
  {
   "cell_type": "code",
   "execution_count": 193,
   "metadata": {},
   "outputs": [],
   "source": [
    "from sklearn import preprocessing"
   ]
  },
  {
   "cell_type": "code",
   "execution_count": 194,
   "metadata": {},
   "outputs": [],
   "source": [
    "def label_encoder(df,col):\n",
    "    le = preprocessing.LabelEncoder()\n",
    "    transformed = le.fit_transform(df[col])\n",
    "    df[col] = transformed"
   ]
  },
  {
   "cell_type": "code",
   "execution_count": 195,
   "metadata": {},
   "outputs": [],
   "source": [
    "label_encoder(new_data1,\"R_Stance\")"
   ]
  },
  {
   "cell_type": "code",
   "execution_count": 196,
   "metadata": {},
   "outputs": [],
   "source": [
    "label_encoder(new_data1,\"B_Stance\")"
   ]
  },
  {
   "cell_type": "code",
   "execution_count": 197,
   "metadata": {},
   "outputs": [],
   "source": [
    "from sklearn.preprocessing import OrdinalEncoder\n",
    "encoder = OrdinalEncoder(categories=[[\"Strawweight\",\"Women's Strawweight\", \"Flyweight\",\"Women's Flyweight\", \"Bantamweight\",\"Women's Bantamweight\",\"Featherweight\",\"Women's Featherweight\",\n",
    "                                      \"Lightweight\",\"Welterweight\",\"Middleweight\",\"Light Heavyweight\",\"Heavyweight\",\"Open Weight\",\"Catch Weight\"]],dtype=np.int8)\n",
    "new_data1['weight_class'] = encoder.fit_transform(new_data1['weight_class'].values.reshape(-1, 1))"
   ]
  },
  {
   "cell_type": "code",
   "execution_count": 199,
   "metadata": {},
   "outputs": [],
   "source": [
    "new_data1.drop(new_data1[new_data1.Winner == \"Draw\"].index, inplace=True)"
   ]
  },
  {
   "cell_type": "code",
   "execution_count": 201,
   "metadata": {},
   "outputs": [],
   "source": [
    "new_data1[\"Winner\"]= [0 if value == \"Blue\" else 1 for value in new_data1[\"Winner\"]] # 1=Red, 0=Blue"
   ]
  },
  {
   "cell_type": "code",
   "execution_count": 202,
   "metadata": {},
   "outputs": [
    {
     "data": {
      "text/html": [
       "<div>\n",
       "<style scoped>\n",
       "    .dataframe tbody tr th:only-of-type {\n",
       "        vertical-align: middle;\n",
       "    }\n",
       "\n",
       "    .dataframe tbody tr th {\n",
       "        vertical-align: top;\n",
       "    }\n",
       "\n",
       "    .dataframe thead th {\n",
       "        text-align: right;\n",
       "    }\n",
       "</style>\n",
       "<table border=\"1\" class=\"dataframe\">\n",
       "  <thead>\n",
       "    <tr style=\"text-align: right;\">\n",
       "      <th></th>\n",
       "      <th>Winner</th>\n",
       "      <th>weight_class</th>\n",
       "      <th>B_Stance</th>\n",
       "      <th>B_Height_cms</th>\n",
       "      <th>B_Reach_cms</th>\n",
       "      <th>B_Weight_lbs</th>\n",
       "      <th>R_Stance</th>\n",
       "      <th>R_Height_cms</th>\n",
       "      <th>R_Reach_cms</th>\n",
       "      <th>R_Weight_lbs</th>\n",
       "      <th>...</th>\n",
       "      <th>B_avg_opp_REV</th>\n",
       "      <th>B_avg_opp_SIG_STR_att</th>\n",
       "      <th>B_avg_opp_SIG_STR_landed</th>\n",
       "      <th>B_avg_opp_SIG_STR_pct</th>\n",
       "      <th>B_avg_opp_SUB_ATT</th>\n",
       "      <th>B_avg_opp_TD_att</th>\n",
       "      <th>B_avg_opp_TD_landed</th>\n",
       "      <th>B_avg_opp_TD_pct</th>\n",
       "      <th>B_avg_opp_TOTAL_STR_att</th>\n",
       "      <th>B_avg_opp_TOTAL_STR_landed</th>\n",
       "    </tr>\n",
       "  </thead>\n",
       "  <tbody>\n",
       "    <tr>\n",
       "      <td>0</td>\n",
       "      <td>1</td>\n",
       "      <td>4</td>\n",
       "      <td>1</td>\n",
       "      <td>167.64</td>\n",
       "      <td>170.18</td>\n",
       "      <td>135.0</td>\n",
       "      <td>1</td>\n",
       "      <td>162.56</td>\n",
       "      <td>162.56</td>\n",
       "      <td>135.0</td>\n",
       "      <td>...</td>\n",
       "      <td>0.000000</td>\n",
       "      <td>83.200000</td>\n",
       "      <td>28.279167</td>\n",
       "      <td>0.287750</td>\n",
       "      <td>0.000000</td>\n",
       "      <td>1.229167</td>\n",
       "      <td>0.391667</td>\n",
       "      <td>0.097917</td>\n",
       "      <td>84.033333</td>\n",
       "      <td>29.112500</td>\n",
       "    </tr>\n",
       "    <tr>\n",
       "      <td>1</td>\n",
       "      <td>1</td>\n",
       "      <td>3</td>\n",
       "      <td>1</td>\n",
       "      <td>167.64</td>\n",
       "      <td>167.64</td>\n",
       "      <td>125.0</td>\n",
       "      <td>2</td>\n",
       "      <td>165.10</td>\n",
       "      <td>167.64</td>\n",
       "      <td>125.0</td>\n",
       "      <td>...</td>\n",
       "      <td>0.000000</td>\n",
       "      <td>137.650926</td>\n",
       "      <td>56.048611</td>\n",
       "      <td>0.408796</td>\n",
       "      <td>0.558796</td>\n",
       "      <td>1.888426</td>\n",
       "      <td>0.815278</td>\n",
       "      <td>0.213069</td>\n",
       "      <td>173.770833</td>\n",
       "      <td>90.565278</td>\n",
       "    </tr>\n",
       "    <tr>\n",
       "      <td>2</td>\n",
       "      <td>1</td>\n",
       "      <td>8</td>\n",
       "      <td>1</td>\n",
       "      <td>185.42</td>\n",
       "      <td>185.42</td>\n",
       "      <td>155.0</td>\n",
       "      <td>1</td>\n",
       "      <td>180.34</td>\n",
       "      <td>193.04</td>\n",
       "      <td>155.0</td>\n",
       "      <td>...</td>\n",
       "      <td>0.027213</td>\n",
       "      <td>86.536887</td>\n",
       "      <td>40.457281</td>\n",
       "      <td>0.433022</td>\n",
       "      <td>0.231550</td>\n",
       "      <td>2.153169</td>\n",
       "      <td>0.243620</td>\n",
       "      <td>0.046519</td>\n",
       "      <td>91.914991</td>\n",
       "      <td>45.104552</td>\n",
       "    </tr>\n",
       "    <tr>\n",
       "      <td>3</td>\n",
       "      <td>0</td>\n",
       "      <td>4</td>\n",
       "      <td>3</td>\n",
       "      <td>170.18</td>\n",
       "      <td>170.18</td>\n",
       "      <td>135.0</td>\n",
       "      <td>1</td>\n",
       "      <td>162.56</td>\n",
       "      <td>172.72</td>\n",
       "      <td>135.0</td>\n",
       "      <td>...</td>\n",
       "      <td>0.000000</td>\n",
       "      <td>112.000000</td>\n",
       "      <td>32.861111</td>\n",
       "      <td>0.324722</td>\n",
       "      <td>0.000000</td>\n",
       "      <td>4.111111</td>\n",
       "      <td>0.527778</td>\n",
       "      <td>0.071389</td>\n",
       "      <td>114.583333</td>\n",
       "      <td>35.083333</td>\n",
       "    </tr>\n",
       "    <tr>\n",
       "      <td>4</td>\n",
       "      <td>0</td>\n",
       "      <td>12</td>\n",
       "      <td>2</td>\n",
       "      <td>180.34</td>\n",
       "      <td>185.42</td>\n",
       "      <td>250.0</td>\n",
       "      <td>2</td>\n",
       "      <td>187.96</td>\n",
       "      <td>190.50</td>\n",
       "      <td>264.0</td>\n",
       "      <td>...</td>\n",
       "      <td>0.000000</td>\n",
       "      <td>205.500000</td>\n",
       "      <td>90.000000</td>\n",
       "      <td>0.430000</td>\n",
       "      <td>0.000000</td>\n",
       "      <td>0.500000</td>\n",
       "      <td>0.000000</td>\n",
       "      <td>0.000000</td>\n",
       "      <td>205.500000</td>\n",
       "      <td>90.000000</td>\n",
       "    </tr>\n",
       "  </tbody>\n",
       "</table>\n",
       "<p>5 rows × 108 columns</p>\n",
       "</div>"
      ],
      "text/plain": [
       "   Winner  weight_class  B_Stance  B_Height_cms  B_Reach_cms  B_Weight_lbs  \\\n",
       "0       1             4         1        167.64       170.18         135.0   \n",
       "1       1             3         1        167.64       167.64         125.0   \n",
       "2       1             8         1        185.42       185.42         155.0   \n",
       "3       0             4         3        170.18       170.18         135.0   \n",
       "4       0            12         2        180.34       185.42         250.0   \n",
       "\n",
       "   R_Stance  R_Height_cms  R_Reach_cms  R_Weight_lbs  ...  B_avg_opp_REV  \\\n",
       "0         1        162.56       162.56         135.0  ...       0.000000   \n",
       "1         2        165.10       167.64         125.0  ...       0.000000   \n",
       "2         1        180.34       193.04         155.0  ...       0.027213   \n",
       "3         1        162.56       172.72         135.0  ...       0.000000   \n",
       "4         2        187.96       190.50         264.0  ...       0.000000   \n",
       "\n",
       "   B_avg_opp_SIG_STR_att  B_avg_opp_SIG_STR_landed  B_avg_opp_SIG_STR_pct  \\\n",
       "0              83.200000                 28.279167               0.287750   \n",
       "1             137.650926                 56.048611               0.408796   \n",
       "2              86.536887                 40.457281               0.433022   \n",
       "3             112.000000                 32.861111               0.324722   \n",
       "4             205.500000                 90.000000               0.430000   \n",
       "\n",
       "   B_avg_opp_SUB_ATT  B_avg_opp_TD_att  B_avg_opp_TD_landed  B_avg_opp_TD_pct  \\\n",
       "0           0.000000          1.229167             0.391667          0.097917   \n",
       "1           0.558796          1.888426             0.815278          0.213069   \n",
       "2           0.231550          2.153169             0.243620          0.046519   \n",
       "3           0.000000          4.111111             0.527778          0.071389   \n",
       "4           0.000000          0.500000             0.000000          0.000000   \n",
       "\n",
       "   B_avg_opp_TOTAL_STR_att  B_avg_opp_TOTAL_STR_landed  \n",
       "0                84.033333                   29.112500  \n",
       "1               173.770833                   90.565278  \n",
       "2                91.914991                   45.104552  \n",
       "3               114.583333                   35.083333  \n",
       "4               205.500000                   90.000000  \n",
       "\n",
       "[5 rows x 108 columns]"
      ]
     },
     "execution_count": 202,
     "metadata": {},
     "output_type": "execute_result"
    }
   ],
   "source": [
    "new_data1.head()"
   ]
  },
  {
   "cell_type": "code",
   "execution_count": 203,
   "metadata": {},
   "outputs": [],
   "source": [
    "X1 = new_data1.drop(['Winner'], axis=1)\n",
    "y1 = new_data1['Winner']\n",
    "\n",
    "X_train1,X_test1,y_train1,y_test1 = train_test_split(X1,y1,test_size = 0.20, random_state = 0)"
   ]
  },
  {
   "cell_type": "code",
   "execution_count": 204,
   "metadata": {},
   "outputs": [
    {
     "data": {
      "text/plain": [
       "XGBClassifier(base_score=0.5, booster='gbtree', colsample_bylevel=1,\n",
       "              colsample_bynode=1, colsample_bytree=1, gamma=0, gpu_id=-1,\n",
       "              importance_type='gain', interaction_constraints='',\n",
       "              learning_rate=0.300000012, max_delta_step=0, max_depth=6,\n",
       "              min_child_weight=1, missing=nan, monotone_constraints='()',\n",
       "              n_estimators=100, n_jobs=0, num_parallel_tree=1, random_state=0,\n",
       "              reg_alpha=0, reg_lambda=1, scale_pos_weight=1, subsample=1,\n",
       "              tree_method='exact', validate_parameters=1, verbosity=None)"
      ]
     },
     "execution_count": 204,
     "metadata": {},
     "output_type": "execute_result"
    }
   ],
   "source": [
    "model.fit(X_train1,y_train1)"
   ]
  },
  {
   "cell_type": "code",
   "execution_count": 206,
   "metadata": {},
   "outputs": [
    {
     "data": {
      "text/plain": [
       "1.0"
      ]
     },
     "execution_count": 206,
     "metadata": {},
     "output_type": "execute_result"
    }
   ],
   "source": [
    "model.score(X_train1, y_train1)"
   ]
  },
  {
   "cell_type": "code",
   "execution_count": 205,
   "metadata": {},
   "outputs": [
    {
     "data": {
      "text/plain": [
       "0.6737160120845922"
      ]
     },
     "execution_count": 205,
     "metadata": {},
     "output_type": "execute_result"
    }
   ],
   "source": [
    "model.score(X_test1, y_test1)"
   ]
  },
  {
   "cell_type": "code",
   "execution_count": 207,
   "metadata": {
    "scrolled": true
   },
   "outputs": [
    {
     "data": {
      "text/plain": [
       "array([0.01337702, 0.00407581, 0.00857816, 0.00678012, 0.02394684,\n",
       "       0.00586375, 0.00865767, 0.00672275, 0.00474499, 0.01100417,\n",
       "       0.01301218, 0.00360176, 0.0068603 , 0.00761052, 0.00973543,\n",
       "       0.00620481, 0.00655222, 0.0105258 , 0.01189466, 0.00531263,\n",
       "       0.01123013, 0.01143034, 0.0075411 , 0.01016883, 0.01296467,\n",
       "       0.01362904, 0.00760659, 0.00961197, 0.00596464, 0.01246181,\n",
       "       0.00936173, 0.00558361, 0.00786468, 0.00775732, 0.0095026 ,\n",
       "       0.00878697, 0.00981068, 0.01068774, 0.00784318, 0.01290666,\n",
       "       0.00591914, 0.00448241, 0.00850798, 0.01191729, 0.00779108,\n",
       "       0.0073793 , 0.00486902, 0.00871802, 0.00686046, 0.01227596,\n",
       "       0.00791513, 0.01017699, 0.01145611, 0.00897485, 0.00719971,\n",
       "       0.00824064, 0.00955939, 0.01009637, 0.01037738, 0.00832753,\n",
       "       0.00600826, 0.00770197, 0.00600439, 0.0093801 , 0.03685402,\n",
       "       0.00628987, 0.00839027, 0.01549397, 0.00908253, 0.0101396 ,\n",
       "       0.00708567, 0.01182471, 0.01225954, 0.00782912, 0.01228122,\n",
       "       0.01591483, 0.00610533, 0.00991903, 0.01039687, 0.00907507,\n",
       "       0.00727417, 0.00908441, 0.00706599, 0.00866958, 0.00896854,\n",
       "       0.01035252, 0.00906579, 0.00860684, 0.01025788, 0.0117522 ,\n",
       "       0.0120522 , 0.0070561 , 0.01094103, 0.01217365, 0.01116825,\n",
       "       0.00627986, 0.00649023, 0.00607443, 0.006772  , 0.00837559,\n",
       "       0.00841722, 0.00933732, 0.00827708, 0.0077923 , 0.00751725,\n",
       "       0.00920504, 0.01411556], dtype=float32)"
      ]
     },
     "execution_count": 207,
     "metadata": {},
     "output_type": "execute_result"
    }
   ],
   "source": [
    "model.feature_importances_"
   ]
  },
  {
   "cell_type": "code",
   "execution_count": 211,
   "metadata": {},
   "outputs": [
    {
     "data": {
      "image/png": "[encoded data removed]",
      "text/plain": [
       "<Figure size 720x720 with 1 Axes>"
      ]
     },
     "metadata": {
      "needs_background": "light"
     },
     "output_type": "display_data"
    }
   ],
   "source": [
    "features = X1.columns\n",
    "importances = model.feature_importances_\n",
    "indices = np.argsort(importances)[-50:] \n",
    "plt.title('Feature Importances')\n",
    "plt.barh(range(len(indices)), importances[indices], color='b', align='center')\n",
    "plt.yticks(range(len(indices)), [features[i] for i in indices])\n",
    "plt.xlabel('Relative Importance')\n",
    "plt.show()"
   ]
  },
  {
   "cell_type": "code",
   "execution_count": 210,
   "metadata": {
    "scrolled": true
   },
   "outputs": [
    {
     "data": {
      "image/png": "[encoded data removed]",
      "text/plain": [
       "<Figure size 720x720 with 2 Axes>"
      ]
     },
     "metadata": {
      "needs_background": "light"
     },
     "output_type": "display_data"
    }
   ],
   "source": [
    "predictions = model.predict(X_test1) #1=Red, 0=Blue\n",
    "\n",
    "# Generate confusion matrix\n",
    "matrix = plot_confusion_matrix(model, X_test1, y_test1,\n",
    "                                 cmap=plt.cm.Blues,\n",
    "                                 normalize=None)"
   ]
  },
  {
   "cell_type": "code",
   "execution_count": 231,
   "metadata": {},
   "outputs": [],
   "source": [
    "from sklearn.metrics import classification_report, confusion_matrix"
   ]
  },
  {
   "cell_type": "code",
   "execution_count": 217,
   "metadata": {},
   "outputs": [],
   "source": [
    "y_pred = model.predict(X_test1)\n"
   ]
  },
  {
   "cell_type": "code",
   "execution_count": 218,
   "metadata": {
    "scrolled": false
   },
   "outputs": [
    {
     "name": "stdout",
     "output_type": "stream",
     "text": [
      "              precision    recall  f1-score   support\n",
      "\n",
      "           0       0.59      0.44      0.50       248\n",
      "           1       0.71      0.81      0.76       414\n",
      "\n",
      "    accuracy                           0.67       662\n",
      "   macro avg       0.65      0.63      0.63       662\n",
      "weighted avg       0.66      0.67      0.66       662\n",
      "\n"
     ]
    }
   ],
   "source": [
    "print(classification_report(y_test1, y_pred)) #1=Red, 0=Blue"
   ]
  },
  {
   "cell_type": "markdown",
   "metadata": {},
   "source": [
    "## Our final conclusion after changing the data from the data set. The model improves a little bit in comparison with the original XGboost from 0.65 to 0.67 but still difficult to predict a winner from a combat"
   ]
  },
  {
   "cell_type": "code",
   "execution_count": null,
   "metadata": {},
   "outputs": [],
   "source": []
  },
  {
   "cell_type": "markdown",
   "metadata": {},
   "source": [
    "## We will try reducing the number of features for Overfitting reduction purpose"
   ]
  },
  {
   "cell_type": "code",
   "execution_count": 219,
   "metadata": {},
   "outputs": [],
   "source": [
    "from sklearn.feature_selection import VarianceThreshold"
   ]
  },
  {
   "cell_type": "code",
   "execution_count": 220,
   "metadata": {},
   "outputs": [],
   "source": [
    "thresholder = VarianceThreshold(threshold= 0.5)"
   ]
  },
  {
   "cell_type": "code",
   "execution_count": 221,
   "metadata": {},
   "outputs": [],
   "source": [
    "X_high_variance= thresholder.fit_transform(X1)"
   ]
  },
  {
   "cell_type": "code",
   "execution_count": 222,
   "metadata": {},
   "outputs": [
    {
     "data": {
      "text/plain": [
       "(3307, 85)"
      ]
     },
     "execution_count": 222,
     "metadata": {},
     "output_type": "execute_result"
    }
   ],
   "source": [
    "X_high_variance.shape"
   ]
  },
  {
   "cell_type": "code",
   "execution_count": 223,
   "metadata": {},
   "outputs": [],
   "source": [
    "y2 = new_data1['Winner']\n",
    "\n",
    "X_train2,X_test2,y_train2,y_test2 = train_test_split(X_high_variance,y2,test_size = 0.20, random_state = 0)"
   ]
  },
  {
   "cell_type": "code",
   "execution_count": 224,
   "metadata": {},
   "outputs": [
    {
     "data": {
      "text/plain": [
       "XGBClassifier(base_score=0.5, booster='gbtree', colsample_bylevel=1,\n",
       "              colsample_bynode=1, colsample_bytree=1, gamma=0, gpu_id=-1,\n",
       "              importance_type='gain', interaction_constraints='',\n",
       "              learning_rate=0.300000012, max_delta_step=0, max_depth=6,\n",
       "              min_child_weight=1, missing=nan, monotone_constraints='()',\n",
       "              n_estimators=100, n_jobs=0, num_parallel_tree=1, random_state=0,\n",
       "              reg_alpha=0, reg_lambda=1, scale_pos_weight=1, subsample=1,\n",
       "              tree_method='exact', validate_parameters=1, verbosity=None)"
      ]
     },
     "execution_count": 224,
     "metadata": {},
     "output_type": "execute_result"
    }
   ],
   "source": [
    "model.fit(X_train2,y_train2)"
   ]
  },
  {
   "cell_type": "code",
   "execution_count": 225,
   "metadata": {},
   "outputs": [
    {
     "data": {
      "text/plain": [
       "0.9996219281663516"
      ]
     },
     "execution_count": 225,
     "metadata": {},
     "output_type": "execute_result"
    }
   ],
   "source": [
    "model.score(X_train2, y_train2)"
   ]
  },
  {
   "cell_type": "code",
   "execution_count": 226,
   "metadata": {},
   "outputs": [
    {
     "data": {
      "text/plain": [
       "0.6540785498489426"
      ]
     },
     "execution_count": 226,
     "metadata": {},
     "output_type": "execute_result"
    }
   ],
   "source": [
    "model.score(X_test2, y_test2)"
   ]
  },
  {
   "cell_type": "markdown",
   "metadata": {},
   "source": [
    "## It did not work that well that we were expecting."
   ]
  },
  {
   "cell_type": "code",
   "execution_count": null,
   "metadata": {},
   "outputs": [],
   "source": []
  },
  {
   "cell_type": "markdown",
   "metadata": {},
   "source": [
    "## We will try different models to see how are the results"
   ]
  },
  {
   "cell_type": "code",
   "execution_count": 228,
   "metadata": {},
   "outputs": [],
   "source": [
    "from sklearn.ensemble import RandomForestClassifier"
   ]
  },
  {
   "cell_type": "code",
   "execution_count": 234,
   "metadata": {},
   "outputs": [
    {
     "data": {
      "text/plain": [
       "0.6601208459214502"
      ]
     },
     "execution_count": 234,
     "metadata": {},
     "output_type": "execute_result"
    }
   ],
   "source": [
    "rf = RandomForestClassifier(max_depth=15)\n",
    "rf.fit(X_train1, y_train1)\n",
    "rf.score(X_test1, y_test1)"
   ]
  },
  {
   "cell_type": "code",
   "execution_count": 235,
   "metadata": {
    "scrolled": true
   },
   "outputs": [
    {
     "data": {
      "text/plain": [
       "array([[ 71, 177],\n",
       "       [ 48, 366]], dtype=int64)"
      ]
     },
     "execution_count": 235,
     "metadata": {},
     "output_type": "execute_result"
    }
   ],
   "source": [
    "y_pred_rf = rf.predict(X_test1)\n",
    "confusion_matrix(y_test1, y_pred_rf)"
   ]
  },
  {
   "cell_type": "code",
   "execution_count": 236,
   "metadata": {},
   "outputs": [],
   "source": [
    "from sklearn.linear_model import LogisticRegression"
   ]
  },
  {
   "cell_type": "code",
   "execution_count": 237,
   "metadata": {},
   "outputs": [
    {
     "data": {
      "text/plain": [
       "0.6876322951315391"
      ]
     },
     "execution_count": 237,
     "metadata": {},
     "output_type": "execute_result"
    }
   ],
   "source": [
    "logmodel= LogisticRegression(max_iter = 10000)\n",
    "logmodel.fit(X1, y1)\n",
    "logmodel.score(X1,y1)"
   ]
  },
  {
   "cell_type": "code",
   "execution_count": 238,
   "metadata": {},
   "outputs": [
    {
     "data": {
      "text/plain": [
       "0.6555891238670695"
      ]
     },
     "execution_count": 238,
     "metadata": {},
     "output_type": "execute_result"
    }
   ],
   "source": [
    "logmodel = LogisticRegression(max_iter = 10000)\n",
    "logmodel.fit(X_train1, y_train1)\n",
    "logmodel.score(X_test1,y_test1)"
   ]
  },
  {
   "cell_type": "markdown",
   "metadata": {},
   "source": [
    "# The final conclusion from this notebook is that the best results that we got trying all the models and changing the data set in different ways, is 0.67 with an XGboost"
   ]
  },
  {
   "cell_type": "code",
   "execution_count": null,
   "metadata": {},
   "outputs": [],
   "source": []
  },
  {
   "cell_type": "code",
   "execution_count": null,
   "metadata": {},
   "outputs": [],
   "source": []
  }
 ],
 "metadata": {
  "kernelspec": {
   "display_name": "Python 3",
   "language": "python",
   "name": "python3"
  },
  "language_info": {
   "codemirror_mode": {
    "name": "ipython",
    "version": 3
   },
   "file_extension": ".py",
   "mimetype": "text/x-python",
   "name": "python",
   "nbconvert_exporter": "python",
   "pygments_lexer": "ipython3",
   "version": "3.7.6"
  }
 },
 "nbformat": 4,
 "nbformat_minor": 4
}
