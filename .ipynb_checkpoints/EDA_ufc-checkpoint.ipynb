{
 "cells": [
  {
   "cell_type": "markdown",
   "metadata": {},
   "source": [
    "## Data description\n",
    "\n",
    "This is a list of every UFC fight in the history of the organisation. Every row contains information about both fighters, fight details and the winner.\n",
    "\n",
    "Each row is a compilation of both fighter stats. Fighters are represented by 'red' and 'blue' (for red and blue corner). So for instance, red fighter has the complied average stats of all the fights except the current one. The stats include damage done by the red fighter on the opponent and the damage done by the opponent on the fighter (represented by 'opp' in the columns) in all the fights this particular red fighter has had, except this one as it has not occured yet (in the data). Same information exists for blue fighter. The target variable is 'Winner' which is the only column that tells you what happened.\n",
    "\n",
    "#### Columns Values\n",
    "\n",
    "* R_ and B_ prefix signifies red and blue corner fighter stats respectively\n",
    "* _opp_  containing columns is the average of damage done by the opponent on the fighter\n",
    "* KD is number of knockdowns\n",
    "* SIG_STR is no. of significant strikes 'landed of attempted'\n",
    "* SIG_STR_pct is significant strikes percentage\n",
    "* TOTAL_STR is total strikes 'landed of attempted'\n",
    "* TD is number of takedowns\n",
    "* TD_pct is takedown percentages\n",
    "* SUB_ATT is no. of submission attempts\n",
    "* PASS is number times the guard was passed\n",
    "* REV is the number of Reversals landed\n",
    "* HEAD is number of significant strinks to the head 'landed of attempted'\n",
    "* BODY is number of significant strikes to the body 'landed of attempted'\n",
    "* CLINCH is number of significant strikes in the clinch 'landed of attempted'\n",
    "* GROUND is number of significant strikes on the ground 'landed of attempted'\n",
    "* Win_by is method of win\n",
    "* Last_round is last round of the fight (ex. if it was a KO in 1st, then this will be 1)\n",
    "* Last_round_time is when the fight ended in the last round\n",
    "* Format is the format of the fight (3 rounds, 5 rounds etc.)\n",
    "* Referee is the name of the Ref\n",
    "* Date is the date of the fight\n",
    "* Location is the location in which the event took place\n",
    "* Fight_type is which weight class and whether it's a title bout or not\n",
    "* Winner is the winner of the fight\n",
    "* Stance is the stance of the fighter (orthodox, southpaw, etc.)\n",
    "* Height_cms is the height in centimeter\n",
    "* Reach_cms is the reach of the fighter (arm span) in centimeter\n",
    "* Weight_lbs is the weight of the fighter in pounds (lbs)\n",
    "* Age is the age of the fighter\n",
    "* Title_bout Boolean value of whether it is title fight or not\n",
    "* Weight_class is which weight class the fight is in (Bantamweight, heavyweight, Women's flyweight, etc.)\n",
    "* No_of_rounds is the number of rounds the fight was scheduled for\n",
    "* Current_lose_streak is the count of current concurrent losses of the fighter\n",
    "* Current_win_streak is the count of current concurrent wins of the fighter\n",
    "* Draw is the number of draws in the fighter's ufc career\n",
    "* Wins is the number of wins in the fighter's ufc career\n",
    "* Losses is the number of losses in the fighter's ufc career\n",
    "* Total_rounds_fought is the average of total rounds fought by the fighter\n",
    "* Total_time_fought(seconds) is the count of total time spent fighting in seconds\n",
    "* Total_title_bouts is the total number of title bouts taken part in by the fighter\n",
    "* Win_by_Decision_Majority is the number of wins by majority judges decision in the fighter's ufc career\n",
    "* Win_by_Decision_Split is the number of wins by split judges decision in the fighter's ufc career\n",
    "* Win_by_Decision_Unanimous is the number of wins by unanimous judges decision in the fighter's ufc career\n",
    "* Win_by_KO/TKO is the number of wins by knockout in the fighter's ufc career\n",
    "* Win_by_Submission is the number of wins by submission in the fighter's ufc career\n",
    "* Win_by_TKO_Doctor_Stoppage is the number of wins by doctor stoppage in the fighter's ufc career\n",
    "\n",
    "#### New columns created\n",
    "\n",
    "* Gender colum\n",
    "* different between weight \n",
    "* Different between higth\n",
    "\n",
    "### The new datasets\n",
    "\n",
    "* data_modeling.csv\n",
    "* mens_fighters.csv\n",
    "* women_fighters.csv\n",
    "* fighters_description.csv\n",
    "* final_dataset.csv"
   ]
  },
  {
   "cell_type": "code",
   "execution_count": 2,
   "metadata": {},
   "outputs": [],
   "source": [
    "import pandas as pd\n",
    "import numpy as np"
   ]
  },
  {
   "cell_type": "markdown",
   "metadata": {},
   "source": [
    "### Loading the data"
   ]
  },
  {
   "cell_type": "code",
   "execution_count": 777,
   "metadata": {},
   "outputs": [],
   "source": [
    "df1 = pd.read_csv('data/UFC.csv')"
   ]
  },
  {
   "cell_type": "markdown",
   "metadata": {},
   "source": [
    "## Data Exploration"
   ]
  },
  {
   "cell_type": "code",
   "execution_count": 778,
   "metadata": {
    "scrolled": true
   },
   "outputs": [
    {
     "data": {
      "text/html": [
       "<div>\n",
       "<style scoped>\n",
       "    .dataframe tbody tr th:only-of-type {\n",
       "        vertical-align: middle;\n",
       "    }\n",
       "\n",
       "    .dataframe tbody tr th {\n",
       "        vertical-align: top;\n",
       "    }\n",
       "\n",
       "    .dataframe thead th {\n",
       "        text-align: right;\n",
       "    }\n",
       "</style>\n",
       "<table border=\"1\" class=\"dataframe\">\n",
       "  <thead>\n",
       "    <tr style=\"text-align: right;\">\n",
       "      <th></th>\n",
       "      <th>R_fighter</th>\n",
       "      <th>B_fighter</th>\n",
       "      <th>Referee</th>\n",
       "      <th>date</th>\n",
       "      <th>location</th>\n",
       "      <th>Winner</th>\n",
       "      <th>title_bout</th>\n",
       "      <th>weight_class</th>\n",
       "      <th>no_of_rounds</th>\n",
       "      <th>B_current_lose_streak</th>\n",
       "      <th>...</th>\n",
       "      <th>R_win_by_KO/TKO</th>\n",
       "      <th>R_win_by_Submission</th>\n",
       "      <th>R_win_by_TKO_Doctor_Stoppage</th>\n",
       "      <th>R_wins</th>\n",
       "      <th>R_Stance</th>\n",
       "      <th>R_Height_cms</th>\n",
       "      <th>R_Reach_cms</th>\n",
       "      <th>R_Weight_lbs</th>\n",
       "      <th>B_age</th>\n",
       "      <th>R_age</th>\n",
       "    </tr>\n",
       "  </thead>\n",
       "  <tbody>\n",
       "    <tr>\n",
       "      <td>0</td>\n",
       "      <td>Henry Cejudo</td>\n",
       "      <td>Marlon Moraes</td>\n",
       "      <td>Marc Goddard</td>\n",
       "      <td>2019-06-08</td>\n",
       "      <td>Chicago, Illinois, USA</td>\n",
       "      <td>Red</td>\n",
       "      <td>True</td>\n",
       "      <td>Bantamweight</td>\n",
       "      <td>5</td>\n",
       "      <td>0.0</td>\n",
       "      <td>...</td>\n",
       "      <td>2.0</td>\n",
       "      <td>0.0</td>\n",
       "      <td>0.0</td>\n",
       "      <td>8.0</td>\n",
       "      <td>Orthodox</td>\n",
       "      <td>162.56</td>\n",
       "      <td>162.56</td>\n",
       "      <td>135.0</td>\n",
       "      <td>31.0</td>\n",
       "      <td>32.0</td>\n",
       "    </tr>\n",
       "    <tr>\n",
       "      <td>1</td>\n",
       "      <td>Valentina Shevchenko</td>\n",
       "      <td>Jessica Eye</td>\n",
       "      <td>Robert Madrigal</td>\n",
       "      <td>2019-06-08</td>\n",
       "      <td>Chicago, Illinois, USA</td>\n",
       "      <td>Red</td>\n",
       "      <td>True</td>\n",
       "      <td>Women's Flyweight</td>\n",
       "      <td>5</td>\n",
       "      <td>0.0</td>\n",
       "      <td>...</td>\n",
       "      <td>0.0</td>\n",
       "      <td>2.0</td>\n",
       "      <td>0.0</td>\n",
       "      <td>5.0</td>\n",
       "      <td>Southpaw</td>\n",
       "      <td>165.10</td>\n",
       "      <td>167.64</td>\n",
       "      <td>125.0</td>\n",
       "      <td>32.0</td>\n",
       "      <td>31.0</td>\n",
       "    </tr>\n",
       "    <tr>\n",
       "      <td>2</td>\n",
       "      <td>Tony Ferguson</td>\n",
       "      <td>Donald Cerrone</td>\n",
       "      <td>Dan Miragliotta</td>\n",
       "      <td>2019-06-08</td>\n",
       "      <td>Chicago, Illinois, USA</td>\n",
       "      <td>Red</td>\n",
       "      <td>False</td>\n",
       "      <td>Lightweight</td>\n",
       "      <td>3</td>\n",
       "      <td>0.0</td>\n",
       "      <td>...</td>\n",
       "      <td>3.0</td>\n",
       "      <td>6.0</td>\n",
       "      <td>1.0</td>\n",
       "      <td>14.0</td>\n",
       "      <td>Orthodox</td>\n",
       "      <td>180.34</td>\n",
       "      <td>193.04</td>\n",
       "      <td>155.0</td>\n",
       "      <td>36.0</td>\n",
       "      <td>35.0</td>\n",
       "    </tr>\n",
       "    <tr>\n",
       "      <td>3</td>\n",
       "      <td>Jimmie Rivera</td>\n",
       "      <td>Petr Yan</td>\n",
       "      <td>Kevin MacDonald</td>\n",
       "      <td>2019-06-08</td>\n",
       "      <td>Chicago, Illinois, USA</td>\n",
       "      <td>Blue</td>\n",
       "      <td>False</td>\n",
       "      <td>Bantamweight</td>\n",
       "      <td>3</td>\n",
       "      <td>0.0</td>\n",
       "      <td>...</td>\n",
       "      <td>1.0</td>\n",
       "      <td>0.0</td>\n",
       "      <td>0.0</td>\n",
       "      <td>6.0</td>\n",
       "      <td>Orthodox</td>\n",
       "      <td>162.56</td>\n",
       "      <td>172.72</td>\n",
       "      <td>135.0</td>\n",
       "      <td>26.0</td>\n",
       "      <td>29.0</td>\n",
       "    </tr>\n",
       "    <tr>\n",
       "      <td>4</td>\n",
       "      <td>Tai Tuivasa</td>\n",
       "      <td>Blagoy Ivanov</td>\n",
       "      <td>Dan Miragliotta</td>\n",
       "      <td>2019-06-08</td>\n",
       "      <td>Chicago, Illinois, USA</td>\n",
       "      <td>Blue</td>\n",
       "      <td>False</td>\n",
       "      <td>Heavyweight</td>\n",
       "      <td>3</td>\n",
       "      <td>0.0</td>\n",
       "      <td>...</td>\n",
       "      <td>2.0</td>\n",
       "      <td>0.0</td>\n",
       "      <td>0.0</td>\n",
       "      <td>3.0</td>\n",
       "      <td>Southpaw</td>\n",
       "      <td>187.96</td>\n",
       "      <td>190.50</td>\n",
       "      <td>264.0</td>\n",
       "      <td>32.0</td>\n",
       "      <td>26.0</td>\n",
       "    </tr>\n",
       "  </tbody>\n",
       "</table>\n",
       "<p>5 rows × 145 columns</p>\n",
       "</div>"
      ],
      "text/plain": [
       "              R_fighter       B_fighter          Referee        date  \\\n",
       "0          Henry Cejudo   Marlon Moraes     Marc Goddard  2019-06-08   \n",
       "1  Valentina Shevchenko     Jessica Eye  Robert Madrigal  2019-06-08   \n",
       "2         Tony Ferguson  Donald Cerrone  Dan Miragliotta  2019-06-08   \n",
       "3         Jimmie Rivera        Petr Yan  Kevin MacDonald  2019-06-08   \n",
       "4           Tai Tuivasa   Blagoy Ivanov  Dan Miragliotta  2019-06-08   \n",
       "\n",
       "                 location Winner  title_bout       weight_class  no_of_rounds  \\\n",
       "0  Chicago, Illinois, USA    Red        True       Bantamweight             5   \n",
       "1  Chicago, Illinois, USA    Red        True  Women's Flyweight             5   \n",
       "2  Chicago, Illinois, USA    Red       False        Lightweight             3   \n",
       "3  Chicago, Illinois, USA   Blue       False       Bantamweight             3   \n",
       "4  Chicago, Illinois, USA   Blue       False        Heavyweight             3   \n",
       "\n",
       "   B_current_lose_streak  ...  R_win_by_KO/TKO  R_win_by_Submission  \\\n",
       "0                    0.0  ...              2.0                  0.0   \n",
       "1                    0.0  ...              0.0                  2.0   \n",
       "2                    0.0  ...              3.0                  6.0   \n",
       "3                    0.0  ...              1.0                  0.0   \n",
       "4                    0.0  ...              2.0                  0.0   \n",
       "\n",
       "   R_win_by_TKO_Doctor_Stoppage  R_wins  R_Stance  R_Height_cms  R_Reach_cms  \\\n",
       "0                           0.0     8.0  Orthodox        162.56       162.56   \n",
       "1                           0.0     5.0  Southpaw        165.10       167.64   \n",
       "2                           1.0    14.0  Orthodox        180.34       193.04   \n",
       "3                           0.0     6.0  Orthodox        162.56       172.72   \n",
       "4                           0.0     3.0  Southpaw        187.96       190.50   \n",
       "\n",
       "   R_Weight_lbs  B_age  R_age  \n",
       "0         135.0   31.0   32.0  \n",
       "1         125.0   32.0   31.0  \n",
       "2         155.0   36.0   35.0  \n",
       "3         135.0   26.0   29.0  \n",
       "4         264.0   32.0   26.0  \n",
       "\n",
       "[5 rows x 145 columns]"
      ]
     },
     "execution_count": 778,
     "metadata": {},
     "output_type": "execute_result"
    }
   ],
   "source": [
    "df1.head()"
   ]
  },
  {
   "cell_type": "code",
   "execution_count": 779,
   "metadata": {
    "scrolled": false
   },
   "outputs": [
    {
     "data": {
      "text/plain": [
       "['R_fighter',\n",
       " 'B_fighter',\n",
       " 'Referee',\n",
       " 'date',\n",
       " 'location',\n",
       " 'Winner',\n",
       " 'title_bout',\n",
       " 'weight_class',\n",
       " 'no_of_rounds',\n",
       " 'B_current_lose_streak',\n",
       " 'B_current_win_streak',\n",
       " 'B_draw',\n",
       " 'B_avg_BODY_att',\n",
       " 'B_avg_BODY_landed',\n",
       " 'B_avg_CLINCH_att',\n",
       " 'B_avg_CLINCH_landed',\n",
       " 'B_avg_DISTANCE_att',\n",
       " 'B_avg_DISTANCE_landed',\n",
       " 'B_avg_GROUND_att',\n",
       " 'B_avg_GROUND_landed',\n",
       " 'B_avg_HEAD_att',\n",
       " 'B_avg_HEAD_landed',\n",
       " 'B_avg_KD',\n",
       " 'B_avg_LEG_att',\n",
       " 'B_avg_LEG_landed',\n",
       " 'B_avg_PASS',\n",
       " 'B_avg_REV',\n",
       " 'B_avg_SIG_STR_att',\n",
       " 'B_avg_SIG_STR_landed',\n",
       " 'B_avg_SIG_STR_pct',\n",
       " 'B_avg_SUB_ATT',\n",
       " 'B_avg_TD_att',\n",
       " 'B_avg_TD_landed',\n",
       " 'B_avg_TD_pct',\n",
       " 'B_avg_TOTAL_STR_att',\n",
       " 'B_avg_TOTAL_STR_landed',\n",
       " 'B_longest_win_streak',\n",
       " 'B_losses',\n",
       " 'B_avg_opp_BODY_att',\n",
       " 'B_avg_opp_BODY_landed',\n",
       " 'B_avg_opp_CLINCH_att',\n",
       " 'B_avg_opp_CLINCH_landed',\n",
       " 'B_avg_opp_DISTANCE_att',\n",
       " 'B_avg_opp_DISTANCE_landed',\n",
       " 'B_avg_opp_GROUND_att',\n",
       " 'B_avg_opp_GROUND_landed',\n",
       " 'B_avg_opp_HEAD_att',\n",
       " 'B_avg_opp_HEAD_landed',\n",
       " 'B_avg_opp_KD',\n",
       " 'B_avg_opp_LEG_att',\n",
       " 'B_avg_opp_LEG_landed',\n",
       " 'B_avg_opp_PASS',\n",
       " 'B_avg_opp_REV',\n",
       " 'B_avg_opp_SIG_STR_att',\n",
       " 'B_avg_opp_SIG_STR_landed',\n",
       " 'B_avg_opp_SIG_STR_pct',\n",
       " 'B_avg_opp_SUB_ATT',\n",
       " 'B_avg_opp_TD_att',\n",
       " 'B_avg_opp_TD_landed',\n",
       " 'B_avg_opp_TD_pct',\n",
       " 'B_avg_opp_TOTAL_STR_att',\n",
       " 'B_avg_opp_TOTAL_STR_landed',\n",
       " 'B_total_rounds_fought',\n",
       " 'B_total_time_fought(seconds)',\n",
       " 'B_total_title_bouts',\n",
       " 'B_win_by_Decision_Majority',\n",
       " 'B_win_by_Decision_Split',\n",
       " 'B_win_by_Decision_Unanimous',\n",
       " 'B_win_by_KO/TKO',\n",
       " 'B_win_by_Submission',\n",
       " 'B_win_by_TKO_Doctor_Stoppage',\n",
       " 'B_wins',\n",
       " 'B_Stance',\n",
       " 'B_Height_cms',\n",
       " 'B_Reach_cms',\n",
       " 'B_Weight_lbs',\n",
       " 'R_current_lose_streak',\n",
       " 'R_current_win_streak',\n",
       " 'R_draw',\n",
       " 'R_avg_BODY_att',\n",
       " 'R_avg_BODY_landed',\n",
       " 'R_avg_CLINCH_att',\n",
       " 'R_avg_CLINCH_landed',\n",
       " 'R_avg_DISTANCE_att',\n",
       " 'R_avg_DISTANCE_landed',\n",
       " 'R_avg_GROUND_att',\n",
       " 'R_avg_GROUND_landed',\n",
       " 'R_avg_HEAD_att',\n",
       " 'R_avg_HEAD_landed',\n",
       " 'R_avg_KD',\n",
       " 'R_avg_LEG_att',\n",
       " 'R_avg_LEG_landed',\n",
       " 'R_avg_PASS',\n",
       " 'R_avg_REV',\n",
       " 'R_avg_SIG_STR_att',\n",
       " 'R_avg_SIG_STR_landed',\n",
       " 'R_avg_SIG_STR_pct',\n",
       " 'R_avg_SUB_ATT',\n",
       " 'R_avg_TD_att',\n",
       " 'R_avg_TD_landed',\n",
       " 'R_avg_TD_pct',\n",
       " 'R_avg_TOTAL_STR_att',\n",
       " 'R_avg_TOTAL_STR_landed',\n",
       " 'R_longest_win_streak',\n",
       " 'R_losses',\n",
       " 'R_avg_opp_BODY_att',\n",
       " 'R_avg_opp_BODY_landed',\n",
       " 'R_avg_opp_CLINCH_att',\n",
       " 'R_avg_opp_CLINCH_landed',\n",
       " 'R_avg_opp_DISTANCE_att',\n",
       " 'R_avg_opp_DISTANCE_landed',\n",
       " 'R_avg_opp_GROUND_att',\n",
       " 'R_avg_opp_GROUND_landed',\n",
       " 'R_avg_opp_HEAD_att',\n",
       " 'R_avg_opp_HEAD_landed',\n",
       " 'R_avg_opp_KD',\n",
       " 'R_avg_opp_LEG_att',\n",
       " 'R_avg_opp_LEG_landed',\n",
       " 'R_avg_opp_PASS',\n",
       " 'R_avg_opp_REV',\n",
       " 'R_avg_opp_SIG_STR_att',\n",
       " 'R_avg_opp_SIG_STR_landed',\n",
       " 'R_avg_opp_SIG_STR_pct',\n",
       " 'R_avg_opp_SUB_ATT',\n",
       " 'R_avg_opp_TD_att',\n",
       " 'R_avg_opp_TD_landed',\n",
       " 'R_avg_opp_TD_pct',\n",
       " 'R_avg_opp_TOTAL_STR_att',\n",
       " 'R_avg_opp_TOTAL_STR_landed',\n",
       " 'R_total_rounds_fought',\n",
       " 'R_total_time_fought(seconds)',\n",
       " 'R_total_title_bouts',\n",
       " 'R_win_by_Decision_Majority',\n",
       " 'R_win_by_Decision_Split',\n",
       " 'R_win_by_Decision_Unanimous',\n",
       " 'R_win_by_KO/TKO',\n",
       " 'R_win_by_Submission',\n",
       " 'R_win_by_TKO_Doctor_Stoppage',\n",
       " 'R_wins',\n",
       " 'R_Stance',\n",
       " 'R_Height_cms',\n",
       " 'R_Reach_cms',\n",
       " 'R_Weight_lbs',\n",
       " 'B_age',\n",
       " 'R_age']"
      ]
     },
     "execution_count": 779,
     "metadata": {},
     "output_type": "execute_result"
    }
   ],
   "source": [
    "list(df1.columns)"
   ]
  },
  {
   "cell_type": "code",
   "execution_count": 780,
   "metadata": {},
   "outputs": [
    {
     "name": "stdout",
     "output_type": "stream",
     "text": [
      "<class 'pandas.core.frame.DataFrame'>\n",
      "RangeIndex: 5144 entries, 0 to 5143\n",
      "Columns: 145 entries, R_fighter to R_age\n",
      "dtypes: bool(1), float64(134), int64(1), object(9)\n",
      "memory usage: 5.7+ MB\n"
     ]
    }
   ],
   "source": [
    "df1.info()"
   ]
  },
  {
   "cell_type": "code",
   "execution_count": 781,
   "metadata": {},
   "outputs": [
    {
     "data": {
      "text/plain": [
       "(5144, 145)"
      ]
     },
     "execution_count": 781,
     "metadata": {},
     "output_type": "execute_result"
    }
   ],
   "source": [
    "df1.shape"
   ]
  },
  {
   "cell_type": "code",
   "execution_count": 782,
   "metadata": {
    "scrolled": true
   },
   "outputs": [
    {
     "data": {
      "text/plain": [
       "R_fighter                         0\n",
       "R_total_title_bouts               0\n",
       "R_total_rounds_fought             0\n",
       "R_losses                          0\n",
       "R_longest_win_streak              0\n",
       "R_draw                            0\n",
       "R_current_win_streak              0\n",
       "R_current_lose_streak             0\n",
       "B_total_title_bouts               0\n",
       "B_wins                            0\n",
       "B_win_by_Submission               0\n",
       "B_win_by_KO/TKO                   0\n",
       "B_win_by_Decision_Unanimous       0\n",
       "B_win_by_Decision_Split           0\n",
       "B_longest_win_streak              0\n",
       "B_losses                          0\n",
       "B_win_by_Decision_Majority        0\n",
       "B_win_by_TKO_Doctor_Stoppage      0\n",
       "R_win_by_Decision_Split           0\n",
       "R_win_by_Decision_Majority        0\n",
       "R_win_by_KO/TKO                   0\n",
       "B_fighter                         0\n",
       "date                              0\n",
       "location                          0\n",
       "Winner                            0\n",
       "title_bout                        0\n",
       "weight_class                      0\n",
       "no_of_rounds                      0\n",
       "R_win_by_Decision_Unanimous       0\n",
       "B_current_lose_streak             0\n",
       "B_current_win_streak              0\n",
       "B_draw                            0\n",
       "R_wins                            0\n",
       "R_win_by_TKO_Doctor_Stoppage      0\n",
       "R_win_by_Submission               0\n",
       "B_total_rounds_fought             0\n",
       "R_Weight_lbs                      3\n",
       "R_Height_cms                      4\n",
       "B_Weight_lbs                      6\n",
       "B_Height_cms                      8\n",
       "Referee                          23\n",
       "R_age                            64\n",
       "R_Stance                        134\n",
       "B_Stance                        159\n",
       "B_age                           172\n",
       "R_Reach_cms                     316\n",
       "R_avg_opp_CLINCH_att            650\n",
       "R_avg_opp_BODY_landed           650\n",
       "R_avg_opp_BODY_att              650\n",
       "R_avg_TOTAL_STR_landed          650\n",
       "R_avg_TOTAL_STR_att             650\n",
       "R_avg_TD_pct                    650\n",
       "R_avg_TD_landed                 650\n",
       "R_avg_SUB_ATT                   650\n",
       "R_avg_opp_CLINCH_landed         650\n",
       "R_avg_SIG_STR_pct               650\n",
       "R_avg_SIG_STR_landed            650\n",
       "R_avg_SIG_STR_att               650\n",
       "R_avg_PASS                      650\n",
       "R_avg_LEG_landed                650\n",
       "dtype: int64"
      ]
     },
     "execution_count": 782,
     "metadata": {},
     "output_type": "execute_result"
    }
   ],
   "source": [
    "df1.isnull().sum().sort_values(ascending = True).head(60)"
   ]
  },
  {
   "cell_type": "markdown",
   "metadata": {},
   "source": [
    "## Dealing with the the NaN values"
   ]
  },
  {
   "cell_type": "code",
   "execution_count": 783,
   "metadata": {
    "scrolled": true
   },
   "outputs": [
    {
     "data": {
      "text/plain": [
       "True     109\n",
       "False     36\n",
       "dtype: int64"
      ]
     },
     "execution_count": 783,
     "metadata": {},
     "output_type": "execute_result"
    }
   ],
   "source": [
    "(df1.isnull().sum() > 1).value_counts()"
   ]
  },
  {
   "cell_type": "code",
   "execution_count": 784,
   "metadata": {},
   "outputs": [],
   "source": [
    "df1['Referee'].fillna('Noinfo', inplace=True)"
   ]
  },
  {
   "cell_type": "markdown",
   "metadata": {},
   "source": [
    "### We are going to fill the nan values of the Height with the mean of the column per weight class"
   ]
  },
  {
   "cell_type": "code",
   "execution_count": 785,
   "metadata": {},
   "outputs": [
    {
     "data": {
      "text/html": [
       "<div>\n",
       "<style scoped>\n",
       "    .dataframe tbody tr th:only-of-type {\n",
       "        vertical-align: middle;\n",
       "    }\n",
       "\n",
       "    .dataframe tbody tr th {\n",
       "        vertical-align: top;\n",
       "    }\n",
       "\n",
       "    .dataframe thead th {\n",
       "        text-align: right;\n",
       "    }\n",
       "</style>\n",
       "<table border=\"1\" class=\"dataframe\">\n",
       "  <thead>\n",
       "    <tr style=\"text-align: right;\">\n",
       "      <th></th>\n",
       "      <th>weight_class</th>\n",
       "      <th>R_Height_cms</th>\n",
       "      <th>B_Height_cms</th>\n",
       "    </tr>\n",
       "  </thead>\n",
       "  <tbody>\n",
       "    <tr>\n",
       "      <td>1212</td>\n",
       "      <td>Women's Strawweight</td>\n",
       "      <td>157.48</td>\n",
       "      <td>152.40</td>\n",
       "    </tr>\n",
       "    <tr>\n",
       "      <td>1027</td>\n",
       "      <td>Women's Strawweight</td>\n",
       "      <td>165.10</td>\n",
       "      <td>152.40</td>\n",
       "    </tr>\n",
       "    <tr>\n",
       "      <td>1365</td>\n",
       "      <td>Women's Strawweight</td>\n",
       "      <td>170.18</td>\n",
       "      <td>152.40</td>\n",
       "    </tr>\n",
       "    <tr>\n",
       "      <td>2525</td>\n",
       "      <td>Women's Bantamweight</td>\n",
       "      <td>170.18</td>\n",
       "      <td>154.94</td>\n",
       "    </tr>\n",
       "    <tr>\n",
       "      <td>2807</td>\n",
       "      <td>Women's Bantamweight</td>\n",
       "      <td>167.64</td>\n",
       "      <td>154.94</td>\n",
       "    </tr>\n",
       "    <tr>\n",
       "      <td>...</td>\n",
       "      <td>...</td>\n",
       "      <td>...</td>\n",
       "      <td>...</td>\n",
       "    </tr>\n",
       "    <tr>\n",
       "      <td>4992</td>\n",
       "      <td>Middleweight</td>\n",
       "      <td>187.96</td>\n",
       "      <td>NaN</td>\n",
       "    </tr>\n",
       "    <tr>\n",
       "      <td>5020</td>\n",
       "      <td>Heavyweight</td>\n",
       "      <td>175.26</td>\n",
       "      <td>NaN</td>\n",
       "    </tr>\n",
       "    <tr>\n",
       "      <td>5029</td>\n",
       "      <td>Lightweight</td>\n",
       "      <td>NaN</td>\n",
       "      <td>NaN</td>\n",
       "    </tr>\n",
       "    <tr>\n",
       "      <td>5116</td>\n",
       "      <td>Open Weight</td>\n",
       "      <td>185.42</td>\n",
       "      <td>NaN</td>\n",
       "    </tr>\n",
       "    <tr>\n",
       "      <td>5134</td>\n",
       "      <td>Open Weight</td>\n",
       "      <td>187.96</td>\n",
       "      <td>NaN</td>\n",
       "    </tr>\n",
       "  </tbody>\n",
       "</table>\n",
       "<p>5144 rows × 3 columns</p>\n",
       "</div>"
      ],
      "text/plain": [
       "              weight_class  R_Height_cms  B_Height_cms\n",
       "1212   Women's Strawweight        157.48        152.40\n",
       "1027   Women's Strawweight        165.10        152.40\n",
       "1365   Women's Strawweight        170.18        152.40\n",
       "2525  Women's Bantamweight        170.18        154.94\n",
       "2807  Women's Bantamweight        167.64        154.94\n",
       "...                    ...           ...           ...\n",
       "4992          Middleweight        187.96           NaN\n",
       "5020           Heavyweight        175.26           NaN\n",
       "5029           Lightweight           NaN           NaN\n",
       "5116           Open Weight        185.42           NaN\n",
       "5134           Open Weight        187.96           NaN\n",
       "\n",
       "[5144 rows x 3 columns]"
      ]
     },
     "execution_count": 785,
     "metadata": {},
     "output_type": "execute_result"
    }
   ],
   "source": [
    "df1[['weight_class', 'R_Height_cms', \"B_Height_cms\"]].sort_values(by=\"B_Height_cms\" , ascending=False).sort_values(by=\"B_Height_cms\", ascending=True)"
   ]
  },
  {
   "cell_type": "code",
   "execution_count": 786,
   "metadata": {},
   "outputs": [
    {
     "name": "stderr",
     "output_type": "stream",
     "text": [
      "C:\\Users\\AaronElias\\anaconda3\\lib\\site-packages\\pandas\\core\\indexing.py:205: SettingWithCopyWarning: \n",
      "A value is trying to be set on a copy of a slice from a DataFrame\n",
      "\n",
      "See the caveats in the documentation: http://pandas.pydata.org/pandas-docs/stable/user_guide/indexing.html#returning-a-view-versus-a-copy\n",
      "  self._setitem_with_indexer(indexer, value)\n"
     ]
    }
   ],
   "source": [
    "df1.R_Height_cms.loc[103]= 187.13\n",
    "df1.R_Height_cms.loc[3607]= 187.13\n",
    "df1.R_Height_cms.loc[5029]= 176.48\n",
    "df1.R_Height_cms.loc[5132]= 186.42"
   ]
  },
  {
   "cell_type": "code",
   "execution_count": 787,
   "metadata": {},
   "outputs": [],
   "source": [
    "df1.B_Height_cms.loc[4992]= 184.63\n",
    "df1.B_Height_cms.loc[5020]= 189.77\n",
    "df1.B_Height_cms.loc[5029]= 176.48\n",
    "df1.B_Height_cms.loc[5116]= 186.42\n",
    "df1.B_Height_cms.loc[5134]= 186.42\n",
    "df1.B_Height_cms.loc[3402]= 176.48\n",
    "df1.B_Height_cms.loc[3518]= 176.48\n",
    "df1.B_Height_cms.loc[4978]= 176.48"
   ]
  },
  {
   "cell_type": "markdown",
   "metadata": {},
   "source": [
    "### We are going to fill the nan values of the Weight with the mean of the column per weight class"
   ]
  },
  {
   "cell_type": "code",
   "execution_count": 795,
   "metadata": {
    "scrolled": true
   },
   "outputs": [
    {
     "data": {
      "text/html": [
       "<div>\n",
       "<style scoped>\n",
       "    .dataframe tbody tr th:only-of-type {\n",
       "        vertical-align: middle;\n",
       "    }\n",
       "\n",
       "    .dataframe tbody tr th {\n",
       "        vertical-align: top;\n",
       "    }\n",
       "\n",
       "    .dataframe thead th {\n",
       "        text-align: right;\n",
       "    }\n",
       "</style>\n",
       "<table border=\"1\" class=\"dataframe\">\n",
       "  <thead>\n",
       "    <tr style=\"text-align: right;\">\n",
       "      <th></th>\n",
       "      <th>weight_class</th>\n",
       "      <th>R_Weight_lbs</th>\n",
       "      <th>B_Weight_lbs</th>\n",
       "    </tr>\n",
       "  </thead>\n",
       "  <tbody>\n",
       "    <tr>\n",
       "      <td>2148</td>\n",
       "      <td>Women's Strawweight</td>\n",
       "      <td>115.0</td>\n",
       "      <td>115.0</td>\n",
       "    </tr>\n",
       "    <tr>\n",
       "      <td>1999</td>\n",
       "      <td>Women's Strawweight</td>\n",
       "      <td>115.0</td>\n",
       "      <td>115.0</td>\n",
       "    </tr>\n",
       "    <tr>\n",
       "      <td>176</td>\n",
       "      <td>Women's Strawweight</td>\n",
       "      <td>115.0</td>\n",
       "      <td>115.0</td>\n",
       "    </tr>\n",
       "    <tr>\n",
       "      <td>1859</td>\n",
       "      <td>Women's Strawweight</td>\n",
       "      <td>115.0</td>\n",
       "      <td>115.0</td>\n",
       "    </tr>\n",
       "    <tr>\n",
       "      <td>1930</td>\n",
       "      <td>Women's Strawweight</td>\n",
       "      <td>115.0</td>\n",
       "      <td>115.0</td>\n",
       "    </tr>\n",
       "    <tr>\n",
       "      <td>...</td>\n",
       "      <td>...</td>\n",
       "      <td>...</td>\n",
       "      <td>...</td>\n",
       "    </tr>\n",
       "    <tr>\n",
       "      <td>5061</td>\n",
       "      <td>Open Weight</td>\n",
       "      <td>190.0</td>\n",
       "      <td>350.0</td>\n",
       "    </tr>\n",
       "    <tr>\n",
       "      <td>5097</td>\n",
       "      <td>Open Weight</td>\n",
       "      <td>265.0</td>\n",
       "      <td>400.0</td>\n",
       "    </tr>\n",
       "    <tr>\n",
       "      <td>5073</td>\n",
       "      <td>Open Weight</td>\n",
       "      <td>219.0</td>\n",
       "      <td>410.0</td>\n",
       "    </tr>\n",
       "    <tr>\n",
       "      <td>5143</td>\n",
       "      <td>Open Weight</td>\n",
       "      <td>216.0</td>\n",
       "      <td>430.0</td>\n",
       "    </tr>\n",
       "    <tr>\n",
       "      <td>5120</td>\n",
       "      <td>Open Weight</td>\n",
       "      <td>200.0</td>\n",
       "      <td>770.0</td>\n",
       "    </tr>\n",
       "  </tbody>\n",
       "</table>\n",
       "<p>5144 rows × 3 columns</p>\n",
       "</div>"
      ],
      "text/plain": [
       "             weight_class  R_Weight_lbs  B_Weight_lbs\n",
       "2148  Women's Strawweight         115.0         115.0\n",
       "1999  Women's Strawweight         115.0         115.0\n",
       "176   Women's Strawweight         115.0         115.0\n",
       "1859  Women's Strawweight         115.0         115.0\n",
       "1930  Women's Strawweight         115.0         115.0\n",
       "...                   ...           ...           ...\n",
       "5061          Open Weight         190.0         350.0\n",
       "5097          Open Weight         265.0         400.0\n",
       "5073          Open Weight         219.0         410.0\n",
       "5143          Open Weight         216.0         430.0\n",
       "5120          Open Weight         200.0         770.0\n",
       "\n",
       "[5144 rows x 3 columns]"
      ]
     },
     "execution_count": 795,
     "metadata": {},
     "output_type": "execute_result"
    }
   ],
   "source": [
    "df1[['weight_class', 'R_Weight_lbs', \"B_Weight_lbs\"]].sort_values(by=\"R_Weight_lbs\" , ascending=False).sort_values(by=\"B_Weight_lbs\", ascending=True)"
   ]
  },
  {
   "cell_type": "code",
   "execution_count": 790,
   "metadata": {},
   "outputs": [],
   "source": [
    "df1.R_Weight_lbs.loc[5029]= 155\n",
    "df1.R_Weight_lbs.loc[5132]= 224\n",
    "df1.R_Weight_lbs.loc[103] = 202"
   ]
  },
  {
   "cell_type": "code",
   "execution_count": 789,
   "metadata": {},
   "outputs": [],
   "source": [
    "df1.B_Weight_lbs.loc[4992]= 184\n",
    "df1.B_Weight_lbs.loc[5116]= 224\n",
    "df1.B_Weight_lbs.loc[4978]= 155\n",
    "df1.B_Weight_lbs.loc[5134]= 224\n",
    "df1.B_Weight_lbs.loc[5020]= 245\n",
    "df1.B_Weight_lbs.loc[5029]= 155"
   ]
  },
  {
   "cell_type": "markdown",
   "metadata": {},
   "source": [
    "### We fixed the R_Stance and B_Stance column replacing them with the most commun "
   ]
  },
  {
   "cell_type": "code",
   "execution_count": 792,
   "metadata": {},
   "outputs": [],
   "source": [
    "df1.R_Stance.fillna('Orthodox', inplace=True) # We fixed the R_Stance column replacing them with the most commun "
   ]
  },
  {
   "cell_type": "code",
   "execution_count": 791,
   "metadata": {},
   "outputs": [],
   "source": [
    "df1.B_Stance.fillna('Orthodox', inplace=True) # We fixed the B_Stance column replacing them with the most commun "
   ]
  },
  {
   "cell_type": "markdown",
   "metadata": {},
   "source": [
    "### we fixed the R_age and B_age column with the mean of the age of the column"
   ]
  },
  {
   "cell_type": "code",
   "execution_count": 793,
   "metadata": {},
   "outputs": [],
   "source": [
    "df1.B_age.fillna(29, inplace=True) # we fixed this column with the mean of the age of the column"
   ]
  },
  {
   "cell_type": "code",
   "execution_count": 794,
   "metadata": {},
   "outputs": [],
   "source": [
    "df1.R_age.fillna(29,inplace=True)"
   ]
  },
  {
   "cell_type": "markdown",
   "metadata": {},
   "source": [
    "## Changing the columns type"
   ]
  },
  {
   "cell_type": "code",
   "execution_count": 692,
   "metadata": {},
   "outputs": [],
   "source": [
    "category = ['R_fighter', 'B_fighter', 'Referee', 'Winner','location', 'weight_class', 'B_Stance',\n",
    "               'R_Stance']\n",
    "\n",
    "for x in category:\n",
    "    df1[x] = df1[x].astype('category')"
   ]
  },
  {
   "cell_type": "code",
   "execution_count": 693,
   "metadata": {},
   "outputs": [],
   "source": [
    "cat = ['R_age', 'B_age',\"R_wins\",\"B_wins\"]\n",
    "\n",
    "for x in cat:\n",
    "    df1[x] = df1[x].astype('int')"
   ]
  },
  {
   "cell_type": "code",
   "execution_count": 694,
   "metadata": {},
   "outputs": [],
   "source": [
    "df1['date'] = pd.to_datetime(df1['date'])"
   ]
  },
  {
   "cell_type": "code",
   "execution_count": 537,
   "metadata": {
    "scrolled": true
   },
   "outputs": [
    {
     "data": {
      "text/plain": [
       "R_fighter             category\n",
       "B_fighter             category\n",
       "Referee               category\n",
       "date            datetime64[ns]\n",
       "location              category\n",
       "                     ...      \n",
       "R_Height_cms           float64\n",
       "R_Reach_cms            float64\n",
       "R_Weight_lbs           float64\n",
       "B_age                    int32\n",
       "R_age                    int32\n",
       "Length: 145, dtype: object"
      ]
     },
     "execution_count": 537,
     "metadata": {},
     "output_type": "execute_result"
    }
   ],
   "source": [
    "df1.dtypes"
   ]
  },
  {
   "cell_type": "markdown",
   "metadata": {},
   "source": [
    "# We will delete rest of the NaN value in a new DataFrame  for modeling purpose"
   ]
  },
  {
   "cell_type": "code",
   "execution_count": 799,
   "metadata": {},
   "outputs": [],
   "source": [
    "data_modeling = pd.DataFrame(df1)"
   ]
  },
  {
   "cell_type": "code",
   "execution_count": 800,
   "metadata": {},
   "outputs": [],
   "source": [
    "data_modeling.dropna(axis=0, how='any', inplace=True)"
   ]
  },
  {
   "cell_type": "code",
   "execution_count": 801,
   "metadata": {
    "scrolled": true
   },
   "outputs": [
    {
     "data": {
      "text/plain": [
       "R_fighter       0\n",
       "B_fighter       0\n",
       "Referee         0\n",
       "date            0\n",
       "location        0\n",
       "               ..\n",
       "R_Height_cms    0\n",
       "R_Reach_cms     0\n",
       "R_Weight_lbs    0\n",
       "B_age           0\n",
       "R_age           0\n",
       "Length: 145, dtype: int64"
      ]
     },
     "execution_count": 801,
     "metadata": {},
     "output_type": "execute_result"
    }
   ],
   "source": [
    "data_modeling.isnull().sum()"
   ]
  },
  {
   "cell_type": "code",
   "execution_count": 802,
   "metadata": {},
   "outputs": [],
   "source": [
    "data_modeling.to_csv('data/data_modeling.csv',index=False)"
   ]
  },
  {
   "cell_type": "markdown",
   "metadata": {},
   "source": [
    "Openweight is an unofficial weight class in combat sports and professional wrestling. It refers to bouts where there is no weight limit and fighters with a dramatic difference in size can compete against each other. It is different from catch weight, where competitors agree to weigh in at a certain amount without an official weight class.\n"
   ]
  },
  {
   "cell_type": "markdown",
   "metadata": {},
   "source": [
    "### We will create the new csv that contain the mens fighters for "
   ]
  },
  {
   "cell_type": "code",
   "execution_count": 807,
   "metadata": {},
   "outputs": [],
   "source": [
    "mens_fighters1 = pd.DataFrame(df1)"
   ]
  },
  {
   "cell_type": "code",
   "execution_count": 809,
   "metadata": {},
   "outputs": [],
   "source": [
    "mens_fighters1.fillna(0,inplace=True)"
   ]
  },
  {
   "cell_type": "code",
   "execution_count": 812,
   "metadata": {},
   "outputs": [],
   "source": [
    "mens_fighters = pd.DataFrame(mens_fighters1[(mens_fighters1.weight_class != \"Women's Strawweight\")&(mens_fighters1.weight_class != \"Women's Bantamweight\") & (mens_fighters1.weight_class != \"Women's Flyweight\") & (mens_fighters1.weight_class != \"Women's Featherweight\") ])"
   ]
  },
  {
   "cell_type": "code",
   "execution_count": 813,
   "metadata": {},
   "outputs": [
    {
     "data": {
      "text/plain": [
       "(4830, 145)"
      ]
     },
     "execution_count": 813,
     "metadata": {},
     "output_type": "execute_result"
    }
   ],
   "source": [
    "mens_fighters.shape"
   ]
  },
  {
   "cell_type": "code",
   "execution_count": 814,
   "metadata": {},
   "outputs": [],
   "source": [
    "mens_fighters[\"gender\"] = \"M\""
   ]
  },
  {
   "cell_type": "code",
   "execution_count": 815,
   "metadata": {},
   "outputs": [],
   "source": [
    "mens_fighters[\"weight_diff_red-blue\"]= mens_fighters[\"R_Weight_lbs\"] - mens_fighters[\"B_Weight_lbs\"] # Red less o more than Blue"
   ]
  },
  {
   "cell_type": "code",
   "execution_count": 816,
   "metadata": {},
   "outputs": [],
   "source": [
    "mens_fighters[\"height_diff_red-blue\"]= mens_fighters[\"R_Height_cms\"] - mens_fighters[\"B_Height_cms\"] # Red less o more than Blue"
   ]
  },
  {
   "cell_type": "code",
   "execution_count": 817,
   "metadata": {},
   "outputs": [
    {
     "data": {
      "text/plain": [
       "(4830, 148)"
      ]
     },
     "execution_count": 817,
     "metadata": {},
     "output_type": "execute_result"
    }
   ],
   "source": [
    "mens_fighters.shape"
   ]
  },
  {
   "cell_type": "code",
   "execution_count": 828,
   "metadata": {},
   "outputs": [
    {
     "data": {
      "text/html": [
       "<div>\n",
       "<style scoped>\n",
       "    .dataframe tbody tr th:only-of-type {\n",
       "        vertical-align: middle;\n",
       "    }\n",
       "\n",
       "    .dataframe tbody tr th {\n",
       "        vertical-align: top;\n",
       "    }\n",
       "\n",
       "    .dataframe thead th {\n",
       "        text-align: right;\n",
       "    }\n",
       "</style>\n",
       "<table border=\"1\" class=\"dataframe\">\n",
       "  <thead>\n",
       "    <tr style=\"text-align: right;\">\n",
       "      <th></th>\n",
       "      <th>R_fighter</th>\n",
       "      <th>B_fighter</th>\n",
       "      <th>Referee</th>\n",
       "      <th>date</th>\n",
       "      <th>location</th>\n",
       "      <th>Winner</th>\n",
       "      <th>title_bout</th>\n",
       "      <th>weight_class</th>\n",
       "      <th>no_of_rounds</th>\n",
       "      <th>B_current_lose_streak</th>\n",
       "      <th>...</th>\n",
       "      <th>R_wins</th>\n",
       "      <th>R_Stance</th>\n",
       "      <th>R_Height_cms</th>\n",
       "      <th>R_Reach_cms</th>\n",
       "      <th>R_Weight_lbs</th>\n",
       "      <th>B_age</th>\n",
       "      <th>R_age</th>\n",
       "      <th>gender</th>\n",
       "      <th>weight_diff_red-blue</th>\n",
       "      <th>height_diff_red-blue</th>\n",
       "    </tr>\n",
       "  </thead>\n",
       "  <tbody>\n",
       "    <tr>\n",
       "      <td>0</td>\n",
       "      <td>Henry Cejudo</td>\n",
       "      <td>Marlon Moraes</td>\n",
       "      <td>Marc Goddard</td>\n",
       "      <td>2019-06-08</td>\n",
       "      <td>Chicago, Illinois, USA</td>\n",
       "      <td>Red</td>\n",
       "      <td>True</td>\n",
       "      <td>Bantamweight</td>\n",
       "      <td>5</td>\n",
       "      <td>0.0</td>\n",
       "      <td>...</td>\n",
       "      <td>8.0</td>\n",
       "      <td>Orthodox</td>\n",
       "      <td>162.56</td>\n",
       "      <td>162.56</td>\n",
       "      <td>135.0</td>\n",
       "      <td>31.0</td>\n",
       "      <td>32.0</td>\n",
       "      <td>M</td>\n",
       "      <td>0.0</td>\n",
       "      <td>-5.08</td>\n",
       "    </tr>\n",
       "    <tr>\n",
       "      <td>2</td>\n",
       "      <td>Tony Ferguson</td>\n",
       "      <td>Donald Cerrone</td>\n",
       "      <td>Dan Miragliotta</td>\n",
       "      <td>2019-06-08</td>\n",
       "      <td>Chicago, Illinois, USA</td>\n",
       "      <td>Red</td>\n",
       "      <td>False</td>\n",
       "      <td>Lightweight</td>\n",
       "      <td>3</td>\n",
       "      <td>0.0</td>\n",
       "      <td>...</td>\n",
       "      <td>14.0</td>\n",
       "      <td>Orthodox</td>\n",
       "      <td>180.34</td>\n",
       "      <td>193.04</td>\n",
       "      <td>155.0</td>\n",
       "      <td>36.0</td>\n",
       "      <td>35.0</td>\n",
       "      <td>M</td>\n",
       "      <td>0.0</td>\n",
       "      <td>-5.08</td>\n",
       "    </tr>\n",
       "    <tr>\n",
       "      <td>3</td>\n",
       "      <td>Jimmie Rivera</td>\n",
       "      <td>Petr Yan</td>\n",
       "      <td>Kevin MacDonald</td>\n",
       "      <td>2019-06-08</td>\n",
       "      <td>Chicago, Illinois, USA</td>\n",
       "      <td>Blue</td>\n",
       "      <td>False</td>\n",
       "      <td>Bantamweight</td>\n",
       "      <td>3</td>\n",
       "      <td>0.0</td>\n",
       "      <td>...</td>\n",
       "      <td>6.0</td>\n",
       "      <td>Orthodox</td>\n",
       "      <td>162.56</td>\n",
       "      <td>172.72</td>\n",
       "      <td>135.0</td>\n",
       "      <td>26.0</td>\n",
       "      <td>29.0</td>\n",
       "      <td>M</td>\n",
       "      <td>0.0</td>\n",
       "      <td>-7.62</td>\n",
       "    </tr>\n",
       "    <tr>\n",
       "      <td>4</td>\n",
       "      <td>Tai Tuivasa</td>\n",
       "      <td>Blagoy Ivanov</td>\n",
       "      <td>Dan Miragliotta</td>\n",
       "      <td>2019-06-08</td>\n",
       "      <td>Chicago, Illinois, USA</td>\n",
       "      <td>Blue</td>\n",
       "      <td>False</td>\n",
       "      <td>Heavyweight</td>\n",
       "      <td>3</td>\n",
       "      <td>0.0</td>\n",
       "      <td>...</td>\n",
       "      <td>3.0</td>\n",
       "      <td>Southpaw</td>\n",
       "      <td>187.96</td>\n",
       "      <td>190.50</td>\n",
       "      <td>264.0</td>\n",
       "      <td>32.0</td>\n",
       "      <td>26.0</td>\n",
       "      <td>M</td>\n",
       "      <td>14.0</td>\n",
       "      <td>7.62</td>\n",
       "    </tr>\n",
       "    <tr>\n",
       "      <td>6</td>\n",
       "      <td>Aljamain Sterling</td>\n",
       "      <td>Pedro Munhoz</td>\n",
       "      <td>Marc Goddard</td>\n",
       "      <td>2019-06-08</td>\n",
       "      <td>Chicago, Illinois, USA</td>\n",
       "      <td>Red</td>\n",
       "      <td>False</td>\n",
       "      <td>Bantamweight</td>\n",
       "      <td>3</td>\n",
       "      <td>0.0</td>\n",
       "      <td>...</td>\n",
       "      <td>9.0</td>\n",
       "      <td>Orthodox</td>\n",
       "      <td>170.18</td>\n",
       "      <td>180.34</td>\n",
       "      <td>135.0</td>\n",
       "      <td>32.0</td>\n",
       "      <td>29.0</td>\n",
       "      <td>M</td>\n",
       "      <td>0.0</td>\n",
       "      <td>2.54</td>\n",
       "    </tr>\n",
       "  </tbody>\n",
       "</table>\n",
       "<p>5 rows × 148 columns</p>\n",
       "</div>"
      ],
      "text/plain": [
       "           R_fighter       B_fighter          Referee        date  \\\n",
       "0       Henry Cejudo   Marlon Moraes     Marc Goddard  2019-06-08   \n",
       "2      Tony Ferguson  Donald Cerrone  Dan Miragliotta  2019-06-08   \n",
       "3      Jimmie Rivera        Petr Yan  Kevin MacDonald  2019-06-08   \n",
       "4        Tai Tuivasa   Blagoy Ivanov  Dan Miragliotta  2019-06-08   \n",
       "6  Aljamain Sterling    Pedro Munhoz     Marc Goddard  2019-06-08   \n",
       "\n",
       "                 location Winner  title_bout  weight_class  no_of_rounds  \\\n",
       "0  Chicago, Illinois, USA    Red        True  Bantamweight             5   \n",
       "2  Chicago, Illinois, USA    Red       False   Lightweight             3   \n",
       "3  Chicago, Illinois, USA   Blue       False  Bantamweight             3   \n",
       "4  Chicago, Illinois, USA   Blue       False   Heavyweight             3   \n",
       "6  Chicago, Illinois, USA    Red       False  Bantamweight             3   \n",
       "\n",
       "   B_current_lose_streak  ...  R_wins  R_Stance  R_Height_cms  R_Reach_cms  \\\n",
       "0                    0.0  ...     8.0  Orthodox        162.56       162.56   \n",
       "2                    0.0  ...    14.0  Orthodox        180.34       193.04   \n",
       "3                    0.0  ...     6.0  Orthodox        162.56       172.72   \n",
       "4                    0.0  ...     3.0  Southpaw        187.96       190.50   \n",
       "6                    0.0  ...     9.0  Orthodox        170.18       180.34   \n",
       "\n",
       "   R_Weight_lbs  B_age  R_age  gender  weight_diff_red-blue  \\\n",
       "0         135.0   31.0   32.0       M                   0.0   \n",
       "2         155.0   36.0   35.0       M                   0.0   \n",
       "3         135.0   26.0   29.0       M                   0.0   \n",
       "4         264.0   32.0   26.0       M                  14.0   \n",
       "6         135.0   32.0   29.0       M                   0.0   \n",
       "\n",
       "   height_diff_red-blue  \n",
       "0                 -5.08  \n",
       "2                 -5.08  \n",
       "3                 -7.62  \n",
       "4                  7.62  \n",
       "6                  2.54  \n",
       "\n",
       "[5 rows x 148 columns]"
      ]
     },
     "execution_count": 828,
     "metadata": {},
     "output_type": "execute_result"
    }
   ],
   "source": [
    "mens_fighters.head()"
   ]
  },
  {
   "cell_type": "code",
   "execution_count": 419,
   "metadata": {},
   "outputs": [],
   "source": [
    "mens_fighters.to_csv('data/mens_fighters.csv',index=False)"
   ]
  },
  {
   "cell_type": "markdown",
   "metadata": {},
   "source": [
    "### We will create the new csv that contain the woman fighters"
   ]
  },
  {
   "cell_type": "code",
   "execution_count": 819,
   "metadata": {},
   "outputs": [],
   "source": [
    "women_fighters1 = pd.DataFrame(df1)"
   ]
  },
  {
   "cell_type": "code",
   "execution_count": 820,
   "metadata": {},
   "outputs": [],
   "source": [
    "women_fighters1.fillna(0,inplace=True)"
   ]
  },
  {
   "cell_type": "code",
   "execution_count": 821,
   "metadata": {},
   "outputs": [],
   "source": [
    "women_fighters = pd.DataFrame(women_fighters1[(women_fighters1.weight_class == \"Women's Strawweight\")|(women_fighters1.weight_class == \"Women's Bantamweight\") | (women_fighters1.weight_class == \"Women's Flyweight\") | (women_fighters1.weight_class == \"Women's Featherweight\") ])"
   ]
  },
  {
   "cell_type": "code",
   "execution_count": 823,
   "metadata": {},
   "outputs": [],
   "source": [
    "women_fighters[\"gender\"] = \"F\""
   ]
  },
  {
   "cell_type": "code",
   "execution_count": 824,
   "metadata": {},
   "outputs": [],
   "source": [
    "women_fighters[\"weight_diff_red-blue\"]= women_fighters[\"R_Weight_lbs\"] - women_fighters[\"B_Weight_lbs\"] # Red less o more than Blue"
   ]
  },
  {
   "cell_type": "code",
   "execution_count": 825,
   "metadata": {
    "scrolled": true
   },
   "outputs": [],
   "source": [
    "women_fighters[\"height_diff_red-blue\"]= women_fighters[\"R_Height_cms\"] - women_fighters[\"B_Height_cms\"] # Red less o more than Blue"
   ]
  },
  {
   "cell_type": "code",
   "execution_count": 826,
   "metadata": {},
   "outputs": [
    {
     "data": {
      "text/plain": [
       "(314, 148)"
      ]
     },
     "execution_count": 826,
     "metadata": {},
     "output_type": "execute_result"
    }
   ],
   "source": [
    "women_fighters.shape"
   ]
  },
  {
   "cell_type": "code",
   "execution_count": 827,
   "metadata": {},
   "outputs": [
    {
     "data": {
      "text/html": [
       "<div>\n",
       "<style scoped>\n",
       "    .dataframe tbody tr th:only-of-type {\n",
       "        vertical-align: middle;\n",
       "    }\n",
       "\n",
       "    .dataframe tbody tr th {\n",
       "        vertical-align: top;\n",
       "    }\n",
       "\n",
       "    .dataframe thead th {\n",
       "        text-align: right;\n",
       "    }\n",
       "</style>\n",
       "<table border=\"1\" class=\"dataframe\">\n",
       "  <thead>\n",
       "    <tr style=\"text-align: right;\">\n",
       "      <th></th>\n",
       "      <th>R_fighter</th>\n",
       "      <th>B_fighter</th>\n",
       "      <th>Referee</th>\n",
       "      <th>date</th>\n",
       "      <th>location</th>\n",
       "      <th>Winner</th>\n",
       "      <th>title_bout</th>\n",
       "      <th>weight_class</th>\n",
       "      <th>no_of_rounds</th>\n",
       "      <th>B_current_lose_streak</th>\n",
       "      <th>...</th>\n",
       "      <th>R_wins</th>\n",
       "      <th>R_Stance</th>\n",
       "      <th>R_Height_cms</th>\n",
       "      <th>R_Reach_cms</th>\n",
       "      <th>R_Weight_lbs</th>\n",
       "      <th>B_age</th>\n",
       "      <th>R_age</th>\n",
       "      <th>gender</th>\n",
       "      <th>weight_diff_red-blue</th>\n",
       "      <th>height_diff_red-blue</th>\n",
       "    </tr>\n",
       "  </thead>\n",
       "  <tbody>\n",
       "    <tr>\n",
       "      <td>1</td>\n",
       "      <td>Valentina Shevchenko</td>\n",
       "      <td>Jessica Eye</td>\n",
       "      <td>Robert Madrigal</td>\n",
       "      <td>2019-06-08</td>\n",
       "      <td>Chicago, Illinois, USA</td>\n",
       "      <td>Red</td>\n",
       "      <td>True</td>\n",
       "      <td>Women's Flyweight</td>\n",
       "      <td>5</td>\n",
       "      <td>0.0</td>\n",
       "      <td>...</td>\n",
       "      <td>5.0</td>\n",
       "      <td>Southpaw</td>\n",
       "      <td>165.10</td>\n",
       "      <td>167.64</td>\n",
       "      <td>125.0</td>\n",
       "      <td>32.0</td>\n",
       "      <td>31.0</td>\n",
       "      <td>F</td>\n",
       "      <td>0.0</td>\n",
       "      <td>-2.54</td>\n",
       "    </tr>\n",
       "    <tr>\n",
       "      <td>5</td>\n",
       "      <td>Tatiana Suarez</td>\n",
       "      <td>Nina Ansaroff</td>\n",
       "      <td>Robert Madrigal</td>\n",
       "      <td>2019-06-08</td>\n",
       "      <td>Chicago, Illinois, USA</td>\n",
       "      <td>Red</td>\n",
       "      <td>False</td>\n",
       "      <td>Women's Strawweight</td>\n",
       "      <td>3</td>\n",
       "      <td>0.0</td>\n",
       "      <td>...</td>\n",
       "      <td>4.0</td>\n",
       "      <td>Orthodox</td>\n",
       "      <td>165.10</td>\n",
       "      <td>167.64</td>\n",
       "      <td>115.0</td>\n",
       "      <td>33.0</td>\n",
       "      <td>28.0</td>\n",
       "      <td>F</td>\n",
       "      <td>0.0</td>\n",
       "      <td>0.00</td>\n",
       "    </tr>\n",
       "    <tr>\n",
       "      <td>7</td>\n",
       "      <td>Karolina Kowalkiewicz</td>\n",
       "      <td>Alexa Grasso</td>\n",
       "      <td>Kevin MacDonald</td>\n",
       "      <td>2019-06-08</td>\n",
       "      <td>Chicago, Illinois, USA</td>\n",
       "      <td>Blue</td>\n",
       "      <td>False</td>\n",
       "      <td>Women's Strawweight</td>\n",
       "      <td>3</td>\n",
       "      <td>1.0</td>\n",
       "      <td>...</td>\n",
       "      <td>5.0</td>\n",
       "      <td>Orthodox</td>\n",
       "      <td>160.02</td>\n",
       "      <td>162.56</td>\n",
       "      <td>115.0</td>\n",
       "      <td>25.0</td>\n",
       "      <td>33.0</td>\n",
       "      <td>F</td>\n",
       "      <td>0.0</td>\n",
       "      <td>-5.08</td>\n",
       "    </tr>\n",
       "    <tr>\n",
       "      <td>9</td>\n",
       "      <td>Yan Xiaonan</td>\n",
       "      <td>Angela Hill</td>\n",
       "      <td>Robert Madrigal</td>\n",
       "      <td>2019-06-08</td>\n",
       "      <td>Chicago, Illinois, USA</td>\n",
       "      <td>Red</td>\n",
       "      <td>False</td>\n",
       "      <td>Women's Strawweight</td>\n",
       "      <td>3</td>\n",
       "      <td>0.0</td>\n",
       "      <td>...</td>\n",
       "      <td>3.0</td>\n",
       "      <td>Orthodox</td>\n",
       "      <td>165.10</td>\n",
       "      <td>160.02</td>\n",
       "      <td>115.0</td>\n",
       "      <td>34.0</td>\n",
       "      <td>29.0</td>\n",
       "      <td>F</td>\n",
       "      <td>0.0</td>\n",
       "      <td>5.08</td>\n",
       "    </tr>\n",
       "    <tr>\n",
       "      <td>12</td>\n",
       "      <td>Katlyn Chookagian</td>\n",
       "      <td>Joanne Calderwood</td>\n",
       "      <td>Dan Miragliotta</td>\n",
       "      <td>2019-06-08</td>\n",
       "      <td>Chicago, Illinois, USA</td>\n",
       "      <td>Red</td>\n",
       "      <td>False</td>\n",
       "      <td>Women's Flyweight</td>\n",
       "      <td>3</td>\n",
       "      <td>0.0</td>\n",
       "      <td>...</td>\n",
       "      <td>4.0</td>\n",
       "      <td>Orthodox</td>\n",
       "      <td>175.26</td>\n",
       "      <td>172.72</td>\n",
       "      <td>125.0</td>\n",
       "      <td>33.0</td>\n",
       "      <td>30.0</td>\n",
       "      <td>F</td>\n",
       "      <td>0.0</td>\n",
       "      <td>7.62</td>\n",
       "    </tr>\n",
       "  </tbody>\n",
       "</table>\n",
       "<p>5 rows × 148 columns</p>\n",
       "</div>"
      ],
      "text/plain": [
       "                R_fighter          B_fighter          Referee        date  \\\n",
       "1    Valentina Shevchenko        Jessica Eye  Robert Madrigal  2019-06-08   \n",
       "5          Tatiana Suarez      Nina Ansaroff  Robert Madrigal  2019-06-08   \n",
       "7   Karolina Kowalkiewicz       Alexa Grasso  Kevin MacDonald  2019-06-08   \n",
       "9             Yan Xiaonan        Angela Hill  Robert Madrigal  2019-06-08   \n",
       "12      Katlyn Chookagian  Joanne Calderwood  Dan Miragliotta  2019-06-08   \n",
       "\n",
       "                  location Winner  title_bout         weight_class  \\\n",
       "1   Chicago, Illinois, USA    Red        True    Women's Flyweight   \n",
       "5   Chicago, Illinois, USA    Red       False  Women's Strawweight   \n",
       "7   Chicago, Illinois, USA   Blue       False  Women's Strawweight   \n",
       "9   Chicago, Illinois, USA    Red       False  Women's Strawweight   \n",
       "12  Chicago, Illinois, USA    Red       False    Women's Flyweight   \n",
       "\n",
       "    no_of_rounds  B_current_lose_streak  ...  R_wins  R_Stance  R_Height_cms  \\\n",
       "1              5                    0.0  ...     5.0  Southpaw        165.10   \n",
       "5              3                    0.0  ...     4.0  Orthodox        165.10   \n",
       "7              3                    1.0  ...     5.0  Orthodox        160.02   \n",
       "9              3                    0.0  ...     3.0  Orthodox        165.10   \n",
       "12             3                    0.0  ...     4.0  Orthodox        175.26   \n",
       "\n",
       "    R_Reach_cms  R_Weight_lbs  B_age  R_age  gender  weight_diff_red-blue  \\\n",
       "1        167.64         125.0   32.0   31.0       F                   0.0   \n",
       "5        167.64         115.0   33.0   28.0       F                   0.0   \n",
       "7        162.56         115.0   25.0   33.0       F                   0.0   \n",
       "9        160.02         115.0   34.0   29.0       F                   0.0   \n",
       "12       172.72         125.0   33.0   30.0       F                   0.0   \n",
       "\n",
       "    height_diff_red-blue  \n",
       "1                  -2.54  \n",
       "5                   0.00  \n",
       "7                  -5.08  \n",
       "9                   5.08  \n",
       "12                  7.62  \n",
       "\n",
       "[5 rows x 148 columns]"
      ]
     },
     "execution_count": 827,
     "metadata": {},
     "output_type": "execute_result"
    }
   ],
   "source": [
    "women_fighters.head()"
   ]
  },
  {
   "cell_type": "code",
   "execution_count": 420,
   "metadata": {},
   "outputs": [],
   "source": [
    "women_fighters.to_csv('data/women_fighters.csv',index=False)"
   ]
  },
  {
   "cell_type": "markdown",
   "metadata": {},
   "source": [
    "### We will create the new csv that contains the final dataset for Visualization purpose"
   ]
  },
  {
   "cell_type": "code",
   "execution_count": 829,
   "metadata": {},
   "outputs": [],
   "source": [
    "frames=[ mens_fighters, women_fighters]"
   ]
  },
  {
   "cell_type": "code",
   "execution_count": 830,
   "metadata": {},
   "outputs": [],
   "source": [
    "final_dataset= pd.concat(frames)"
   ]
  },
  {
   "cell_type": "code",
   "execution_count": 831,
   "metadata": {},
   "outputs": [
    {
     "data": {
      "text/html": [
       "<div>\n",
       "<style scoped>\n",
       "    .dataframe tbody tr th:only-of-type {\n",
       "        vertical-align: middle;\n",
       "    }\n",
       "\n",
       "    .dataframe tbody tr th {\n",
       "        vertical-align: top;\n",
       "    }\n",
       "\n",
       "    .dataframe thead th {\n",
       "        text-align: right;\n",
       "    }\n",
       "</style>\n",
       "<table border=\"1\" class=\"dataframe\">\n",
       "  <thead>\n",
       "    <tr style=\"text-align: right;\">\n",
       "      <th></th>\n",
       "      <th>R_fighter</th>\n",
       "      <th>B_fighter</th>\n",
       "      <th>Referee</th>\n",
       "      <th>date</th>\n",
       "      <th>location</th>\n",
       "      <th>Winner</th>\n",
       "      <th>title_bout</th>\n",
       "      <th>weight_class</th>\n",
       "      <th>no_of_rounds</th>\n",
       "      <th>B_current_lose_streak</th>\n",
       "      <th>...</th>\n",
       "      <th>R_wins</th>\n",
       "      <th>R_Stance</th>\n",
       "      <th>R_Height_cms</th>\n",
       "      <th>R_Reach_cms</th>\n",
       "      <th>R_Weight_lbs</th>\n",
       "      <th>B_age</th>\n",
       "      <th>R_age</th>\n",
       "      <th>gender</th>\n",
       "      <th>weight_diff_red-blue</th>\n",
       "      <th>height_diff_red-blue</th>\n",
       "    </tr>\n",
       "  </thead>\n",
       "  <tbody>\n",
       "    <tr>\n",
       "      <td>0</td>\n",
       "      <td>Henry Cejudo</td>\n",
       "      <td>Marlon Moraes</td>\n",
       "      <td>Marc Goddard</td>\n",
       "      <td>2019-06-08</td>\n",
       "      <td>Chicago, Illinois, USA</td>\n",
       "      <td>Red</td>\n",
       "      <td>True</td>\n",
       "      <td>Bantamweight</td>\n",
       "      <td>5</td>\n",
       "      <td>0.0</td>\n",
       "      <td>...</td>\n",
       "      <td>8.0</td>\n",
       "      <td>Orthodox</td>\n",
       "      <td>162.56</td>\n",
       "      <td>162.56</td>\n",
       "      <td>135.0</td>\n",
       "      <td>31.0</td>\n",
       "      <td>32.0</td>\n",
       "      <td>M</td>\n",
       "      <td>0.0</td>\n",
       "      <td>-5.08</td>\n",
       "    </tr>\n",
       "    <tr>\n",
       "      <td>2</td>\n",
       "      <td>Tony Ferguson</td>\n",
       "      <td>Donald Cerrone</td>\n",
       "      <td>Dan Miragliotta</td>\n",
       "      <td>2019-06-08</td>\n",
       "      <td>Chicago, Illinois, USA</td>\n",
       "      <td>Red</td>\n",
       "      <td>False</td>\n",
       "      <td>Lightweight</td>\n",
       "      <td>3</td>\n",
       "      <td>0.0</td>\n",
       "      <td>...</td>\n",
       "      <td>14.0</td>\n",
       "      <td>Orthodox</td>\n",
       "      <td>180.34</td>\n",
       "      <td>193.04</td>\n",
       "      <td>155.0</td>\n",
       "      <td>36.0</td>\n",
       "      <td>35.0</td>\n",
       "      <td>M</td>\n",
       "      <td>0.0</td>\n",
       "      <td>-5.08</td>\n",
       "    </tr>\n",
       "    <tr>\n",
       "      <td>3</td>\n",
       "      <td>Jimmie Rivera</td>\n",
       "      <td>Petr Yan</td>\n",
       "      <td>Kevin MacDonald</td>\n",
       "      <td>2019-06-08</td>\n",
       "      <td>Chicago, Illinois, USA</td>\n",
       "      <td>Blue</td>\n",
       "      <td>False</td>\n",
       "      <td>Bantamweight</td>\n",
       "      <td>3</td>\n",
       "      <td>0.0</td>\n",
       "      <td>...</td>\n",
       "      <td>6.0</td>\n",
       "      <td>Orthodox</td>\n",
       "      <td>162.56</td>\n",
       "      <td>172.72</td>\n",
       "      <td>135.0</td>\n",
       "      <td>26.0</td>\n",
       "      <td>29.0</td>\n",
       "      <td>M</td>\n",
       "      <td>0.0</td>\n",
       "      <td>-7.62</td>\n",
       "    </tr>\n",
       "    <tr>\n",
       "      <td>4</td>\n",
       "      <td>Tai Tuivasa</td>\n",
       "      <td>Blagoy Ivanov</td>\n",
       "      <td>Dan Miragliotta</td>\n",
       "      <td>2019-06-08</td>\n",
       "      <td>Chicago, Illinois, USA</td>\n",
       "      <td>Blue</td>\n",
       "      <td>False</td>\n",
       "      <td>Heavyweight</td>\n",
       "      <td>3</td>\n",
       "      <td>0.0</td>\n",
       "      <td>...</td>\n",
       "      <td>3.0</td>\n",
       "      <td>Southpaw</td>\n",
       "      <td>187.96</td>\n",
       "      <td>190.50</td>\n",
       "      <td>264.0</td>\n",
       "      <td>32.0</td>\n",
       "      <td>26.0</td>\n",
       "      <td>M</td>\n",
       "      <td>14.0</td>\n",
       "      <td>7.62</td>\n",
       "    </tr>\n",
       "    <tr>\n",
       "      <td>6</td>\n",
       "      <td>Aljamain Sterling</td>\n",
       "      <td>Pedro Munhoz</td>\n",
       "      <td>Marc Goddard</td>\n",
       "      <td>2019-06-08</td>\n",
       "      <td>Chicago, Illinois, USA</td>\n",
       "      <td>Red</td>\n",
       "      <td>False</td>\n",
       "      <td>Bantamweight</td>\n",
       "      <td>3</td>\n",
       "      <td>0.0</td>\n",
       "      <td>...</td>\n",
       "      <td>9.0</td>\n",
       "      <td>Orthodox</td>\n",
       "      <td>170.18</td>\n",
       "      <td>180.34</td>\n",
       "      <td>135.0</td>\n",
       "      <td>32.0</td>\n",
       "      <td>29.0</td>\n",
       "      <td>M</td>\n",
       "      <td>0.0</td>\n",
       "      <td>2.54</td>\n",
       "    </tr>\n",
       "    <tr>\n",
       "      <td>...</td>\n",
       "      <td>...</td>\n",
       "      <td>...</td>\n",
       "      <td>...</td>\n",
       "      <td>...</td>\n",
       "      <td>...</td>\n",
       "      <td>...</td>\n",
       "      <td>...</td>\n",
       "      <td>...</td>\n",
       "      <td>...</td>\n",
       "      <td>...</td>\n",
       "      <td>...</td>\n",
       "      <td>...</td>\n",
       "      <td>...</td>\n",
       "      <td>...</td>\n",
       "      <td>...</td>\n",
       "      <td>...</td>\n",
       "      <td>...</td>\n",
       "      <td>...</td>\n",
       "      <td>...</td>\n",
       "      <td>...</td>\n",
       "      <td>...</td>\n",
       "    </tr>\n",
       "    <tr>\n",
       "      <td>2813</td>\n",
       "      <td>Julie Kedzie</td>\n",
       "      <td>Germaine de Randamie</td>\n",
       "      <td>Randy Corley</td>\n",
       "      <td>2013-07-27</td>\n",
       "      <td>Seattle, Washington, USA</td>\n",
       "      <td>Blue</td>\n",
       "      <td>False</td>\n",
       "      <td>Women's Bantamweight</td>\n",
       "      <td>3</td>\n",
       "      <td>0.0</td>\n",
       "      <td>...</td>\n",
       "      <td>0.0</td>\n",
       "      <td>Orthodox</td>\n",
       "      <td>165.10</td>\n",
       "      <td>162.56</td>\n",
       "      <td>135.0</td>\n",
       "      <td>29.0</td>\n",
       "      <td>32.0</td>\n",
       "      <td>F</td>\n",
       "      <td>0.0</td>\n",
       "      <td>-10.16</td>\n",
       "    </tr>\n",
       "    <tr>\n",
       "      <td>2830</td>\n",
       "      <td>Alexis Davis</td>\n",
       "      <td>Rosi Sexton</td>\n",
       "      <td>Herb Dean</td>\n",
       "      <td>2013-06-15</td>\n",
       "      <td>Winnipeg, Manitoba, Canada</td>\n",
       "      <td>Red</td>\n",
       "      <td>False</td>\n",
       "      <td>Women's Bantamweight</td>\n",
       "      <td>3</td>\n",
       "      <td>0.0</td>\n",
       "      <td>...</td>\n",
       "      <td>0.0</td>\n",
       "      <td>Orthodox</td>\n",
       "      <td>167.64</td>\n",
       "      <td>172.72</td>\n",
       "      <td>125.0</td>\n",
       "      <td>35.0</td>\n",
       "      <td>28.0</td>\n",
       "      <td>F</td>\n",
       "      <td>-10.0</td>\n",
       "      <td>7.62</td>\n",
       "    </tr>\n",
       "    <tr>\n",
       "      <td>2882</td>\n",
       "      <td>Sara McMann</td>\n",
       "      <td>Sheila Gaff</td>\n",
       "      <td>Gasper Oliver</td>\n",
       "      <td>2013-04-27</td>\n",
       "      <td>Newark, New Jersey, USA</td>\n",
       "      <td>Red</td>\n",
       "      <td>False</td>\n",
       "      <td>Women's Bantamweight</td>\n",
       "      <td>3</td>\n",
       "      <td>0.0</td>\n",
       "      <td>...</td>\n",
       "      <td>0.0</td>\n",
       "      <td>Orthodox</td>\n",
       "      <td>167.64</td>\n",
       "      <td>167.64</td>\n",
       "      <td>135.0</td>\n",
       "      <td>23.0</td>\n",
       "      <td>32.0</td>\n",
       "      <td>F</td>\n",
       "      <td>0.0</td>\n",
       "      <td>2.54</td>\n",
       "    </tr>\n",
       "    <tr>\n",
       "      <td>2900</td>\n",
       "      <td>Miesha Tate</td>\n",
       "      <td>Cat Zingano</td>\n",
       "      <td>Kim Winslow</td>\n",
       "      <td>2013-04-13</td>\n",
       "      <td>Las Vegas, Nevada, USA</td>\n",
       "      <td>Blue</td>\n",
       "      <td>False</td>\n",
       "      <td>Women's Bantamweight</td>\n",
       "      <td>3</td>\n",
       "      <td>0.0</td>\n",
       "      <td>...</td>\n",
       "      <td>0.0</td>\n",
       "      <td>Orthodox</td>\n",
       "      <td>167.64</td>\n",
       "      <td>165.10</td>\n",
       "      <td>135.0</td>\n",
       "      <td>30.0</td>\n",
       "      <td>26.0</td>\n",
       "      <td>F</td>\n",
       "      <td>-10.0</td>\n",
       "      <td>0.00</td>\n",
       "    </tr>\n",
       "    <tr>\n",
       "      <td>2946</td>\n",
       "      <td>Ronda Rousey</td>\n",
       "      <td>Liz Carmouche</td>\n",
       "      <td>John McCarthy</td>\n",
       "      <td>2013-02-23</td>\n",
       "      <td>Anaheim, California, USA</td>\n",
       "      <td>Red</td>\n",
       "      <td>True</td>\n",
       "      <td>Women's Bantamweight</td>\n",
       "      <td>5</td>\n",
       "      <td>0.0</td>\n",
       "      <td>...</td>\n",
       "      <td>0.0</td>\n",
       "      <td>Orthodox</td>\n",
       "      <td>170.18</td>\n",
       "      <td>172.72</td>\n",
       "      <td>135.0</td>\n",
       "      <td>29.0</td>\n",
       "      <td>26.0</td>\n",
       "      <td>F</td>\n",
       "      <td>10.0</td>\n",
       "      <td>2.54</td>\n",
       "    </tr>\n",
       "  </tbody>\n",
       "</table>\n",
       "<p>5144 rows × 148 columns</p>\n",
       "</div>"
      ],
      "text/plain": [
       "              R_fighter             B_fighter          Referee        date  \\\n",
       "0          Henry Cejudo         Marlon Moraes     Marc Goddard  2019-06-08   \n",
       "2         Tony Ferguson        Donald Cerrone  Dan Miragliotta  2019-06-08   \n",
       "3         Jimmie Rivera              Petr Yan  Kevin MacDonald  2019-06-08   \n",
       "4           Tai Tuivasa         Blagoy Ivanov  Dan Miragliotta  2019-06-08   \n",
       "6     Aljamain Sterling          Pedro Munhoz     Marc Goddard  2019-06-08   \n",
       "...                 ...                   ...              ...         ...   \n",
       "2813       Julie Kedzie  Germaine de Randamie     Randy Corley  2013-07-27   \n",
       "2830       Alexis Davis           Rosi Sexton        Herb Dean  2013-06-15   \n",
       "2882        Sara McMann           Sheila Gaff    Gasper Oliver  2013-04-27   \n",
       "2900        Miesha Tate           Cat Zingano      Kim Winslow  2013-04-13   \n",
       "2946       Ronda Rousey         Liz Carmouche    John McCarthy  2013-02-23   \n",
       "\n",
       "                        location Winner  title_bout          weight_class  \\\n",
       "0         Chicago, Illinois, USA    Red        True          Bantamweight   \n",
       "2         Chicago, Illinois, USA    Red       False           Lightweight   \n",
       "3         Chicago, Illinois, USA   Blue       False          Bantamweight   \n",
       "4         Chicago, Illinois, USA   Blue       False           Heavyweight   \n",
       "6         Chicago, Illinois, USA    Red       False          Bantamweight   \n",
       "...                          ...    ...         ...                   ...   \n",
       "2813    Seattle, Washington, USA   Blue       False  Women's Bantamweight   \n",
       "2830  Winnipeg, Manitoba, Canada    Red       False  Women's Bantamweight   \n",
       "2882     Newark, New Jersey, USA    Red       False  Women's Bantamweight   \n",
       "2900      Las Vegas, Nevada, USA   Blue       False  Women's Bantamweight   \n",
       "2946    Anaheim, California, USA    Red        True  Women's Bantamweight   \n",
       "\n",
       "      no_of_rounds  B_current_lose_streak  ...  R_wins  R_Stance  \\\n",
       "0                5                    0.0  ...     8.0  Orthodox   \n",
       "2                3                    0.0  ...    14.0  Orthodox   \n",
       "3                3                    0.0  ...     6.0  Orthodox   \n",
       "4                3                    0.0  ...     3.0  Southpaw   \n",
       "6                3                    0.0  ...     9.0  Orthodox   \n",
       "...            ...                    ...  ...     ...       ...   \n",
       "2813             3                    0.0  ...     0.0  Orthodox   \n",
       "2830             3                    0.0  ...     0.0  Orthodox   \n",
       "2882             3                    0.0  ...     0.0  Orthodox   \n",
       "2900             3                    0.0  ...     0.0  Orthodox   \n",
       "2946             5                    0.0  ...     0.0  Orthodox   \n",
       "\n",
       "      R_Height_cms  R_Reach_cms  R_Weight_lbs  B_age  R_age  gender  \\\n",
       "0           162.56       162.56         135.0   31.0   32.0       M   \n",
       "2           180.34       193.04         155.0   36.0   35.0       M   \n",
       "3           162.56       172.72         135.0   26.0   29.0       M   \n",
       "4           187.96       190.50         264.0   32.0   26.0       M   \n",
       "6           170.18       180.34         135.0   32.0   29.0       M   \n",
       "...            ...          ...           ...    ...    ...     ...   \n",
       "2813        165.10       162.56         135.0   29.0   32.0       F   \n",
       "2830        167.64       172.72         125.0   35.0   28.0       F   \n",
       "2882        167.64       167.64         135.0   23.0   32.0       F   \n",
       "2900        167.64       165.10         135.0   30.0   26.0       F   \n",
       "2946        170.18       172.72         135.0   29.0   26.0       F   \n",
       "\n",
       "      weight_diff_red-blue  height_diff_red-blue  \n",
       "0                      0.0                 -5.08  \n",
       "2                      0.0                 -5.08  \n",
       "3                      0.0                 -7.62  \n",
       "4                     14.0                  7.62  \n",
       "6                      0.0                  2.54  \n",
       "...                    ...                   ...  \n",
       "2813                   0.0                -10.16  \n",
       "2830                 -10.0                  7.62  \n",
       "2882                   0.0                  2.54  \n",
       "2900                 -10.0                  0.00  \n",
       "2946                  10.0                  2.54  \n",
       "\n",
       "[5144 rows x 148 columns]"
      ]
     },
     "execution_count": 831,
     "metadata": {},
     "output_type": "execute_result"
    }
   ],
   "source": [
    "pd.DataFrame(final_dataset)"
   ]
  },
  {
   "cell_type": "code",
   "execution_count": 832,
   "metadata": {},
   "outputs": [
    {
     "data": {
      "text/plain": [
       "(5144, 148)"
      ]
     },
     "execution_count": 832,
     "metadata": {},
     "output_type": "execute_result"
    }
   ],
   "source": [
    "final_dataset.shape"
   ]
  },
  {
   "cell_type": "code",
   "execution_count": 833,
   "metadata": {},
   "outputs": [
    {
     "data": {
      "text/plain": [
       "M    4830\n",
       "F     314\n",
       "Name: gender, dtype: int64"
      ]
     },
     "execution_count": 833,
     "metadata": {},
     "output_type": "execute_result"
    }
   ],
   "source": [
    "final_dataset.gender.value_counts()"
   ]
  },
  {
   "cell_type": "code",
   "execution_count": 421,
   "metadata": {},
   "outputs": [],
   "source": [
    "final_dataset.to_csv('data/final_dataset.csv',index=False)"
   ]
  },
  {
   "cell_type": "markdown",
   "metadata": {},
   "source": [
    "### We will create the new csv that contain the individual information about the fighter"
   ]
  },
  {
   "cell_type": "code",
   "execution_count": 834,
   "metadata": {},
   "outputs": [],
   "source": [
    "fighters_description=pd.DataFrame(final_dataset[[\"R_fighter\",'R_Weight_lbs','R_Height_cms','R_Stance']])"
   ]
  },
  {
   "cell_type": "code",
   "execution_count": 835,
   "metadata": {},
   "outputs": [],
   "source": [
    "fighters_description= fighters_description.rename(columns={\"R_fighter\":\"fighter_name\",\"R_Weight_lbs\":\"weight_lbs\",\"R_Height_cms\":\"height_cms\",\"R_Stance\":\"stance\"})"
   ]
  },
  {
   "cell_type": "code",
   "execution_count": 836,
   "metadata": {},
   "outputs": [],
   "source": [
    "fighters_description.drop_duplicates(inplace=True)"
   ]
  },
  {
   "cell_type": "code",
   "execution_count": 837,
   "metadata": {
    "scrolled": true
   },
   "outputs": [
    {
     "data": {
      "text/html": [
       "<div>\n",
       "<style scoped>\n",
       "    .dataframe tbody tr th:only-of-type {\n",
       "        vertical-align: middle;\n",
       "    }\n",
       "\n",
       "    .dataframe tbody tr th {\n",
       "        vertical-align: top;\n",
       "    }\n",
       "\n",
       "    .dataframe thead th {\n",
       "        text-align: right;\n",
       "    }\n",
       "</style>\n",
       "<table border=\"1\" class=\"dataframe\">\n",
       "  <thead>\n",
       "    <tr style=\"text-align: right;\">\n",
       "      <th></th>\n",
       "      <th>fighter_name</th>\n",
       "      <th>weight_lbs</th>\n",
       "      <th>height_cms</th>\n",
       "      <th>stance</th>\n",
       "    </tr>\n",
       "  </thead>\n",
       "  <tbody>\n",
       "    <tr>\n",
       "      <td>0</td>\n",
       "      <td>Henry Cejudo</td>\n",
       "      <td>135.0</td>\n",
       "      <td>162.56</td>\n",
       "      <td>Orthodox</td>\n",
       "    </tr>\n",
       "    <tr>\n",
       "      <td>2</td>\n",
       "      <td>Tony Ferguson</td>\n",
       "      <td>155.0</td>\n",
       "      <td>180.34</td>\n",
       "      <td>Orthodox</td>\n",
       "    </tr>\n",
       "    <tr>\n",
       "      <td>3</td>\n",
       "      <td>Jimmie Rivera</td>\n",
       "      <td>135.0</td>\n",
       "      <td>162.56</td>\n",
       "      <td>Orthodox</td>\n",
       "    </tr>\n",
       "    <tr>\n",
       "      <td>4</td>\n",
       "      <td>Tai Tuivasa</td>\n",
       "      <td>264.0</td>\n",
       "      <td>187.96</td>\n",
       "      <td>Southpaw</td>\n",
       "    </tr>\n",
       "    <tr>\n",
       "      <td>6</td>\n",
       "      <td>Aljamain Sterling</td>\n",
       "      <td>135.0</td>\n",
       "      <td>170.18</td>\n",
       "      <td>Orthodox</td>\n",
       "    </tr>\n",
       "  </tbody>\n",
       "</table>\n",
       "</div>"
      ],
      "text/plain": [
       "        fighter_name  weight_lbs  height_cms    stance\n",
       "0       Henry Cejudo       135.0      162.56  Orthodox\n",
       "2      Tony Ferguson       155.0      180.34  Orthodox\n",
       "3      Jimmie Rivera       135.0      162.56  Orthodox\n",
       "4        Tai Tuivasa       264.0      187.96  Southpaw\n",
       "6  Aljamain Sterling       135.0      170.18  Orthodox"
      ]
     },
     "execution_count": 837,
     "metadata": {},
     "output_type": "execute_result"
    }
   ],
   "source": [
    "fighters_description.head()"
   ]
  },
  {
   "cell_type": "code",
   "execution_count": 838,
   "metadata": {},
   "outputs": [
    {
     "data": {
      "text/plain": [
       "(1334, 4)"
      ]
     },
     "execution_count": 838,
     "metadata": {},
     "output_type": "execute_result"
    }
   ],
   "source": [
    "fighters_description.shape"
   ]
  },
  {
   "cell_type": "code",
   "execution_count": 422,
   "metadata": {},
   "outputs": [],
   "source": [
    "fighters_description.to_csv('data/fighters_description.csv',index=False)"
   ]
  }
 ],
 "metadata": {
  "kernelspec": {
   "display_name": "Python 3",
   "language": "python",
   "name": "python3"
  },
  "language_info": {
   "codemirror_mode": {
    "name": "ipython",
    "version": 3
   },
   "file_extension": ".py",
   "mimetype": "text/x-python",
   "name": "python",
   "nbconvert_exporter": "python",
   "pygments_lexer": "ipython3",
   "version": "3.7.6"
  }
 },
 "nbformat": 4,
 "nbformat_minor": 4
}
